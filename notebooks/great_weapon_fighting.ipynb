{
 "cells": [
  {
   "cell_type": "markdown",
   "id": "e958429f",
   "metadata": {},
   "source": [
    "## [``dyce``](https://posita.github.io/dyce/) translation of the accepted answer to “[Roll and Keep in Anydice?](https://rpg.stackexchange.com/a/166637)”\n",
    "\n",
    "Select ``Run All Cells`` from the ``Run`` menu above."
   ]
  },
  {
   "cell_type": "code",
   "execution_count": 1,
   "id": "74f6ee22-419e-448b-84f3-d7087b1144dd",
   "metadata": {},
   "outputs": [],
   "source": [
    "# Install additional requirements if necessary\n",
    "try:\n",
    "    import anydyce\n",
    "    import dyce\n",
    "    import ipywidgets\n",
    "except ImportError:\n",
    "    requirements = [\n",
    "        \"anydyce>=0.1.4,<0.2\",\n",
    "        \"dyce>=0.5.2,<0.6\",\n",
    "        \"ipywidgets\",\n",
    "    ]\n",
    "    try:\n",
    "        import piplite\n",
    "        await piplite.install(requirements)\n",
    "    except ImportError:\n",
    "        import pip\n",
    "        pip.main([\"install\"] + requirements)"
   ]
  },
  {
   "cell_type": "code",
   "execution_count": 2,
   "id": "8eb904dd-0557-400d-b16d-04155aa06ad6",
   "metadata": {},
   "outputs": [],
   "source": [
    "from dyce import H\n",
    "\n",
    "single_attack = 2 @ H(6) + 5\n",
    "\n",
    "def gwf(h: H, outcome):\n",
    "    return h if outcome in (1, 2) else outcome\n",
    "\n",
    "great_weapon_fighting = 2 @ (H(6).substitute(gwf)) + 5"
   ]
  },
  {
   "cell_type": "code",
   "execution_count": null,
   "id": "2b195ca9",
   "metadata": {},
   "outputs": [],
   "source": [
    "from anydyce.viz import BreakoutType, jupyter_visualize\n",
    "\n",
    "jupyter_visualize(\n",
    "    [\n",
    "        (\"Normal attack\", single_attack),\n",
    "        (\"“Great Weapon Fighting”\", great_weapon_fighting),\n",
    "    ],\n",
    "    default_breakout_type=BreakoutType.BURST,\n",
    ")"
   ]
  }
 ],
 "metadata": {
  "kernelspec": {
   "display_name": "Python 3 (ipykernel)",
   "language": "python",
   "name": "python3"
  },
  "language_info": {
   "codemirror_mode": {
    "name": "ipython",
    "version": 3
   },
   "file_extension": ".py",
   "mimetype": "text/x-python",
   "name": "python",
   "nbconvert_exporter": "python",
   "pygments_lexer": "ipython3",
   "version": "3.9.10"
  }
 },
 "nbformat": 4,
 "nbformat_minor": 5
}
