{
 "cells": [
  {
   "cell_type": "markdown",
   "id": "af5b1b97-0651-417c-9c1e-65de452eed47",
   "metadata": {},
   "source": [
    "Launch interactive version: 👉👉👉 [![Try ``dyce``](https://jupyterlite.readthedocs.io/en/latest/_static/badge.svg)](https://posita.github.io/dyce-notebooks/lab?path=github%2Fbitd-posita-dyce-9%2Fbitd.ipynb) 👈👈👈 *[[source](https://github.com/posita/dyce-notebooks/tree/main/notebooks/github/bitd-posita-dyce-9)]*\n",
    "\n",
    "## [``dyce``](https://posita.github.io/dyce/) solution to [“BitD Example”](https://github.com/posita/dyce/discussions/9)\n",
    "\n",
    "Once viewing this notebook in Jupyter Lab, select ``Run All Cells`` from the ``Run`` menu above."
   ]
  },
  {
   "cell_type": "code",
   "execution_count": 1,
   "id": "c371b9b7-3f66-42aa-a467-3f9e95f54840",
   "metadata": {},
   "outputs": [],
   "source": [
    "# Install additional requirements if necessary\n",
    "import warnings\n",
    "with warnings.catch_warnings():\n",
    "    warnings.simplefilter(\"ignore\")\n",
    "    try:\n",
    "        import anydyce\n",
    "    except (ImportError, ModuleNotFoundError):\n",
    "        requirements = [\"anydyce~=0.4.0\"]\n",
    "        try:\n",
    "            import piplite ; await piplite.install(requirements)\n",
    "            # Work around <https://github.com/jupyterlite/jupyterlite/issues/838>\n",
    "            import matplotlib.pyplot ; matplotlib.pyplot.clf()\n",
    "        except ImportError:\n",
    "            import pip ; pip.main([\"install\"] + requirements)\n",
    "    import anydyce"
   ]
  },
  {
   "cell_type": "code",
   "execution_count": 2,
   "id": "681652c8-181a-4917-b8df-61fe97dff19f",
   "metadata": {},
   "outputs": [
    {
     "name": "stdout",
     "output_type": "stream",
     "text": [
      "136 µs ± 1.45 µs per loop (mean ± std. dev. of 7 runs, 10,000 loops each)\n"
     ]
    }
   ],
   "source": [
    "from dyce import H, P\n",
    "from dyce.evaluation import PResult, PWithSelection, foreach\n",
    "from enum import IntEnum, auto\n",
    "\n",
    "class BitdResult(IntEnum):\n",
    "    BAD_TIMES = auto()\n",
    "    MESSY_SUCCESS = auto()\n",
    "    CLEAN_SUCCESS = auto()\n",
    "    CRITICAL_SUCCESS = auto()\n",
    "\n",
    "d_bitd = H((\n",
    "    BitdResult.BAD_TIMES,  # 1\n",
    "    BitdResult.BAD_TIMES,  # 2\n",
    "    BitdResult.BAD_TIMES,  # 3\n",
    "    BitdResult.MESSY_SUCCESS,  # 4\n",
    "    BitdResult.MESSY_SUCCESS,  # 5\n",
    "    BitdResult.CLEAN_SUCCESS,  # 6\n",
    "))\n",
    "\n",
    "def bitd(n: int) -> H:\n",
    "    assert n >= 0\n",
    "\n",
    "    def _mechanic(res: PResult):\n",
    "        assert len(res.roll) >= 2\n",
    "        if res.roll[-2] == BitdResult.CLEAN_SUCCESS:\n",
    "            # Because rolls are ordered least-to-greatest, if the penultimate\n",
    "            # value is a clean success (i.e., a six), then the ultimate value\n",
    "            # must be one as well; in other words, we have at least two clean\n",
    "            # successes (sixes) and therefore a critical success\n",
    "            return BitdResult.CRITICAL_SUCCESS\n",
    "        else:\n",
    "            # Return the highest value, whatever it may be\n",
    "            return BitdResult(res.roll[-1])\n",
    "\n",
    "    if n == 0:\n",
    "        # Take lower of two dice (no critical success possible)\n",
    "        return (2 @ P(d_bitd)).h(0)\n",
    "    elif n == 1:\n",
    "        # Just return a single die (also no critical success possible)\n",
    "        return d_bitd\n",
    "    else:\n",
    "        # We're rolling a pool of dice, so engage our mechanic\n",
    "        return foreach(_mechanic, PWithSelection(n @ P(d_bitd), (slice(-2, None),)))\n",
    "\n",
    "%timeit bitd(30)  # works for huge pools"
   ]
  },
  {
   "cell_type": "code",
   "execution_count": 3,
   "id": "09199085-170b-4c4d-8933-95e95b3db1c5",
   "metadata": {},
   "outputs": [
    {
     "data": {
      "application/vnd.jupyter.widget-view+json": {
       "model_id": "650e3f9181e842a6a551d5d6e2def28a",
       "version_major": 2,
       "version_minor": 0
      },
      "text/plain": [
       "VBox(children=(Accordion(children=(Tab(children=(VBox(children=(HBox(children=(VBox(children=(VBox(children=(C…"
      ]
     },
     "metadata": {},
     "output_type": "display_data"
    }
   ],
   "source": [
    "from anydyce import jupyter_visualize\n",
    "\n",
    "results: list[str, H] = []\n",
    "\n",
    "for n in range(9):\n",
    "    h = bitd(n)\n",
    "    h = H((BitdResult(outcome), count) for outcome, count in h.items())  # reconstruct with enum outcomes\n",
    "    results.append((f\"{n}d\", h))\n",
    "\n",
    "jupyter_visualize(results, initial_burst_zero_fill_normalize=True)"
   ]
  }
 ],
 "metadata": {
  "kernelspec": {
   "display_name": "Python 3 (ipykernel)",
   "language": "python",
   "name": "python3"
  },
  "language_info": {
   "codemirror_mode": {
    "name": "ipython",
    "version": 3
   },
   "file_extension": ".py",
   "mimetype": "text/x-python",
   "name": "python",
   "nbconvert_exporter": "python",
   "pygments_lexer": "ipython3",
   "version": "3.11.4"
  }
 },
 "nbformat": 4,
 "nbformat_minor": 5
}
