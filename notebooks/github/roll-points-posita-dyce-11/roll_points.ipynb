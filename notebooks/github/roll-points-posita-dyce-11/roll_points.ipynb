{
 "cells": [
  {
   "cell_type": "markdown",
   "metadata": {},
   "source": [
    "Launch interactive version: 👉👉👉 [![Try ``dyce``](https://jupyterlite.readthedocs.io/en/latest/_static/badge.svg)](https://posita.github.io/dyce-notebooks/lab?path=github%2Froll-points-posita-dyce-11%2Froll_points.ipynb) 👈👈👈 *[[source](https://github.com/posita/dyce-notebooks/tree/main/notebooks/github/roll-points-posita-dyce-11)]*\n",
    "\n",
    "## [``dyce``](https://posita.github.io/dyce/) and [Icepool](https://github.com/HighDiceRoller/icepool) solution to [“Count Dice equal to the dice target, and increase dice up to the dice target with total of Roll points mechanic help.”](https://github.com/posita/dyce/discussions/11#discussioncomment-5493832)\n",
    "\n",
    "Once viewing this notebook in Jupyter Lab, select ``Run All Cells`` from the ``Run`` menu above."
   ]
  },
  {
   "cell_type": "code",
   "execution_count": 1,
   "metadata": {},
   "outputs": [],
   "source": [
    "# Install additional requirements if necessary\n",
    "import warnings\n",
    "with warnings.catch_warnings():\n",
    "    warnings.simplefilter(\"ignore\")\n",
    "    try:\n",
    "        import anydyce, icepool\n",
    "    except (ImportError, ModuleNotFoundError):\n",
    "        requirements = [\"anydyce~=0.4.0\", \"icepool~=0.25.3\"]\n",
    "        try:\n",
    "            import piplite ; await piplite.install(requirements)\n",
    "            # Work around <https://github.com/jupyterlite/jupyterlite/issues/838>\n",
    "            import matplotlib.pyplot ; matplotlib.pyplot.clf()\n",
    "        except ImportError:\n",
    "            import pip ; pip.main([\"install\"] + requirements)\n",
    "    import anydyce\n",
    "\n",
    "\n",
    "try:\n",
    "    import showit\n",
    "except ImportError:\n",
    "    # Work-around for JupyterLite in non-Chromium browsers\n",
    "    import js\n",
    "    import os\n",
    "    from urllib.parse import urljoin, urlparse, urlunparse\n",
    "    loc_url = urlparse(js.location.toString())\n",
    "    ext_root = loc_url.path.find(\"/extensions/@jupyterlite/\")\n",
    "    if ext_root < 0:\n",
    "        base_url = urljoin(js.location.toString(), \"../files/\")\n",
    "    else:\n",
    "        loc_url = loc_url._replace(path=loc_url.path[:ext_root])\n",
    "        base_url = urljoin(urlunparse(loc_url), \"files/\")\n",
    "    for path in (\n",
    "                \"github/roll-points-posita-dyce-11/showit.py\",\n",
    "            ):\n",
    "        url = urljoin(base_url, path)\n",
    "        res = await js.fetch(url)\n",
    "        assert 200 <= res.status < 300\n",
    "        text = await res.text()\n",
    "        with open(os.path.basename(path), \"w\") as f:\n",
    "            f.write(text)\n",
    "    import showit"
   ]
  },
  {
   "cell_type": "markdown",
   "metadata": {},
   "source": [
    "## First Attempt: “Optimized” Exploded Die\n",
    "\n",
    "Truly exploding dice can theoretically explode forever.\n",
    "In this approach, we craft an exploded die just big enough to accommodate the target number and collapse outcomes that have no hope of ever acheiving the target, even with available roll points. Then we subject that die to the core mechanic."
   ]
  },
  {
   "cell_type": "code",
   "execution_count": 2,
   "metadata": {},
   "outputs": [],
   "source": [
    "from dyce import H\n",
    "from dyce.evaluation import explode\n",
    "d20 = H(20)\n",
    "DEFAULT_DIE = d20"
   ]
  },
  {
   "cell_type": "code",
   "execution_count": 3,
   "metadata": {},
   "outputs": [
    {
     "data": {
      "text/plain": [
       "H({-3: 20, -2: 840, -1: 11760, 0: 54880, 1: 82173, 2: 10016, 3: 311})"
      ]
     },
     "execution_count": 3,
     "metadata": {},
     "output_type": "execute_result"
    }
   ],
   "source": [
    "from dyce import P\n",
    "from dyce.evaluation import PResult, foreach\n",
    "\n",
    "def mechanic_w_optimized_die(pool_size: int, roll_points_available: int, target: int, die: H = DEFAULT_DIE) -> H:\n",
    "    # Sanity checks\n",
    "    assert target >= 2\n",
    "    max_die_val = max(die)\n",
    "    assert max_die_val >= 2\n",
    "    assert min(die) == 1\n",
    "    explosions_needed_to_hit_target = target // max_die_val + int(target % max_die_val != 0) - 1\n",
    "    # Make an \"exploded\" die just big enough to accommodate the target\n",
    "    # (exploding dice can be expanded theoretically infinitely)\n",
    "    exploded_die = explode(die, limit=explosions_needed_to_hit_target)\n",
    "    assert max(exploded_die) - max_die_val < target <= max(exploded_die)\n",
    "    # Collapse all outcomes from our exploded die that have no hope of\n",
    "    # being elevated to the target, even with roll points\n",
    "    optimized_die = H(((outcome if outcome == 1 or outcome + roll_points_available >= target else 0, count) for outcome, count in exploded_die.items()))\n",
    "    def _eval(result: PResult):\n",
    "        roll_points_left = roll_points_available\n",
    "        result_points = 0\n",
    "        nat_ones = 0\n",
    "        # Rolls' outcomes are sorted lowest to highest, but we want to\n",
    "        # examine them in reverse\n",
    "        for outcome in result.roll[::-1]:\n",
    "            if outcome >= target:\n",
    "                result_points += 1\n",
    "            elif outcome == 1:\n",
    "                nat_ones += 1\n",
    "            elif roll_points_left > 0:\n",
    "                # We have roll points left, so if we can cover the\n",
    "                # delta between the current outcome and the target\n",
    "                # without going negative, we can count this outcome as\n",
    "                # meeting the target\n",
    "                roll_points_left -= target - outcome\n",
    "                if roll_points_left >= 0:\n",
    "                    result_points += 1\n",
    "        return result_points if result_points else -nat_ones\n",
    "\n",
    "    return foreach(_eval, pool_size @ P(optimized_die))\n",
    "\n",
    "mechanic_w_optimized_die(pool_size=3, roll_points_available=6, target=22)"
   ]
  },
  {
   "cell_type": "markdown",
   "metadata": {},
   "source": [
    "## Second Attempt: Explode Inline and Recurse\n",
    "\n",
    "Another idea is to only explode a die when necessary as part of the core mechanic itself.\n",
    "This is doable, but complicates the implementation substantially.\n",
    "Perhaps unsurprisingly, this does not provide a performance improvement over the “optimized” exploded die approach."
   ]
  },
  {
   "cell_type": "code",
   "execution_count": 4,
   "metadata": {},
   "outputs": [
    {
     "data": {
      "text/plain": [
       "H({-3: 20, -2: 840, -1: 11760, 0: 54880, 1: 82173, 2: 10016, 3: 311})"
      ]
     },
     "execution_count": 4,
     "metadata": {},
     "output_type": "execute_result"
    }
   ],
   "source": [
    "def mechanic_w_recursive_inline_explosion(pool_size: int, roll_points_available: int, target: int, die: H = DEFAULT_DIE) -> H:\n",
    "    assert target >= 2\n",
    "    assert min(die) == 1\n",
    "    max_die_val = max(die)\n",
    "    assert max_die_val >= 2\n",
    "    explosions_needed_to_hit_target = target // max_die_val + int(target % max_die_val != 0) - 1\n",
    "    explosion_val_limit = (explosions_needed_to_hit_target + 1) * max_die_val\n",
    "    assert (explosion_val_limit - max_die_val) < target <= explosion_val_limit\n",
    "    def _explode_roll(done_part: tuple[int], exploding_part: tuple[int]) -> H:\n",
    "        def _eval(result: PResult):\n",
    "            # Sanity checks\n",
    "            assert len(result.roll) == len(exploding_part)\n",
    "            # Add the newly-exploded outcomes to the prior values\n",
    "            exploded_roll = tuple(a + b for a, b in zip(exploding_part, result.roll))\n",
    "            exploded_done = tuple(outcome for outcome in exploded_roll if outcome >= target or outcome % max_die_val != 0)\n",
    "            still_exploding_part = tuple(outcome for outcome in exploded_roll if outcome < target and outcome % max_die_val == 0)\n",
    "            now_done_part = done_part + exploded_done\n",
    "            if still_exploding_part:\n",
    "                # Recurse if we still have unexploded dice that can\n",
    "                # still reach the target\n",
    "                return _explode_roll(now_done_part, still_exploding_part)\n",
    "            elif len(now_done_part) == pool_size:\n",
    "                # We're done exploding, so compute and return the\n",
    "                # results (similar to mechanic_w_optimized_die\n",
    "                # above)\n",
    "                assert len(now_done_part) == pool_size, f\"{now_done_part}\"\n",
    "                assert all(outcome <= explosion_val_limit for outcome in done_part)\n",
    "                roll_points_left = roll_points_available\n",
    "                result_points = 0\n",
    "                nat_ones = 0\n",
    "                for outcome in now_done_part[::-1]:\n",
    "                    if outcome >= target:\n",
    "                        result_points += 1\n",
    "                    elif outcome == 1:\n",
    "                        nat_ones += 1\n",
    "                    elif roll_points_left > 0:\n",
    "                        roll_points_left -= target - outcome\n",
    "                        if roll_points_left >= 0:\n",
    "                            result_points += 1\n",
    "                return result_points if result_points else -nat_ones\n",
    "            else:\n",
    "                # We should never be here\n",
    "                assert False, f\"{now_done_part}, {still_exploding_part}\"\n",
    "        \n",
    "        return foreach(_eval, len(exploding_part) @ P(die), limit=-1)\n",
    "    \n",
    "    return _explode_roll((), (0,) * pool_size)\n",
    "\n",
    "mechanic_w_recursive_inline_explosion(pool_size=3, roll_points_available=6, target=22)"
   ]
  },
  {
   "cell_type": "markdown",
   "metadata": {},
   "source": [
    "## Third Attempt: Introducing [Icepool](https://github.com/HighDiceRoller/icepool)\n",
    "\n",
    "Both of the above approaches are not useful in practice because neither are performant beyond trivially small inputs.\n",
    "Albert Julius Liu’s Icepool has a learning curve, but where one can wrap one’s head around the computation model, it is great at dealing with lots of dice or dice with lots of sides.\n",
    "This is particularly helpful with mechanics that involve lots of d20s, like this one.\n",
    "We use a similar technique as above to create a pre-exploded die that is “optimized” to the target number."
   ]
  },
  {
   "cell_type": "code",
   "execution_count": 5,
   "metadata": {},
   "outputs": [
    {
     "data": {
      "text/plain": [
       "H({-3: 20, -2: 840, -1: 11760, 0: 54880, 1: 82173, 2: 10016, 3: 311})"
      ]
     },
     "execution_count": 5,
     "metadata": {},
     "output_type": "execute_result"
    }
   ],
   "source": [
    "import icepool\n",
    "from collections import Counter\n",
    "from dataclasses import dataclass\n",
    "\n",
    "@dataclass(frozen=True)\n",
    "class State:\n",
    "    roll_points_left: int\n",
    "    nat_ones: int = 0\n",
    "    result_points: int = 0\n",
    "\n",
    "class Mechanic(icepool.MultisetEvaluator):\n",
    "    def __init__(self, roll_points_available: int, target: int):\n",
    "        self._roll_points_available = roll_points_available\n",
    "        self._target = target\n",
    "\n",
    "    def final_outcome(self, final_state) -> int:\n",
    "        return final_state.result_points if final_state.result_points > 0 else -final_state.nat_ones\n",
    "\n",
    "    def next_state(self, state, outcome, count):\n",
    "        if state is None:\n",
    "            state = State(roll_points_left=self._roll_points_available)\n",
    "        if outcome >= self._target:\n",
    "            state = State(\n",
    "                roll_points_left=state.roll_points_left,\n",
    "                nat_ones=state.nat_ones,\n",
    "                result_points=state.result_points + count,\n",
    "            )\n",
    "        elif outcome == 1:\n",
    "            state = State(\n",
    "                roll_points_left=state.roll_points_left,\n",
    "                nat_ones=state.nat_ones + count,\n",
    "                result_points=state.result_points,\n",
    "            )\n",
    "        else:\n",
    "            diff_to_target = self._target - outcome\n",
    "            new_result_points = min(state.roll_points_left // diff_to_target, count)\n",
    "            state = State(\n",
    "                roll_points_left=state.roll_points_left - new_result_points * diff_to_target,\n",
    "                nat_ones=state.nat_ones,\n",
    "                result_points=state.result_points + new_result_points,\n",
    "            )\n",
    "        return state\n",
    "\n",
    "    def order(self, *_) -> icepool.Order:\n",
    "        return icepool.Order.Descending\n",
    "\n",
    "def _mechanic_icepool(pool_size: int, roll_points_available: int, target: int, die: icepool.Die) -> icepool.Die:\n",
    "    assert target >= 2\n",
    "    assert min(die) == 1\n",
    "    max_die_val = max(die)\n",
    "    assert max_die_val >= 2\n",
    "    explosions_needed_to_hit_target = target // max_die_val + int(target % max_die_val != 0) - 1\n",
    "    exploded_die = die.explode(depth=explosions_needed_to_hit_target)\n",
    "    assert max(exploded_die) - max_die_val < target <= max(exploded_die)\n",
    "    optimized_outcome_counts = Counter()\n",
    "    for outcome, count in exploded_die.items():\n",
    "        optimized_outcome_counts[outcome if outcome == 1 or outcome + roll_points_available >= target else 0] += count\n",
    "    optimized_die = icepool.Die(optimized_outcome_counts)\n",
    "    mechanic = Mechanic(roll_points_available, target)\n",
    "    return mechanic(optimized_die.pool(pool_size))\n",
    "\n",
    "def mechanic_icepool_dyce_wrapper(pool_size: int, roll_points_available: int, target: int, die: H = DEFAULT_DIE) -> H:\n",
    "    return H(_mechanic_icepool(pool_size, roll_points_available, target, die=icepool.Die(die))).lowest_terms()\n",
    "\n",
    "mechanic_icepool_dyce_wrapper(pool_size=3, roll_points_available=6, target=22)"
   ]
  },
  {
   "cell_type": "markdown",
   "metadata": {},
   "source": [
    "## Visualization\n",
    "\n",
    "We also easily translate from Icepool to `dyce` primitives for use with [`anydyce`](https://github.com/posita/anydyce)’s visualization tools."
   ]
  },
  {
   "cell_type": "code",
   "execution_count": 6,
   "metadata": {},
   "outputs": [
    {
     "data": {
      "application/vnd.jupyter.widget-view+json": {
       "model_id": "ec48d22caa68481d8c76f975fe31a0ee",
       "version_major": 2,
       "version_minor": 0
      },
      "text/plain": [
       "VBox(children=(BoundedIntText(value=5, description='Pool Size', max=20, min=1), BoundedIntText(value=10, descr…"
      ]
     },
     "metadata": {},
     "output_type": "display_data"
    },
    {
     "data": {
      "application/vnd.jupyter.widget-view+json": {
       "model_id": "41784f2984a74716952ad671c1d6905f",
       "version_major": 2,
       "version_minor": 0
      },
      "text/plain": [
       "Output()"
      ]
     },
     "metadata": {},
     "output_type": "display_data"
    },
    {
     "data": {
      "application/vnd.jupyter.widget-view+json": {
       "model_id": "01f5d02eaa534ee685bca02f79c93383",
       "version_major": 2,
       "version_minor": 0
      },
      "text/plain": [
       "VBox(children=(Accordion(children=(Tab(children=(VBox(children=(HBox(children=(VBox(children=(VBox(children=(C…"
      ]
     },
     "metadata": {},
     "output_type": "display_data"
    }
   ],
   "source": [
    "from showit import showit\n",
    "showit(mechanic_icepool_dyce_wrapper)"
   ]
  },
  {
   "cell_type": "code",
   "execution_count": 7,
   "metadata": {},
   "outputs": [
    {
     "name": "stdout",
     "output_type": "stream",
     "text": [
      "\n",
      "mechanic_...(1, 4, 10):\n",
      "avg |    0.70\n",
      "std |    0.56\n",
      "var |    0.31\n",
      " -1 |   5.00% |##\n",
      "  0 |  20.00% |##########\n",
      "  1 |  75.00% |#####################################\n",
      "339 µs ± 4.29 µs per loop (mean ± std. dev. of 7 runs, 1,000 loops each)\n",
      "423 µs ± 5.91 µs per loop (mean ± std. dev. of 7 runs, 1,000 loops each)\n",
      "451 µs ± 7.72 µs per loop (mean ± std. dev. of 7 runs, 1,000 loops each)\n",
      "\n",
      "mechanic_...(2, 6, 12):\n",
      "avg |    1.42\n",
      "std |    0.69\n",
      "var |    0.47\n",
      " -2 |   0.25% |\n",
      " -1 |   2.00% |#\n",
      "  0 |   4.00% |##\n",
      "  1 |  42.75% |#####################\n",
      "  2 |  51.00% |#########################\n",
      "1.23 ms ± 9.32 µs per loop (mean ± std. dev. of 7 runs, 1,000 loops each)\n",
      "1.92 ms ± 33.9 µs per loop (mean ± std. dev. of 7 runs, 1,000 loops each)\n",
      "1.06 ms ± 15.8 µs per loop (mean ± std. dev. of 7 runs, 1,000 loops each)\n",
      "\n",
      "mechanic_...(3, 8, 14):\n",
      "avg |    2.00\n",
      "std |    0.78\n",
      "var |    0.61\n",
      " -3 |   0.01% |\n",
      " -2 |   0.15% |\n",
      " -1 |   0.60% |\n",
      "  0 |   0.80% |\n",
      "  1 |  22.74% |###########\n",
      "  2 |  48.66% |########################\n",
      "  3 |  27.04% |#############\n",
      "4.69 ms ± 28.3 µs per loop (mean ± std. dev. of 7 runs, 100 loops each)\n",
      "9.77 ms ± 68.4 µs per loop (mean ± std. dev. of 7 runs, 100 loops each)\n",
      "2.31 ms ± 44.7 µs per loop (mean ± std. dev. of 7 runs, 100 loops each)\n",
      "\n",
      "mechanic_...(4, 10, 16):\n",
      "avg |    2.38\n",
      "std |    0.87\n",
      "var |    0.76\n",
      " -4 |   0.00% |\n",
      " -3 |   0.01% |\n",
      " -2 |   0.06% |\n",
      " -1 |   0.16% |\n",
      "  0 |   0.16% |\n",
      "  1 |  14.42% |#######\n",
      "  2 |  40.78% |####################\n",
      "  3 |  35.04% |#################\n",
      "  4 |   9.37% |####\n",
      "20.7 ms ± 559 µs per loop (mean ± std. dev. of 7 runs, 100 loops each)\n",
      "53.7 ms ± 1.21 ms per loop (mean ± std. dev. of 7 runs, 10 loops each)\n",
      "4.65 ms ± 71.4 µs per loop (mean ± std. dev. of 7 runs, 100 loops each)\n",
      "\n",
      "mechanic_...(3, 6, 22):\n",
      "avg |    0.56\n",
      "std |    0.75\n",
      "var |    0.56\n",
      " -3 |   0.01% |\n",
      " -2 |   0.53% |\n",
      " -1 |   7.35% |###\n",
      "  0 |  34.30% |#################\n",
      "  1 |  51.36% |#########################\n",
      "  2 |   6.26% |###\n",
      "  3 |   0.19% |\n",
      "15.6 ms ± 181 µs per loop (mean ± std. dev. of 7 runs, 100 loops each)\n",
      "154 ms ± 8.46 ms per loop (mean ± std. dev. of 7 runs, 10 loops each)\n",
      "2.74 ms ± 20.7 µs per loop (mean ± std. dev. of 7 runs, 100 loops each)\n"
     ]
    }
   ],
   "source": [
    "# Time comparisons for various approaches\n",
    "for pool_size, roll_points_available, target in (\n",
    "    (1, 4, 10),\n",
    "    (2, 6, 12),\n",
    "    (3, 8, 14),\n",
    "    (4, 10, 16),\n",
    "    (3, 6, 22),\n",
    "):\n",
    "    print()\n",
    "    res_w_optimized_die = mechanic_w_optimized_die(pool_size, roll_points_available, target)\n",
    "    res_w_recursive_inline_explosion = mechanic_w_recursive_inline_explosion(pool_size, roll_points_available, target)\n",
    "    res_icepool = mechanic_icepool_dyce_wrapper(pool_size, roll_points_available, target)\n",
    "    assert res_w_recursive_inline_explosion == res_w_optimized_die\n",
    "    assert res_icepool == res_w_recursive_inline_explosion\n",
    "    print(f\"mechanic_...({pool_size}, {roll_points_available}, {target}):\")\n",
    "    print(res_icepool.format())\n",
    "    %timeit mechanic_w_optimized_die(pool_size, roll_points_available, target)\n",
    "    %timeit mechanic_w_recursive_inline_explosion(pool_size, roll_points_available, target)\n",
    "    %timeit mechanic_icepool_dyce_wrapper(pool_size, roll_points_available, target)"
   ]
  }
 ],
 "metadata": {
  "kernelspec": {
   "display_name": "Python 3 (ipykernel)",
   "language": "python",
   "name": "python3"
  },
  "language_info": {
   "codemirror_mode": {
    "name": "ipython",
    "version": 3
   },
   "file_extension": ".py",
   "mimetype": "text/x-python",
   "name": "python",
   "nbconvert_exporter": "python",
   "pygments_lexer": "ipython3",
   "version": "3.10.6"
  }
 },
 "nbformat": 4,
 "nbformat_minor": 4
}
