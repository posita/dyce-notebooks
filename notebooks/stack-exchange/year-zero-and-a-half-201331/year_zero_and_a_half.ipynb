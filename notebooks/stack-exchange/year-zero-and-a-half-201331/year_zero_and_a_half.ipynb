{
 "cells": [
  {
   "cell_type": "markdown",
   "id": "af5b1b97-0651-417c-9c1e-65de452eed47",
   "metadata": {},
   "source": [
    "Launch interactive version: 👉👉👉 [![Try ``dyce``](https://jupyterlite.readthedocs.io/en/latest/_static/badge.svg)](https://posita.github.io/dyce-notebooks/lab?path=stack-exchange%2Fyear-zero-and-a-half-201331%2Fyear_zero_and_a_half.ipynb) 👈👈👈 *[[source](https://github.com/posita/dyce-notebooks/tree/main/notebooks/stack-exchange/year-zero-and-a-half-201331)]*\n",
    "\n",
    "## [``dyce``](https://posita.github.io/dyce/) exploration of [“How represent a D6 pool system where a 5 is half success and a 6 is full success using Anydice?”](https://rpg.stackexchange.com/a/201399/71245)\n",
    "\n",
    "Once viewing this notebook in Jupyter Lab, select ``Run All Cells`` from the ``Run`` menu above."
   ]
  },
  {
   "cell_type": "code",
   "execution_count": 1,
   "id": "c371b9b7-3f66-42aa-a467-3f9e95f54840",
   "metadata": {
    "jupyter": {
     "source_hidden": true
    }
   },
   "outputs": [],
   "source": [
    "# Install additional requirements if necessary\n",
    "import warnings\n",
    "with warnings.catch_warnings():\n",
    "    warnings.simplefilter(\"ignore\")\n",
    "    try:\n",
    "        import anydyce\n",
    "    except (ImportError, ModuleNotFoundError):\n",
    "        # See <https://jupyterlite.readthedocs.io/en/stable/howto/configure/simple_extensions.html#avoid-the-drift-of-versions-between-the-frontend-extension-and-the-python-package>\n",
    "        requirements = [\"ipycanvas==0.13.2\", \"ipyevents==2.0.1\", \"ipympl==0.9.4\", \"ipywidgets==8.1.3\", \"anydyce==0.4.6\"]\n",
    "        try:\n",
    "            import piplite ; await piplite.install(requirements, keep_going=True)\n",
    "            # Work around <https://github.com/jupyterlite/jupyterlite/issues/838>\n",
    "            import matplotlib.pyplot ; matplotlib.pyplot.clf()\n",
    "        except ImportError:\n",
    "            import pip ; pip.main([\"install\"] + requirements)\n",
    "    import anydyce\n",
    "\n",
    "try:\n",
    "    import showit\n",
    "except ImportError:\n",
    "    # Work-around for JupyterLite in non-Chromium browsers\n",
    "    import js\n",
    "    import os\n",
    "    from urllib.parse import urljoin, urlparse, urlunparse\n",
    "    loc_url = urlparse(js.location.toString())\n",
    "    ext_root = loc_url.path.find(\"/extensions/@jupyterlite/\")\n",
    "    if ext_root < 0:\n",
    "        base_url = urljoin(js.location.toString(), \"../files/\")\n",
    "    else:\n",
    "        loc_url = loc_url._replace(path=loc_url.path[:ext_root])\n",
    "        base_url = urljoin(urlunparse(loc_url), \"files/\")\n",
    "    for path in (\n",
    "                \"stack-exchange/year-zero-and-a-half-201331/year_zero_and_a_half.py\",\n",
    "                \"stack-exchange/year-zero-and-a-half-201331/showit.py\",\n",
    "            ):\n",
    "        url = urljoin(base_url, path)\n",
    "        res = await js.fetch(url)\n",
    "        assert 200 <= res.status < 300\n",
    "        text = await res.text()\n",
    "        with open(os.path.basename(path), \"w\") as f:\n",
    "            f.write(text)\n",
    "    import showit"
   ]
  },
  {
   "cell_type": "markdown",
   "id": "f65052a3-1008-42b5-845e-f4185c48c4b9",
   "metadata": {},
   "source": [
    "Substantive code is in [``year_zero_and_a_half.py``](year_zero_and_a_half.py)."
   ]
  },
  {
   "cell_type": "code",
   "execution_count": 2,
   "id": "681652c8-181a-4917-b8df-61fe97dff19f",
   "metadata": {},
   "outputs": [
    {
     "data": {
      "application/vnd.jupyter.widget-view+json": {
       "model_id": "1cfbea0400c740afb45f4921ae3646ea",
       "version_major": 2,
       "version_minor": 0
      },
      "text/plain": [
       "HBox(children=(IntSlider(value=4, continuous_update=False, description='Pool Size', max=10, min=1), Checkbox(v…"
      ]
     },
     "metadata": {},
     "output_type": "display_data"
    },
    {
     "data": {
      "application/vnd.jupyter.widget-view+json": {
       "model_id": "22a387ae0609454bb9b594fe93d2f27c",
       "version_major": 2,
       "version_minor": 0
      },
      "text/plain": [
       "Output()"
      ]
     },
     "metadata": {},
     "output_type": "display_data"
    }
   ],
   "source": [
    "from showit import showit\n",
    "showit()"
   ]
  }
 ],
 "metadata": {
  "kernelspec": {
   "display_name": "Python 3 (ipykernel)",
   "language": "python",
   "name": "python3"
  },
  "language_info": {
   "codemirror_mode": {
    "name": "ipython",
    "version": 3
   },
   "file_extension": ".py",
   "mimetype": "text/x-python",
   "name": "python",
   "nbconvert_exporter": "python",
   "pygments_lexer": "ipython3",
   "version": "3.11.4"
  }
 },
 "nbformat": 4,
 "nbformat_minor": 5
}
