{
 "cells": [
  {
   "cell_type": "markdown",
   "id": "af5b1b97-0651-417c-9c1e-65de452eed47",
   "metadata": {},
   "source": [
    "Launch interactive version: 👉👉👉 [![Try ``dyce``](https://jupyterlite.readthedocs.io/en/latest/_static/badge.svg)](https://posita.github.io/dyce-notebooks/lab?path=stack-exchange%2Fironsworn-in-the-dark-200325%2Fironsworn_in_the_dark.ipynb) 👈👈👈 *[[source](https://github.com/posita/dyce-notebooks/tree/main/notebooks/stack-exchange/ironsworn-in-the-dark-200325)]*\n",
    "\n",
    "## [``dyce``](https://posita.github.io/dyce/) solution to [“Ironsworn meets BitD dice mechanic (with a twist)”](https://rpg.stackexchange.com/a/200357/71245)\n",
    "\n",
    "Once viewing this notebook in Jupyter Lab, select ``Run All Cells`` from the ``Run`` menu above."
   ]
  },
  {
   "cell_type": "code",
   "execution_count": 1,
   "id": "c371b9b7-3f66-42aa-a467-3f9e95f54840",
   "metadata": {
    "jupyter": {
     "source_hidden": true
    }
   },
   "outputs": [],
   "source": [
    "# Install additional requirements if necessary\n",
    "import warnings\n",
    "with warnings.catch_warnings():\n",
    "    warnings.simplefilter(\"ignore\")\n",
    "    try:\n",
    "        import anydyce\n",
    "    except (ImportError, ModuleNotFoundError):\n",
    "        # See <https://jupyterlite.readthedocs.io/en/stable/howto/configure/simple_extensions.html#avoid-the-drift-of-versions-between-the-frontend-extension-and-the-python-package>\n",
    "        requirements = [\"ipywidgets==8.1.3\", \"matplotlib==3.5.2\", \"anydyce==0.4.6\"]\n",
    "        try:\n",
    "            import piplite ; await piplite.install(requirements, keep_going=True)\n",
    "            # Work around <https://github.com/jupyterlite/jupyterlite/issues/838>\n",
    "            import matplotlib.pyplot ; matplotlib.pyplot.clf()\n",
    "        except ImportError:\n",
    "            import pip ; pip.main([\"install\"] + requirements)\n",
    "    import anydyce"
   ]
  },
  {
   "cell_type": "code",
   "execution_count": 2,
   "id": "681652c8-181a-4917-b8df-61fe97dff19f",
   "metadata": {},
   "outputs": [
    {
     "name": "stdout",
     "output_type": "stream",
     "text": [
      "avg |    1.66\n",
      "std |    0.92\n",
      "var |    0.85\n",
      "  0 |  10.95% |############\n",
      "  1 |  29.67% |#################################\n",
      "  2 |  43.74% |##################################################\n",
      "  3 |  13.53% |###############\n",
      "  4 |   1.99% |##\n",
      "  5 |   0.12% |\n"
     ]
    }
   ],
   "source": [
    "from dyce import P\n",
    "from dyce.evaluation import PResult, foreach\n",
    "\n",
    "def ironsworn_bitd(action: PResult, challenge: PResult) -> int:\n",
    "    max_action = max(action.roll, default=0)\n",
    "    max_challenge = max(challenge.roll, default=0)\n",
    "    if max_action <= 0 and max_challenge <= 0:\n",
    "        return 0\n",
    "    basic_successes = sum(1 for c in challenge.roll if c < max_action)\n",
    "    num_action_matches = sum(1 for a in action.roll if a == max_action) - 1\n",
    "    if max_action < max_challenge:\n",
    "        match_successes = 0\n",
    "    elif max_action > max_challenge:\n",
    "        match_successes = num_action_matches\n",
    "    else:  # max_challenge == max_action:\n",
    "        num_challenge_matches = sum(1 for c in challenge.roll if c == max_action) - 1\n",
    "        # Offset the number of action matches by the number of challenge matches up to\n",
    "        # the number of action matches\n",
    "        match_successes = max(0, num_action_matches - num_challenge_matches)\n",
    "    return basic_successes + match_successes\n",
    "\n",
    "h = foreach(ironsworn_bitd, action=4@P(6), challenge=2@P(6))\n",
    "print(h.format(scaled=True))"
   ]
  },
  {
   "cell_type": "code",
   "execution_count": 3,
   "id": "09199085-170b-4c4d-8933-95e95b3db1c5",
   "metadata": {},
   "outputs": [
    {
     "data": {
      "application/vnd.jupyter.widget-view+json": {
       "model_id": "e751680996514fd2815806cb807099be",
       "version_major": 2,
       "version_minor": 0
      },
      "text/plain": [
       "VBox(children=(Accordion(children=(Tab(children=(VBox(children=(HBox(children=(VBox(children=(VBox(children=(C…"
      ]
     },
     "metadata": {},
     "output_type": "display_data"
    }
   ],
   "source": [
    "from anydyce import jupyter_visualize\n",
    "\n",
    "jupyter_visualize(\n",
    "    (\n",
    "        (f\"{a}d6 action vs. 2d6 challenge\", foreach(ironsworn_bitd, action=a @ P(6), challenge=2 @ P(6)))\n",
    "        for a in range(1, 6)\n",
    "    ),\n",
    "    initial_burst_zero_fill_normalize=True,\n",
    ")"
   ]
  }
 ],
 "metadata": {
  "kernelspec": {
   "display_name": "Python 3 (ipykernel)",
   "language": "python",
   "name": "python3"
  },
  "language_info": {
   "codemirror_mode": {
    "name": "ipython",
    "version": 3
   },
   "file_extension": ".py",
   "mimetype": "text/x-python",
   "name": "python",
   "nbconvert_exporter": "python",
   "pygments_lexer": "ipython3",
   "version": "3.11.4"
  }
 },
 "nbformat": 4,
 "nbformat_minor": 5
}
