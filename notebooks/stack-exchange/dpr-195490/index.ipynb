{
 "cells": [
  {
   "cell_type": "markdown",
   "id": "189ea1dd-7425-4a19-a7e7-6201a3421000",
   "metadata": {},
   "source": [
    "Launch interactive version: 👉👉👉 [![Try ``dyce``](https://jupyterlite.readthedocs.io/en/latest/_static/badge.svg)](https://posita.github.io/dyce-notebooks/lab?path=stack-exchange%2Fdpr-195490%2Findex.ipynb) 👈👈👈 *[[source](https://github.com/posita/dyce-notebooks/tree/main/notebooks/stack-exchange/dpr-195490)]*\n",
    "\n",
    "## [``dyce``](https://posita.github.io/dyce/) solution to [“Can I get some help on calculating damage per round in my homebrew, that mixes d20s and d6s?”](https://rpg.stackexchange.com/a/195503/71245)\n",
    "\n",
    "Once viewing this notebook in Jupyter Lab, select ``Run All Cells`` from the ``Run`` menu above."
   ]
  },
  {
   "cell_type": "code",
   "execution_count": 1,
   "id": "490f98b7-f008-4364-be22-1881237f0c5c",
   "metadata": {},
   "outputs": [],
   "source": [
    "# Install additional requirements if necessary\n",
    "try:\n",
    "    import anydyce\n",
    "    import dyce\n",
    "    import ipywidgets\n",
    "except ImportError:\n",
    "    requirements = [\n",
    "        \"anydyce>=0.1.4,<0.2\",\n",
    "        \"dyce>=0.5.2,<0.6\",\n",
    "        \"ipywidgets\",\n",
    "    ]\n",
    "    try:\n",
    "        import piplite\n",
    "        await piplite.install(requirements)\n",
    "    except ImportError:\n",
    "        import pip\n",
    "        pip.main([\"install\"] + requirements)"
   ]
  },
  {
   "cell_type": "code",
   "execution_count": null,
   "id": "a0656695-19f3-4a46-b164-9f0c22442ab1",
   "metadata": {},
   "outputs": [],
   "source": [
    "from calc import show\n",
    "show()"
   ]
  }
 ],
 "metadata": {
  "kernelspec": {
   "display_name": "Python 3 (ipykernel)",
   "language": "python",
   "name": "python3"
  },
  "language_info": {
   "codemirror_mode": {
    "name": "ipython",
    "version": 3
   },
   "file_extension": ".py",
   "mimetype": "text/x-python",
   "name": "python",
   "nbconvert_exporter": "python",
   "pygments_lexer": "ipython3",
   "version": "3.9.10"
  }
 },
 "nbformat": 4,
 "nbformat_minor": 5
}
