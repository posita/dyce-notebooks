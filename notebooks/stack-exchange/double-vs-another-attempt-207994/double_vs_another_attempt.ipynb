{
 "cells": [
  {
   "cell_type": "markdown",
   "id": "b78ae030-f61d-44fb-9449-97b3ea83478f",
   "metadata": {
    "tags": []
   },
   "source": [
    "Launch interactive version: 👉👉👉 [![Try ``dyce``](https://jupyterlite.readthedocs.io/en/latest/_static/badge.svg)](https://posita.github.io/dyce-notebooks/lab?path=stack-exchange%2Fdouble-vs-another-attempt-207994%2Fdouble_vs_another_attempt.ipynb) 👈👈👈 *[[source](https://github.com/posita/dyce-notebooks/tree/main/notebooks/stack-exchange/double-vs-another-attempt-207994)]*\n",
    "\n",
    "## [``dyce``](https://posita.github.io/dyce/) solution to [“Over time, how does doubling dice on a crit compare vs having another action?”](https://rpg.stackexchange.com/a/208013/71245)\n",
    "\n",
    "Once viewing this notebook in Jupyter Lab, select ``Run All Cells`` from the ``Run`` menu above."
   ]
  },
  {
   "cell_type": "code",
   "execution_count": 1,
   "id": "d4070b1e-c9e2-476e-8b27-b69855c431cb",
   "metadata": {
    "jupyter": {
     "source_hidden": true
    }
   },
   "outputs": [],
   "source": [
    "# Install additional requirements if necessary\n",
    "import warnings\n",
    "with warnings.catch_warnings():\n",
    "    warnings.simplefilter(\"ignore\")\n",
    "    try:\n",
    "        import anydyce\n",
    "    except (ImportError, ModuleNotFoundError):\n",
    "        requirements = [\"anydyce~=0.4.0\"]\n",
    "        try:\n",
    "            import piplite ; await piplite.install(requirements)\n",
    "            # Work around <https://github.com/jupyterlite/jupyterlite/issues/838>\n",
    "            import matplotlib.pyplot ; matplotlib.pyplot.clf()\n",
    "        except ImportError:\n",
    "            import pip ; pip.main([\"install\"] + requirements)\n",
    "    import anydyce"
   ]
  },
  {
   "cell_type": "code",
   "execution_count": 2,
   "id": "770a9728-e302-4baf-951c-c833a1baf79f",
   "metadata": {},
   "outputs": [],
   "source": [
    "from dyce import H\n",
    "from dyce.evaluation import HResult, expandable\n",
    "from enum import IntEnum\n",
    "from fractions import Fraction\n",
    "\n",
    "class HitOutcome(IntEnum):\n",
    "    CRIT_MISS = -1\n",
    "    MISS = 0\n",
    "    HIT = 1\n",
    "    CRIT_HIT = 2\n",
    "\n",
    "d20 = H(20)\n",
    "MIN_DMG = 0  # See <https://www.dndbeyond.com/sources/basic-rules/combat#DamageRolls>\n",
    "\n",
    "def hit_outcomes_from_target_bonus(\n",
    "    target: int,\n",
    "    hit_bonus: int,\n",
    "    crit_misses: bool = True,\n",
    ") -> H:\n",
    "    def _outcome_count_gen():\n",
    "        for outcome, count in d20.items():\n",
    "            if outcome == max(d20):\n",
    "                yield HitOutcome.CRIT_HIT, count\n",
    "            elif crit_misses and outcome == min(d20):\n",
    "                yield HitOutcome.CRIT_MISS, count\n",
    "            elif outcome + hit_bonus >= target:\n",
    "                yield HitOutcome.HIT, count\n",
    "            else:\n",
    "                yield HitOutcome.MISS, count\n",
    "\n",
    "    return H(_outcome_count_gen())\n",
    "\n",
    "def double_dice(dmg_die: H, dmg_bonus: int) -> H:\n",
    "    return H(\n",
    "        (max(outcome, MIN_DMG), count)\n",
    "        for outcome, count in (2 @ dmg_die + dmg_bonus).items()\n",
    "    )\n",
    "\n",
    "def double_dmg_house_rule(dmg_die: H, dmg_bonus: int) -> H:\n",
    "    return H(\n",
    "        (max(outcome, MIN_DMG), count)\n",
    "        for outcome, count in ((dmg_die + dmg_bonus) * 2).items()\n",
    "    )\n",
    "\n",
    "def another_bite(\n",
    "    dmg_die: H,\n",
    "    target: int,\n",
    "    hit_bonus: int,\n",
    "    dmg_bonus: int,\n",
    "    crit_misses_on_rerolls: bool = True,\n",
    "    dmg_bonus_on_rerolls: bool = False,\n",
    ") -> H:\n",
    "    @expandable\n",
    "    def _explode_crit_hits(result: HResult):\n",
    "        reroll_dmg_bonus = dmg_bonus if dmg_bonus_on_rerolls else 0\n",
    "        if result.outcome is HitOutcome.CRIT_HIT:\n",
    "            return dmg_die + reroll_dmg_bonus + _explode_crit_hits(result.h)  # result.h is hit_outcomes\n",
    "        elif result.outcome is HitOutcome.HIT:\n",
    "            return dmg_die + reroll_dmg_bonus\n",
    "        else:  # treats HitOutcome.MISS and HitOutcome.CRIT_MISS as equivalent\n",
    "            return H({0: 1})  # no (more) damage\n",
    "\n",
    "    hit_outcomes = hit_outcomes_from_target_bonus(target, hit_bonus, crit_misses_on_rerolls)\n",
    "    return H(\n",
    "        (max(outcome, MIN_DMG), count)\n",
    "        for outcome, count in\n",
    "        (dmg_die + _explode_crit_hits(hit_outcomes, limit=Fraction(1, 10_000)) + dmg_bonus).items()\n",
    "    )"
   ]
  },
  {
   "cell_type": "code",
   "execution_count": 3,
   "id": "d0d2be47-3deb-4016-b013-e5141b1f8aad",
   "metadata": {},
   "outputs": [],
   "source": [
    "NUM_COLS=4\n",
    "DMG_DICE = {\n",
    "    \"d4\": H(4),\n",
    "    \"d6\": H(6),\n",
    "    \"d8\": H(8),\n",
    "    \"d10\": H(10),\n",
    "    \"d12\": H(12),\n",
    "    \"d20\": H(20),\n",
    "    \"2d4\": 2 @ H(4),\n",
    "    \"2d6\": 2 @ H(6),\n",
    "    \"2d8\": 2 @ H(8),\n",
    "    # ...\n",
    "}\n",
    "SELECTED_DMG_DICE = list(DMG_DICE)[:5]  # start by selecting first five values (whatever they are)"
   ]
  },
  {
   "cell_type": "code",
   "execution_count": 4,
   "id": "9042e849-3a08-4d3a-82dc-1aba39c62e06",
   "metadata": {
    "jupyter": {
     "source_hidden": true
    }
   },
   "outputs": [
    {
     "data": {
      "application/vnd.jupyter.widget-view+json": {
       "model_id": "40d8f832172c436faaf86374f1886ef9",
       "version_major": 2,
       "version_minor": 0
      },
      "text/plain": [
       "HBox(children=(VBox(children=(SelectMultiple(description='Dmg Dice', index=(0, 1, 2, 3, 4), options=('d4', 'd6…"
      ]
     },
     "metadata": {},
     "output_type": "display_data"
    },
    {
     "data": {
      "application/vnd.jupyter.widget-view+json": {
       "model_id": "012482aa5c1a4a59968aefc5d54ead0d",
       "version_major": 2,
       "version_minor": 0
      },
      "text/plain": [
       "Output()"
      ]
     },
     "metadata": {},
     "output_type": "display_data"
    },
    {
     "data": {
      "application/vnd.jupyter.widget-view+json": {
       "model_id": "98cd75eee38943e3a65843c41148d731",
       "version_major": 2,
       "version_minor": 0
      },
      "text/plain": [
       "VBox(children=(Accordion(children=(Tab(children=(VBox(children=(HBox(children=(VBox(children=(VBox(children=(C…"
      ]
     },
     "metadata": {},
     "output_type": "display_data"
    }
   ],
   "source": [
    "# Interactive UI code\n",
    "from anydyce import HPlotterChooser\n",
    "from anydyce.viz import PlotWidgets\n",
    "from IPython.display import display\n",
    "from ipywidgets import widgets\n",
    "\n",
    "def _display(\n",
    "    selected_dmg_dice: list[str],\n",
    "    target_range: tuple[int, int],\n",
    "    hit_bonus: int,\n",
    "    dmg_bonus: int,\n",
    "    crit_misses_on_rerolls: bool,\n",
    "    dmg_bonus_on_rerolls: bool,\n",
    ") -> None:\n",
    "    results = []\n",
    "    target_lo, target_hi = target_range\n",
    "    target_hi += 1  # exclusive upper bound\n",
    "    num_charts = 1 + (target_hi - target_lo)  # one for double dmg plus one for each target\n",
    "    fillers = -num_charts % NUM_COLS\n",
    "    \n",
    "    for dmg_die_name in selected_dmg_dice:\n",
    "        dmg_die = DMG_DICE[dmg_die_name]\n",
    "        double_dice_res = double_dice(dmg_die, dmg_bonus)\n",
    "        double_dmg_res = double_dmg_house_rule(dmg_die, dmg_bonus)\n",
    "        results.append(\n",
    "            (\n",
    "                f\"{dmg_die_name} double dice ({double_dice_res.mean():0.3f}) vs.\\ndouble all damage ({double_dmg_res.mean():0.3f})\",\n",
    "                double_dice_res,\n",
    "                double_dmg_res,\n",
    "            )\n",
    "        )\n",
    "        for target in range(target_lo, target_hi):\n",
    "            another_bite_res = another_bite(dmg_die, target, hit_bonus, dmg_bonus, crit_misses_on_rerolls, dmg_bonus_on_rerolls)\n",
    "            results.append(\n",
    "                (\n",
    "                    f\"{dmg_die_name} double dice ({double_dice_res.mean():0.3f}) vs.\\nanother bite @AC{target} ({another_bite_res.mean():0.3f})\",\n",
    "                    double_dice_res,\n",
    "                    another_bite_res,\n",
    "                )\n",
    "            )\n",
    "        results.extend((f\"\", H({})) for _ in range(fillers))\n",
    "    chooser.update_hs(results)\n",
    "\n",
    "dmg_dice_widget = widgets.SelectMultiple(\n",
    "    options=list(DMG_DICE),\n",
    "    value=SELECTED_DMG_DICE,\n",
    "    description=\"Dmg Dice\",\n",
    ")\n",
    "target_range_widget = widgets.IntRangeSlider(\n",
    "    value=(13, 19),\n",
    "    min=2,\n",
    "    max=30,\n",
    "    step=1,\n",
    "    continuous_update=False,\n",
    "    description=\"AC Range\",\n",
    ")\n",
    "hit_bonus_widget = widgets.BoundedIntText(\n",
    "    value=11,\n",
    "    min=-10,\n",
    "    max=20,\n",
    "    step=1,\n",
    "    description='Hit Bonus',\n",
    ")\n",
    "dmg_bonus_widget = widgets.BoundedIntText(\n",
    "    value=5,\n",
    "    min=-10,\n",
    "    max=20,\n",
    "    step=1,\n",
    "    description='Dmg Bonus',\n",
    ")\n",
    "dmg_bonus_widget = widgets.BoundedIntText(\n",
    "    value=5,\n",
    "    min=-10,\n",
    "    max=20,\n",
    "    step=1,\n",
    "    description='Dmg Bonus',\n",
    ")\n",
    "crit_misses_on_rerolls_widget = widgets.Checkbox(value=True, description='Crit Misses Each Roll')\n",
    "dmg_bonus_on_rerolls_widget = widgets.Checkbox(value=False, description='Dmg Bonus Each Roll')\n",
    "chooser = HPlotterChooser(\n",
    "    plot_widgets=PlotWidgets(\n",
    "        initial_burst_columns=NUM_COLS,\n",
    "        initial_burst_zero_fill_normalize=True,\n",
    "        initial_resolution=18,\n",
    "    )\n",
    ")\n",
    "\n",
    "display(\n",
    "    widgets.HBox([\n",
    "        widgets.VBox([dmg_dice_widget, target_range_widget]),\n",
    "        widgets.VBox([\n",
    "            hit_bonus_widget,\n",
    "            dmg_bonus_widget,\n",
    "            crit_misses_on_rerolls_widget,\n",
    "            dmg_bonus_on_rerolls_widget,\n",
    "        ]),\n",
    "    ]),\n",
    "    widgets.interactive_output(\n",
    "        _display,\n",
    "        {\n",
    "            \"selected_dmg_dice\": dmg_dice_widget,\n",
    "            \"target_range\": target_range_widget,\n",
    "            \"hit_bonus\": hit_bonus_widget,\n",
    "            \"dmg_bonus\": dmg_bonus_widget,\n",
    "            \"crit_misses_on_rerolls\": crit_misses_on_rerolls_widget,\n",
    "            \"dmg_bonus_on_rerolls\": dmg_bonus_on_rerolls_widget,\n",
    "        },\n",
    "    ),\n",
    ")\n",
    "\n",
    "chooser.interact()"
   ]
  }
 ],
 "metadata": {
  "kernelspec": {
   "display_name": "Python 3 (ipykernel)",
   "language": "python",
   "name": "python3"
  },
  "language_info": {
   "codemirror_mode": {
    "name": "ipython",
    "version": 3
   },
   "file_extension": ".py",
   "mimetype": "text/x-python",
   "name": "python",
   "nbconvert_exporter": "python",
   "pygments_lexer": "ipython3",
   "version": "3.11.4"
  }
 },
 "nbformat": 4,
 "nbformat_minor": 5
}
