{
 "cells": [
  {
   "cell_type": "markdown",
   "id": "b1870fe0-107d-4b93-89b6-34f2a4c5ca04",
   "metadata": {},
   "source": [
    "Launch interactive version: 👉👉👉 [![Try ``dyce``](https://jupyterlite.readthedocs.io/en/latest/_static/badge.svg)](https://posita.github.io/dyce-notebooks/lab?path=stack-exchange%2Fexpected-dmg-200447%2Fexpected_damage.ipynb) 👈👈👈 *[[source](https://github.com/posita/dyce-notebooks/tree/main/notebooks/stack-exchange/expected-dmg-200447)]*\n",
    "\n",
    "## [``dyce``](https://posita.github.io/dyce/) exploration of [“How to calculate the added expected damage from critical hits?”](https://rpg.stackexchange.com/a/200553/71245)\n",
    "\n",
    "Once viewing this notebook in Jupyter Lab, select ``Run All Cells`` from the ``Run`` menu above."
   ]
  },
  {
   "cell_type": "code",
   "execution_count": 1,
   "id": "0b29dbd1-7dc5-4949-8850-842fff321fe8",
   "metadata": {
    "jupyter": {
     "source_hidden": true
    }
   },
   "outputs": [],
   "source": [
    "# Install additional requirements if necessary\n",
    "import warnings\n",
    "with warnings.catch_warnings():\n",
    "    warnings.simplefilter(\"ignore\")\n",
    "    try:\n",
    "        import anydyce\n",
    "    except (ImportError, ModuleNotFoundError):\n",
    "        # See <https://jupyterlite.readthedocs.io/en/stable/howto/configure/simple_extensions.html#avoid-the-drift-of-versions-between-the-frontend-extension-and-the-python-package>\n",
    "        requirements = [\"ipywidgets==8.1.3\", \"matplotlib==3.5.2\", \"anydyce==0.4.6\"]\n",
    "        try:\n",
    "            import piplite ; await piplite.install(requirements, keep_going=True)\n",
    "            # Work around <https://github.com/jupyterlite/jupyterlite/issues/838>\n",
    "            import matplotlib.pyplot ; matplotlib.pyplot.clf()\n",
    "        except ImportError:\n",
    "            import pip ; pip.main([\"install\"] + requirements)\n",
    "    import anydyce\n",
    "\n",
    "try:\n",
    "    import showit\n",
    "except ImportError:\n",
    "    # Work-around for JupyterLite in non-Chromium browsers\n",
    "    import js\n",
    "    import os\n",
    "    from urllib.parse import urljoin, urlparse, urlunparse\n",
    "    loc_url = urlparse(js.location.toString())\n",
    "    ext_root = loc_url.path.find(\"/extensions/@jupyterlite/\")\n",
    "    if ext_root < 0:\n",
    "        base_url = urljoin(js.location.toString(), \"../files/\")\n",
    "    else:\n",
    "        loc_url = loc_url._replace(path=loc_url.path[:ext_root])\n",
    "        base_url = urljoin(urlunparse(loc_url), \"files/\")\n",
    "    for path in (\n",
    "                \"stack-exchange/expected-dmg-200447/expected_damage.py\",\n",
    "                \"stack-exchange/expected-dmg-200447/showit.py\",\n",
    "            ):\n",
    "        url = urljoin(base_url, path)\n",
    "        res = await js.fetch(url)\n",
    "        assert 200 <= res.status < 300\n",
    "        text = await res.text()\n",
    "        with open(os.path.basename(path), \"w\") as f:\n",
    "            f.write(text)\n",
    "    import showit"
   ]
  },
  {
   "cell_type": "markdown",
   "id": "2eaa01b6-1279-4985-b985-0859ff491941",
   "metadata": {},
   "source": [
    "Substantive code is in [``expected_damage.py``](expected_damage.py)."
   ]
  },
  {
   "cell_type": "code",
   "execution_count": 2,
   "id": "4748d382-d229-4115-b1d1-8fd0b3dad3a8",
   "metadata": {},
   "outputs": [
    {
     "data": {
      "application/vnd.jupyter.widget-view+json": {
       "model_id": "eed3b9ee3f6f4131a93d2230510f3c51",
       "version_major": 2,
       "version_minor": 0
      },
      "text/plain": [
       "VBox(children=(IntSlider(value=10, continuous_update=False, description='Target', max=20, min=2), HBox(childre…"
      ]
     },
     "metadata": {},
     "output_type": "display_data"
    },
    {
     "data": {
      "application/vnd.jupyter.widget-view+json": {
       "model_id": "245c66a2a2ca445498ccc01c0999ad7f",
       "version_major": 2,
       "version_minor": 0
      },
      "text/plain": [
       "Output()"
      ]
     },
     "metadata": {},
     "output_type": "display_data"
    },
    {
     "data": {
      "application/vnd.jupyter.widget-view+json": {
       "model_id": "c03eec04aea0469aa0761a508438ec0c",
       "version_major": 2,
       "version_minor": 0
      },
      "text/plain": [
       "VBox(children=(Accordion(children=(Tab(children=(VBox(children=(HBox(children=(VBox(children=(VBox(children=(C…"
      ]
     },
     "metadata": {},
     "output_type": "display_data"
    }
   ],
   "source": [
    "from dyce import H\n",
    "from showit import showit\n",
    "\n",
    "DAMAGE_DICE = {\n",
    "    \"d4\": H(4),\n",
    "    \"d6\": H(6),\n",
    "    \"d8\": H(8),\n",
    "    \"d10\": H(10),\n",
    "    \"d12\": H(12),\n",
    "    \"d20\": H(20),\n",
    "    # Add others here as needed, e.g.:\n",
    "    # \"7d8\": 7@H(8),\n",
    "    # \"d12 + d8\": H(12) + H(8),\n",
    "}\n",
    "\n",
    "showit(DAMAGE_DICE)"
   ]
  }
 ],
 "metadata": {
  "kernelspec": {
   "display_name": "Python 3 (ipykernel)",
   "language": "python",
   "name": "python3"
  },
  "language_info": {
   "codemirror_mode": {
    "name": "ipython",
    "version": 3
   },
   "file_extension": ".py",
   "mimetype": "text/x-python",
   "name": "python",
   "nbconvert_exporter": "python",
   "pygments_lexer": "ipython3",
   "version": "3.11.4"
  }
 },
 "nbformat": 4,
 "nbformat_minor": 5
}
