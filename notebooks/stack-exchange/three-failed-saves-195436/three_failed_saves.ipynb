{
 "cells": [
  {
   "cell_type": "markdown",
   "id": "9ac1d369-b80b-4108-bb84-4e60d9e257cb",
   "metadata": {},
   "source": [
    "Launch interactive version: 👉👉👉 [![Try ``dyce``](https://jupyterlite.readthedocs.io/en/latest/_static/badge.svg)](https://posita.github.io/dyce-notebooks/lab?path=stack-exchange%2Fthree-failed-saves-195436%2Fthree_failed_saves.ipynb) 👈👈👈 *[[source](https://github.com/posita/dyce-notebooks/tree/main/notebooks/stack-exchange/three-failed-saves-195436)]*\n",
    "\n",
    "## [``dyce``](https://posita.github.io/dyce/) solution to [“What is the chance of failing all three saves of the spell Flesh to Stone?”](https://rpg.stackexchange.com/a/195452/71245)\n",
    "\n",
    "Once viewing this notebook in Jupyter Lab, select ``Run All Cells`` from the ``Run`` menu above."
   ]
  },
  {
   "cell_type": "code",
   "execution_count": 1,
   "id": "9fd4003c-b0b7-4def-9a91-746a49340f06",
   "metadata": {},
   "outputs": [],
   "source": [
    "# Install additional requirements if necessary\n",
    "try:\n",
    "    import anydyce, ipywidgets\n",
    "except ImportError:\n",
    "    requirements = [\"anydyce~=0.1.4\", \"ipywidgets\"]\n",
    "    try:\n",
    "        import piplite\n",
    "        await piplite.install(requirements)\n",
    "    except ImportError:\n",
    "        import pip\n",
    "        pip.main([\"install\"] + requirements)"
   ]
  },
  {
   "cell_type": "code",
   "execution_count": 2,
   "id": "b4d370f2-dd20-44e2-b484-c33656c9beaf",
   "metadata": {},
   "outputs": [
    {
     "data": {
      "text/html": [
       "<table><tr><th>Target</th><th>Expectation of Petrification</th><th>Expectation of Life as Usual</th></tr><tr><td>20</td><td>94.95%</td><td>5.05%</td></tr><tr><td>19</td><td>89.67%</td><td>10.33%</td></tr><tr><td>18</td><td>83.98%</td><td>16.02%</td></tr><tr><td>17</td><td>77.82%</td><td>22.18%</td></tr><tr><td>16</td><td>71.19%</td><td>28.81%</td></tr><tr><td>15</td><td>64.14%</td><td>35.86%</td></tr><tr><td>14</td><td>56.78%</td><td>43.22%</td></tr><tr><td>13</td><td>49.25%</td><td>50.75%</td></tr><tr><td>12</td><td>41.72%</td><td>58.28%</td></tr><tr><td>11</td><td>34.38%</td><td>65.62%</td></tr><tr><td>10</td><td>27.41%</td><td>72.59%</td></tr><tr><td>9</td><td>20.99%</td><td>79.01%</td></tr><tr><td>8</td><td>15.30%</td><td>84.70%</td></tr><tr><td>7</td><td>10.45%</td><td>89.55%</td></tr><tr><td>6</td><td>6.54%</td><td>93.46%</td></tr><tr><td>5</td><td>3.62%</td><td>96.38%</td></tr><tr><td>4</td><td>1.64%</td><td>98.36%</td></tr><tr><td>3</td><td>0.52%</td><td>99.48%</td></tr><tr><td>2</td><td>0.07%</td><td>99.93%</td></tr></table>"
      ],
      "text/plain": [
       "<IPython.core.display.HTML object>"
      ]
     },
     "metadata": {},
     "output_type": "display_data"
    }
   ],
   "source": [
    "from dyce import H\n",
    "from enum import IntEnum\n",
    "from functools import partial\n",
    "from IPython.display import HTML, display\n",
    "\n",
    "d20 = H(20)\n",
    "\n",
    "class SavesResult(IntEnum):\n",
    "    STONE = False\n",
    "    FLESH = True\n",
    "\n",
    "distributions_by_target = {}\n",
    "\n",
    "for target in range(20, 1, -1):\n",
    "    def count_additional_failures_after_first_roll_fails(h, outcome):\n",
    "        if outcome < target:\n",
    "            # We failed the first saving throw. Now we want to compute the likelihood of\n",
    "            # getting at least two more failures over the next four rolls. (If we didn't\n",
    "            # get at least two, it means we had three successes, and we're done.)\n",
    "\n",
    "            # We start with computing the likelihood of getting a failure in a single\n",
    "            # roll.\n",
    "            expected_failures_for_one_roll = d20.lt(target)  # E.g., H({False: 5, True: 15}) for target 16\n",
    "\n",
    "            # Then, we can leverage a computational trick to very efficiently compute\n",
    "            # the number of expected failures in four rolls. The outcomes are the number\n",
    "            # of the expected failures, and the counts are how often one can expect to\n",
    "            # get that precise number of failures. For example, at target 16, this value\n",
    "            # is H({0: 625, 1: 7500, 2: 33750, 3: 67500, 4: 50625}). That means out of\n",
    "            # 160,000 possible rolls, we can expect zero failures 625 times, one failure\n",
    "            # 7,500 times, two failures 33,750 times, three failures 67,500, and four\n",
    "            # failures 50,625 times.\n",
    "            expected_number_of_failures_in_four_rolls = 4@expected_failures_for_one_roll\n",
    "            \n",
    "            # Finally, we count how often we can expect to experience at least two\n",
    "            # failures among those four rolls. If we get at least two, combined with the\n",
    "            # the first, it means we've missed three saves, and we're petrified.\n",
    "            expectation_of_at_least_two_failures_in_four_rolls = expected_number_of_failures_in_four_rolls.ge(2)  # E.g., H({False: 8125, True: 151875}) for target 16\n",
    "\n",
    "            return expectation_of_at_least_two_failures_in_four_rolls\n",
    "        else:\n",
    "            # We made the first saving throw, so we treat that as terminal and return 0\n",
    "            # failures.\n",
    "            return 0\n",
    "\n",
    "    # Set it all in motion!\n",
    "    expectation_of_final_failure = d20.substitute(\n",
    "        count_additional_failures_after_first_roll_fails\n",
    "    )  # E.g., H({False: 8125, True: 151875}) for target 16\n",
    "\n",
    "    # Note that our current histogram tells us how often we can expect to *fail* the\n",
    "    # save. To understand how often we expect to succeed, we have to negate what we have.\n",
    "    expectation_of_final_success = expectation_of_final_failure.ne(True)  # E.g., H({False: 151875, True: 8125}) for target 16\n",
    "\n",
    "    # Now we can translate our raw results to our enum.\n",
    "    distributions_by_target[target] = H(\n",
    "        (SavesResult(outcome), count) for outcome, count in expectation_of_final_success.items()\n",
    "    )  # E.g., H({<SavesResult.STONE: 0>: 151875, <SavesResult.FLESH: 1>: 8125}) for target 16\n",
    "\n",
    "    # We could have written most of the above very compactly:\n",
    "    compact_raw = d20.substitute(\n",
    "        lambda h, outcome: (4@d20.lt(target)).ge(2) if outcome < target else 0,\n",
    "    ).ne(True)\n",
    "    assert compact_raw == distributions_by_target[target]\n",
    "\n",
    "    # We also could have also counted successes from the outset instead of converting\n",
    "    # from failures.\n",
    "    compact_raw = d20.substitute(\n",
    "        lambda h, outcome: 1 if outcome >= target else (4@d20.ge(target)).ge(3),  # we need 3 or more successes to make it out of the woods\n",
    "    )\n",
    "    assert compact_raw == distributions_by_target[target]\n",
    "\n",
    "html = f\"<table><tr><th>Target</th><th>Expectation of Petrification</th><th>Expectation of Life as Usual</th></tr>\"\n",
    "\n",
    "for target, h in distributions_by_target.items():\n",
    "    t = h.total\n",
    "    html += f\"<tr><td>{target}</td><td>{h.get(SavesResult.STONE, 0) / t:.02%}</td><td>{h.get(SavesResult.FLESH, 0) / t:.02%}</td></tr>\"\n",
    "\n",
    "html += \"</table>\"\n",
    "display(HTML(html))"
   ]
  },
  {
   "cell_type": "code",
   "execution_count": 3,
   "id": "4fabe98c-7827-44d8-a6d3-fa75e40881d8",
   "metadata": {},
   "outputs": [
    {
     "data": {
      "application/vnd.jupyter.widget-view+json": {
       "model_id": "b8d3e5c79d1844138d1383d88b89fff3",
       "version_major": 2,
       "version_minor": 0
      },
      "text/plain": [
       "VBox(children=(HBox(children=(VBox(children=(IntSlider(value=12, continuous_update=False, description='Scale',…"
      ]
     },
     "metadata": {},
     "output_type": "display_data"
    }
   ],
   "source": [
    "from anydyce import BreakoutType, jupyter_visualize\n",
    "\n",
    "jupyter_visualize(\n",
    "    [\n",
    "        (f\"Expectation of turning\\nto stone at target {target}\", h)\n",
    "        for target, h in distributions_by_target.items()\n",
    "    ],\n",
    "    default_breakout_type=BreakoutType.BURST,\n",
    ")"
   ]
  }
 ],
 "metadata": {
  "kernelspec": {
   "display_name": "Python 3 (ipykernel)",
   "language": "python",
   "name": "python3"
  },
  "language_info": {
   "codemirror_mode": {
    "name": "ipython",
    "version": 3
   },
   "file_extension": ".py",
   "mimetype": "text/x-python",
   "name": "python",
   "nbconvert_exporter": "python",
   "pygments_lexer": "ipython3",
   "version": "3.9.10"
  }
 },
 "nbformat": 4,
 "nbformat_minor": 5
}
