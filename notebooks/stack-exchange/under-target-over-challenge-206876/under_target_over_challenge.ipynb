{
 "cells": [
  {
   "cell_type": "markdown",
   "id": "9ac1d369-b80b-4108-bb84-4e60d9e257cb",
   "metadata": {},
   "source": [
    "Launch interactive version: 👉👉👉 [![Try ``dyce``](https://jupyterlite.readthedocs.io/en/latest/_static/badge.svg)](https://posita.github.io/dyce-notebooks/lab?path=stack-exchange%2Funder-target-over-challenge-206876%2Funder_target_over_challenge.ipynb) 👈👈👈 *[[source](https://github.com/posita/dyce-notebooks/tree/main/notebooks/stack-exchange/under-target-over-challenge-206876)]*\n",
    "\n",
    "## [``dyce``](https://posita.github.io/dyce/) solution to [“Anydice - Roll a d20 under target number but beat an opposed die”](https://rpg.stackexchange.com/a/206911/71245)\n",
    "\n",
    "Once viewing this notebook in Jupyter Lab, select ``Run All Cells`` from the ``Run`` menu above."
   ]
  },
  {
   "cell_type": "code",
   "execution_count": 1,
   "id": "9fd4003c-b0b7-4def-9a91-746a49340f06",
   "metadata": {
    "jupyter": {
     "source_hidden": true
    }
   },
   "outputs": [],
   "source": [
    "# Install additional requirements if necessary\n",
    "import warnings\n",
    "with warnings.catch_warnings():\n",
    "    warnings.simplefilter(\"ignore\")\n",
    "    try:\n",
    "        import anydyce\n",
    "    except (ImportError, ModuleNotFoundError):\n",
    "        # See <https://jupyterlite.readthedocs.io/en/stable/howto/configure/simple_extensions.html#avoid-the-drift-of-versions-between-the-frontend-extension-and-the-python-package>\n",
    "        requirements = [\"ipycanvas==0.13.2\", \"ipyevents==2.0.1\", \"ipympl==0.9.4\", \"ipywidgets==8.1.3\", \"anydyce==0.4.6\"]\n",
    "        try:\n",
    "            import piplite ; await piplite.install(requirements, keep_going=True)\n",
    "            # Work around <https://github.com/jupyterlite/jupyterlite/issues/838>\n",
    "            import matplotlib.pyplot ; matplotlib.pyplot.clf()\n",
    "        except ImportError:\n",
    "            import pip ; pip.main([\"install\"] + requirements)\n",
    "    import anydyce\n",
    "\n",
    "try:\n",
    "    import showit\n",
    "except ImportError:\n",
    "    # Work-around for JupyterLite in non-Chromium browsers\n",
    "    import js\n",
    "    import os\n",
    "    from urllib.parse import urljoin, urlparse, urlunparse\n",
    "    loc_url = urlparse(js.location.toString())\n",
    "    ext_root = loc_url.path.find(\"/extensions/@jupyterlite/\")\n",
    "    if ext_root < 0:\n",
    "        base_url = urljoin(js.location.toString(), \"../files/\")\n",
    "    else:\n",
    "        loc_url = loc_url._replace(path=loc_url.path[:ext_root])\n",
    "        base_url = urljoin(urlunparse(loc_url), \"files/\")\n",
    "    for path in (\n",
    "                \"stack-exchange/under-target-over-challenge-206876/showit.py\",\n",
    "            ):\n",
    "        url = urljoin(base_url, path)\n",
    "        res = await js.fetch(url)\n",
    "        assert 200 <= res.status < 300\n",
    "        text = await res.text()\n",
    "        with open(os.path.basename(path), \"w\") as f:\n",
    "            f.write(text)\n",
    "    import showit"
   ]
  },
  {
   "cell_type": "code",
   "execution_count": 2,
   "id": "b4d370f2-dd20-44e2-b484-c33656c9beaf",
   "metadata": {},
   "outputs": [
    {
     "data": {
      "application/vnd.jupyter.widget-view+json": {
       "model_id": "d047695aa13747fb899fe8e97e8aa47f",
       "version_major": 2,
       "version_minor": 0
      },
      "text/plain": [
       "HBox(children=(SelectMultiple(description='Player Dice', index=(0, 1), options=('d20', '3d6', '2d10', 'd8 + d1…"
      ]
     },
     "metadata": {},
     "output_type": "display_data"
    },
    {
     "data": {
      "application/vnd.jupyter.widget-view+json": {
       "model_id": "ecf0245c4b6c42adbc9c8ed070301693",
       "version_major": 2,
       "version_minor": 0
      },
      "text/plain": [
       "Output()"
      ]
     },
     "metadata": {},
     "output_type": "display_data"
    },
    {
     "data": {
      "application/vnd.jupyter.widget-view+json": {
       "model_id": "075adef5465a457cb566877252590315",
       "version_major": 2,
       "version_minor": 0
      },
      "text/plain": [
       "VBox(children=(Accordion(children=(Tab(children=(VBox(children=(HBox(children=(VBox(children=(VBox(children=(C…"
      ]
     },
     "metadata": {},
     "output_type": "display_data"
    }
   ],
   "source": [
    "from dyce import H\n",
    "from dyce.evaluation import HResult, foreach\n",
    "from showit import showit\n",
    "from enum import IntEnum, auto\n",
    "\n",
    "class ResultType(IntEnum):\n",
    "    IMPOSSIBLE = auto()  # no roll can succeed because target <= challenge die\n",
    "    TARGET_MISS = auto()  # failure because player die >= target\n",
    "    CHALLENGE_MISS = auto()  # failure because player die <= challenge die\n",
    "    HIT = auto()  # success\n",
    "\n",
    "d4 = H(4)\n",
    "d6 = H(6)\n",
    "d8 = H(8)\n",
    "d10 = H(10)\n",
    "d12 = H(12)\n",
    "d20 = H(20)\n",
    "d6_3 = 3 @ d6\n",
    "d10_2 = 2 @ d10\n",
    "d8d12 = d8 + d12\n",
    "\n",
    "available_player_dice = {\n",
    "    \"d20\": d20,\n",
    "    \"3d6\": d6_3,\n",
    "    \"2d10\": d10_2,\n",
    "    \"d8 + d12\": d8d12,\n",
    "}\n",
    "\n",
    "available_challenge_dice = {\n",
    "    \"d4\": d4,\n",
    "    \"d6\": d6,\n",
    "    \"d8\": d8,\n",
    "    \"d10\": d10,\n",
    "    \"d12\": d12,\n",
    "}\n",
    "# Include the player dice as well\n",
    "available_challenge_dice.update(available_player_dice)\n",
    "\n",
    "def expected_result(\n",
    "    player_die: H,\n",
    "    challenge_die: H,\n",
    "    target: int,\n",
    ") -> H:\n",
    "    def _dependent_term(player_die: HResult, challenge_die: HResult):\n",
    "        if target <= challenge_die.outcome:\n",
    "            return ResultType.IMPOSSIBLE\n",
    "        elif player_die.outcome >= target:\n",
    "            return ResultType.TARGET_MISS\n",
    "        elif player_die.outcome <= challenge_die.outcome:\n",
    "            return ResultType.CHALLENGE_MISS\n",
    "        else:\n",
    "            return ResultType.HIT\n",
    "\n",
    "    # Start with zero counts for all possible outcomes\n",
    "    result_base = H((outcome, 0) for outcome in ResultType)\n",
    "    # Accumulate those that came up in our calculation\n",
    "    return result_base.accumulate(foreach(_dependent_term, player_die, challenge_die))\n",
    "\n",
    "def expected_result_low_fidelity(\n",
    "    player_die: H,\n",
    "    challenge_die: H,\n",
    "    target: int,\n",
    ") -> H:\n",
    "    # Build a die that has just the faces that are below the target\n",
    "    # (or zero where they were at or above)\n",
    "    player_target_die = H(\n",
    "        (outcome, count) if outcome < target else (0, count)\n",
    "        for outcome, count in player_die.items()\n",
    "    )\n",
    "    # Then compute a histogram for where those faces are greater than\n",
    "    # the challenge die\n",
    "    return player_target_die.gt(challenge_die)\n",
    "\n",
    "showit(\n",
    "    available_player_dice,\n",
    "    available_challenge_dice,\n",
    "    expected_result,  # or use expected_result_low_fidelity instead\n",
    ")"
   ]
  }
 ],
 "metadata": {
  "kernelspec": {
   "display_name": "Python 3 (ipykernel)",
   "language": "python",
   "name": "python3"
  },
  "language_info": {
   "codemirror_mode": {
    "name": "ipython",
    "version": 3
   },
   "file_extension": ".py",
   "mimetype": "text/x-python",
   "name": "python",
   "nbconvert_exporter": "python",
   "pygments_lexer": "ipython3",
   "version": "3.11.4"
  }
 },
 "nbformat": 4,
 "nbformat_minor": 5
}
