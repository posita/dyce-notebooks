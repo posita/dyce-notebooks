{
 "cells": [
  {
   "cell_type": "markdown",
   "id": "b78ae030-f61d-44fb-9449-97b3ea83478f",
   "metadata": {},
   "source": [
    "Launch interactive version: 👉👉👉 [![Try ``dyce``](https://jupyterlite.readthedocs.io/en/latest/_static/badge.svg)](https://posita.github.io/dyce-notebooks/lab?path=stack-exchange%2Funiform-successes-for-xdy-198566%2Funiform_successes_for_xdy.ipynb) 👈👈👈 *[[source](https://github.com/posita/dyce-notebooks/tree/main/notebooks/stack-exchange/uniform-successes-for-xdy-198566)]*\n",
    "\n",
    "## [``dyce``](https://posita.github.io/dyce/) solution to [“Anydice: for XdY(Z+), what are the odds to get the same numbers on all successful faces for 2 success, 3 success, 4 success”](https://rpg.stackexchange.com/a/198574/71245)\n",
    "\n",
    "Once viewing this notebook in Jupyter Lab, select ``Run All Cells`` from the ``Run`` menu above."
   ]
  },
  {
   "cell_type": "code",
   "execution_count": 1,
   "id": "d4070b1e-c9e2-476e-8b27-b69855c431cb",
   "metadata": {},
   "outputs": [],
   "source": [
    "# Install additional requirements if necessary\n",
    "import warnings\n",
    "with warnings.catch_warnings():\n",
    "    warnings.simplefilter(\"ignore\")\n",
    "    try:\n",
    "        import anydyce\n",
    "    except (ImportError, ModuleNotFoundError):\n",
    "        requirements = [\"anydyce~=0.4.0\"]\n",
    "        try:\n",
    "            import piplite ; await piplite.install(requirements)\n",
    "            # Work around <https://github.com/jupyterlite/jupyterlite/issues/838>\n",
    "            import matplotlib.pyplot ; matplotlib.pyplot.clf()\n",
    "        except ImportError:\n",
    "            import pip ; pip.main([\"install\"] + requirements)\n",
    "    import anydyce"
   ]
  },
  {
   "cell_type": "code",
   "execution_count": 2,
   "id": "647c8657-7bb9-4c3a-959b-c577c17864fc",
   "metadata": {},
   "outputs": [
    {
     "name": "stdout",
     "output_type": "stream",
     "text": [
      "avg |    0.40\n",
      "std |    0.86\n",
      "var |    0.73\n",
      "  0 |  78.35% |#################################################\n",
      "  1 |   9.38% |#####\n",
      "  2 |   7.81% |####\n",
      "  3 |   3.47% |##\n",
      "  4 |   0.87% |\n",
      "  5 |   0.12% |\n",
      "  6 |   0.01% |\n"
     ]
    }
   ],
   "source": [
    "from collections import Counter\n",
    "from dyce import H, P\n",
    "from dyce.evaluation import PResult, foreach\n",
    "\n",
    "def uniform_successes(pool: P, success_threshold: int) -> H:\n",
    "\n",
    "    def _calc(pool: PResult) -> int:\n",
    "        success_outcome_counts = Counter(\n",
    "            outcome for outcome in pool.roll if outcome >= success_threshold\n",
    "        )\n",
    "        if len(success_outcome_counts) == 1:\n",
    "            # The number of distinct outcomes that make up our successes is one (i.e.,\n",
    "            # they are uniform), so grab the count, which is the total number of\n",
    "            # successes\n",
    "            outcome, count = success_outcome_counts.most_common(1)[0]\n",
    "            return count  # the number of uniform successes\n",
    "        else:\n",
    "            # Our successes are mixed (or we had none), so we don't count them\n",
    "            return 0\n",
    "\n",
    "    return foreach(_calc, pool=pool)\n",
    "\n",
    "X = 6\n",
    "Y = 6\n",
    "Z = 4\n",
    "\n",
    "print(uniform_successes(pool=X @ P(Y), success_threshold=Z).format(scaled=True))"
   ]
  },
  {
   "cell_type": "code",
   "execution_count": 3,
   "id": "ff8602be-c43f-42dd-bca3-ba709480cefb",
   "metadata": {},
   "outputs": [
    {
     "data": {
      "application/vnd.jupyter.widget-view+json": {
       "model_id": "4f5f3dc90f4448ad961af44338174355",
       "version_major": 2,
       "version_minor": 0
      },
      "text/plain": [
       "VBox(children=(Accordion(children=(Tab(children=(VBox(children=(HBox(children=(VBox(children=(VBox(children=(C…"
      ]
     },
     "metadata": {},
     "output_type": "display_data"
    }
   ],
   "source": [
    "from anydyce import jupyter_visualize\n",
    "\n",
    "jupyter_visualize(\n",
    "    (\n",
    "        (f\"{x}d{y}({y + z_delta}+)\", uniform_successes(pool=x @ P(y), success_threshold=y + z_delta))\n",
    "        for y in (6, 8, 10)\n",
    "        for x in range(4, 7)\n",
    "        for z_delta in range(-2, 1)\n",
    "    ),\n",
    "    initial_burst_zero_fill_normalize=True,\n",
    ")"
   ]
  }
 ],
 "metadata": {
  "kernelspec": {
   "display_name": "Python 3 (ipykernel)",
   "language": "python",
   "name": "python3"
  },
  "language_info": {
   "codemirror_mode": {
    "name": "ipython",
    "version": 3
   },
   "file_extension": ".py",
   "mimetype": "text/x-python",
   "name": "python",
   "nbconvert_exporter": "python",
   "pygments_lexer": "ipython3",
   "version": "3.10.6"
  }
 },
 "nbformat": 4,
 "nbformat_minor": 5
}
