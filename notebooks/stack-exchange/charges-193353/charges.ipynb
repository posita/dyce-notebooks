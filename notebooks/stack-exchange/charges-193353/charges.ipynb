{
 "cells": [
  {
   "cell_type": "markdown",
   "id": "9ac1d369-b80b-4108-bb84-4e60d9e257cb",
   "metadata": {},
   "source": [
    "Launch interactive version: 👉👉👉 [![Try ``dyce``](https://jupyterlite.readthedocs.io/en/latest/_static/badge.svg)](https://posita.github.io/dyce-notebooks/lab?path=stack-exchange%2Fcharges-193353%2Fcharges.ipynb) 👈👈👈 *[[source](https://github.com/posita/dyce-notebooks/tree/main/notebooks/stack-exchange/charges-193353)]*\n",
    "\n",
    "## [``dyce``](https://posita.github.io/dyce/) translation of [Hypergardens’ solution to “Modelling ‘rolling d6 >= charges left expends a charge’ mechanics with anydice”](https://rpg.stackexchange.com/a/195107/71245)\n",
    "\n",
    "Once viewing this notebook in Jupyter Lab, select ``Run All Cells`` from the ``Run`` menu above."
   ]
  },
  {
   "cell_type": "code",
   "execution_count": 1,
   "id": "d6b3cbb1-325b-4221-b037-9fee77e13b9b",
   "metadata": {
    "jupyter": {
     "source_hidden": true
    }
   },
   "outputs": [],
   "source": [
    "# Install additional requirements if necessary\n",
    "import warnings\n",
    "with warnings.catch_warnings():\n",
    "    warnings.simplefilter(\"ignore\")\n",
    "    try:\n",
    "        import anydyce\n",
    "    except (ImportError, ModuleNotFoundError):\n",
    "        # See <https://jupyterlite.readthedocs.io/en/stable/howto/configure/simple_extensions.html#avoid-the-drift-of-versions-between-the-frontend-extension-and-the-python-package>\n",
    "        requirements = [\"ipywidgets==8.1.3\", \"matplotlib==3.5.2\", \"anydyce==0.4.6\"]\n",
    "        try:\n",
    "            import piplite ; await piplite.install(requirements, keep_going=True)\n",
    "            # Work around <https://github.com/jupyterlite/jupyterlite/issues/838>\n",
    "            import matplotlib.pyplot ; matplotlib.pyplot.clf()\n",
    "        except ImportError:\n",
    "            import pip ; pip.main([\"install\"] + requirements)\n",
    "    import anydyce"
   ]
  },
  {
   "cell_type": "code",
   "execution_count": 2,
   "id": "ef87e88b-3e04-4abc-a8af-482ba6dc24f7",
   "metadata": {},
   "outputs": [],
   "source": [
    "from dyce import H\n",
    "from dyce.evaluation import explode\n",
    "from fractions import Fraction\n",
    "\n",
    "try:\n",
    "    from functools import cache\n",
    "except ImportError:\n",
    "    from functools import lru_cache\n",
    "    cache = lru_cache(maxsize=None)\n",
    "\n",
    "def rolls_before_depleting_one_charge(charges: int, d: H) -> H:\n",
    "    return explode(\n",
    "        d.lt(charges),\n",
    "        limit=Fraction(1, 250),\n",
    "    )\n",
    "\n",
    "@cache  # <-- probably not helpful until charges is pretty large (see below), but doesn't hurt\n",
    "def expected_uses(charges: int, d: H = H(6)) -> H:\n",
    "    return (\n",
    "        H({0: 1}) if charges <= 0\n",
    "        else 1 + rolls_before_depleting_one_charge(charges, d) + expected_uses(charges - 1)\n",
    "    )"
   ]
  },
  {
   "cell_type": "code",
   "execution_count": 3,
   "id": "4fabe98c-7827-44d8-a6d3-fa75e40881d8",
   "metadata": {},
   "outputs": [
    {
     "data": {
      "application/vnd.jupyter.widget-view+json": {
       "model_id": "d7241c7aae004b3a916498288e7ce11c",
       "version_major": 2,
       "version_minor": 0
      },
      "text/plain": [
       "VBox(children=(Accordion(children=(Tab(children=(VBox(children=(HBox(children=(VBox(children=(VBox(children=(C…"
      ]
     },
     "metadata": {},
     "output_type": "display_data"
    }
   ],
   "source": [
    "from anydyce import jupyter_visualize\n",
    "\n",
    "d = 6\n",
    "hs_by_n_left = {n: expected_uses(n, H(d)) for n in range(0, d + 1)}\n",
    "\n",
    "jupyter_visualize(\n",
    "    (\n",
    "        (f\"Expected uses on\\nd{d} with {n} charges\\nMean: {h.mean():.2f}; Std Dev: {h.stdev():.2f}\", h)\n",
    "        for n, h in hs_by_n_left.items()\n",
    "    ),\n",
    "    initial_burst_cmap_inner=\"Blues_r\",\n",
    "    initial_burst_zero_fill_normalize=True,\n",
    "    initial_enable_cutoff=True,\n",
    ")"
   ]
  },
  {
   "cell_type": "code",
   "execution_count": 4,
   "id": "464988a3-f653-4fc2-a7c2-843865eebe41",
   "metadata": {},
   "outputs": [
    {
     "name": "stdout",
     "output_type": "stream",
     "text": [
      "160 ms ± 2.72 ms per loop (mean ± std. dev. of 7 runs, 10 loops each)\n"
     ]
    }
   ],
   "source": [
    "%%timeit\n",
    "\n",
    "def expected_uses_not_cached(charges: int, d: H) -> H:\n",
    "    return H({0: 1}) if charges <= 0 else 1 + rolls_before_depleting_one_charge(charges, d) + expected_uses_not_cached(charges - 1, d)\n",
    "\n",
    "[expected_uses_not_cached(n, H(6)) for n in range(50, 0, -1)]"
   ]
  },
  {
   "cell_type": "code",
   "execution_count": 5,
   "id": "da2d21b9-d055-4d9c-b0dd-e5f43c5fa274",
   "metadata": {},
   "outputs": [
    {
     "name": "stdout",
     "output_type": "stream",
     "text": [
      "4.83 ms ± 136 µs per loop (mean ± std. dev. of 7 runs, 100 loops each)\n"
     ]
    }
   ],
   "source": [
    "%%timeit\n",
    "\n",
    "@cache\n",
    "def expected_uses_cached(charges: int, d: H) -> H:\n",
    "    return H({0: 1}) if charges <= 0 else 1 + rolls_before_depleting_one_charge(charges, d) + expected_uses_cached(charges - 1, d)\n",
    "\n",
    "[expected_uses_cached(n, H(6)) for n in range(50, 0, -1)]"
   ]
  }
 ],
 "metadata": {
  "kernelspec": {
   "display_name": "Python 3 (ipykernel)",
   "language": "python",
   "name": "python3"
  },
  "language_info": {
   "codemirror_mode": {
    "name": "ipython",
    "version": 3
   },
   "file_extension": ".py",
   "mimetype": "text/x-python",
   "name": "python",
   "nbconvert_exporter": "python",
   "pygments_lexer": "ipython3",
   "version": "3.11.4"
  }
 },
 "nbformat": 4,
 "nbformat_minor": 5
}
