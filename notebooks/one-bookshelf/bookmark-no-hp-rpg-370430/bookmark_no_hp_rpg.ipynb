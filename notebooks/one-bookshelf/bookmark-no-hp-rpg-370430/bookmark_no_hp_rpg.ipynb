{
 "cells": [
  {
   "cell_type": "markdown",
   "id": "9bba6730-7eeb-42f0-84fa-f02dc15764d7",
   "metadata": {},
   "source": [
    "Launch interactive version: 👉👉👉 [![Try ``dyce``](https://jupyterlite.readthedocs.io/en/latest/_static/badge.svg)](https://posita.github.io/dyce-notebooks/lab?path=one-bookshelf%2Fbookmark-no-hp-rpg-370430%2Fbookmark_no_hp_rpg.ipynb) 👈👈👈 *[[source](https://github.com/posita/dyce-notebooks/tree/main/notebooks/one-bookshelf/bookmark-no-hp-rpg-370430)]*\n",
    "\n",
    "## [``dyce``](https://posita.github.io/dyce/) computation of mechanic odds for [“Bookmark No HP RPG”](https://www.drivethrurpg.com/product/370430/Bookmark-No-HP-RPG)\n",
    "\n",
    "Once viewing this notebook in Jupyter Lab, select ``Run All Cells`` from the ``Run`` menu above."
   ]
  },
  {
   "cell_type": "code",
   "execution_count": 1,
   "id": "e1b4cb5a-b01c-4d32-9446-beaa6a5165f8",
   "metadata": {
    "jupyter": {
     "source_hidden": true
    }
   },
   "outputs": [],
   "source": [
    "# Install additional requirements if necessary\n",
    "import warnings\n",
    "with warnings.catch_warnings():\n",
    "    warnings.simplefilter(\"ignore\")\n",
    "    try:\n",
    "        import anydyce\n",
    "    except (ImportError, ModuleNotFoundError):\n",
    "        # See <https://jupyterlite.readthedocs.io/en/stable/howto/configure/simple_extensions.html#avoid-the-drift-of-versions-between-the-frontend-extension-and-the-python-package>\n",
    "        requirements = [\"anydyce~=0.4.4\"]\n",
    "        try:\n",
    "            import piplite ; await piplite.install(requirements, keep_going=True)\n",
    "            # Work around <https://github.com/jupyterlite/jupyterlite/issues/838>\n",
    "            import matplotlib.pyplot ; matplotlib.pyplot.clf()\n",
    "        except ImportError:\n",
    "            import pip ; pip.main([\"install\"] + requirements)\n",
    "    import anydyce"
   ]
  },
  {
   "cell_type": "code",
   "execution_count": 2,
   "id": "72d42520-db6b-4b5d-a670-7e47188d0670",
   "metadata": {},
   "outputs": [],
   "source": [
    "from dyce import H\n",
    "from dyce.evaluation import aggregate_weighted\n",
    "from functools import cache\n",
    "\n",
    "def bookmark__no_hp_rpg(n: int, d: H, flip_negatives: bool = False) -> H:\n",
    "    failure_outcome = min(d)\n",
    "    assert failure_outcome >= 0, f\"lowest value is {failure_outcome}; negative values are reserved for tracking degrees of failure\"\n",
    "    failures_appearing = n @ d.eq(failure_outcome)\n",
    "    d_without_failure = d.draw(failure_outcome).lowest_terms()\n",
    "\n",
    "    def _sub_hs_from_failures_gen():\n",
    "        for num_failures, count in failures_appearing.items():\n",
    "            if num_failures > 0:\n",
    "                if flip_negatives:\n",
    "                    failures = -_min_from_nd_dp(n - num_failures, d_without_failure)\n",
    "                    failures = failures.draw({0: failures.get(0, 0), -max(d) - 1: -failures.get(0, 0)})\n",
    "                    yield failures, count\n",
    "                else:\n",
    "                    yield -_max_from_nd_dp(n - num_failures, d_without_failure), count\n",
    "            else:\n",
    "                yield _max_from_nd_dp(n, d_without_failure), count\n",
    " \n",
    "    return aggregate_weighted(_sub_hs_from_failures_gen())\n",
    "\n",
    "def _max_from_nd_dp(n: int, d: H) -> H:\n",
    "    return _val_from_nd_dp(n, d, max)\n",
    "\n",
    "def _min_from_nd_dp(n: int, d: H) -> H:\n",
    "    return _val_from_nd_dp(n, d, min)\n",
    "\n",
    "@cache\n",
    "def _val_from_nd_dp(n: int, d: H, cmp) -> H:\n",
    "    if n == 0:\n",
    "        return H({0: 1})\n",
    "    elif n == 1:\n",
    "        return d\n",
    "    elif n > 1:\n",
    "        return d.map(cmp, _val_from_nd_dp(n - 1, d, cmp))\n",
    "    else:\n",
    "        assert False, \"shouldn't ever be here\""
   ]
  },
  {
   "cell_type": "markdown",
   "id": "ca9e5e82-e7a4-4c41-b4a4-6e26fd12b823",
   "metadata": {},
   "source": [
    "### Interpreting results\n",
    "\n",
    "*Bookmark ~HP~ RPG* affords degrees of success and failure. If a one appears at least once when rolling, the result is a failure, the degree of which depends on the highest die that is not a one. When rolling a d6 with a difficulty of five, if the roll is (2, 1, 3, 5, 2), the result would be a failure with a degree of 5. If the roll is (2, 3, 2, 2, 3), the result would be a success with a degree of 3.\n",
    "\n",
    "The graphs below show the likelihood of a particular result given all possible rolls. Degrees of failure are represented by negative numbers and degrees of success are represented by positive numbers. By default, a zero indicates a roll constituting solely ones, e.g., (1, 1, 1, 1, 1). Expanding on our previous example, a roll of (2, 1, 3, 5, 1) is represented as -5 (i.e., a failure whose maximum non-one value is 5).\n",
    "\n",
    "Because the values in each graph are sorted least-to-greatest, the worst results (most severe degree of failure, or least impactful degree of success) hover around zero (with zero being the worst possible outcome for the player), and fan out into better (less severe, more impactful) results from there. What&rsquo;s interesting in the extremes is that the mechanic favors either least severe failures or more impactful successes, with the worst outcomes being very unlikely.\n",
    "\n",
    "If ``Invert Failures`` is enabled, lower negative values (i.e., those ***farther*** from zero) are more severe failures, the most negative value being the worst (i.e., all ones). This is basically akin to looking to the ***minimum*** non-one outcome in the case of a failure and treating that as the least severe. The negative of one more than the highest die face (e.g., -7 on a d6) represents an all-one roll. This is a little counter-intuitive, but orders results worst-to-best for the player."
   ]
  },
  {
   "cell_type": "code",
   "execution_count": 3,
   "id": "cb0e0fe7-b16c-458a-a6dd-fa7be6cfb8d0",
   "metadata": {
    "jupyter": {
     "source_hidden": true
    }
   },
   "outputs": [
    {
     "data": {
      "application/vnd.jupyter.widget-view+json": {
       "model_id": "93b557bb84c14d89a7877f370460658e",
       "version_major": 2,
       "version_minor": 0
      },
      "text/plain": [
       "HBox(children=(SelectMultiple(description='Dice', index=(0, 1, 2, 3), options=('d4', 'd6', 'd8', 'd10', 'd12')…"
      ]
     },
     "metadata": {},
     "output_type": "display_data"
    },
    {
     "data": {
      "application/vnd.jupyter.widget-view+json": {
       "model_id": "a74cef97c3774f8da21191798577e2fa",
       "version_major": 2,
       "version_minor": 0
      },
      "text/plain": [
       "Output()"
      ]
     },
     "metadata": {},
     "output_type": "display_data"
    }
   ],
   "source": [
    "from anydyce import jupyter_visualize\n",
    "from ipywidgets import widgets\n",
    "\n",
    "dice = {\n",
    "    \"d4\": H(4),\n",
    "    \"d6\": H(6), \n",
    "    \"d8\": H(8),\n",
    "    \"d10\": H(10),\n",
    "    \"d12\": H(12),\n",
    "}\n",
    "\n",
    "def _display(\n",
    "    selected_dice: list[str],\n",
    "    difficulties: tuple[int, int],\n",
    "    flip_failures: bool,\n",
    "):\n",
    "    difficulty_lo, difficulty_hi = difficulties\n",
    "    jupyter_visualize(\n",
    "        [\n",
    "            (\n",
    "                f\"{d_str} results\\nvs. difficulty of {difficulty}\",\n",
    "                bookmark__no_hp_rpg(difficulty, dice[d_str], flip_failures),\n",
    "            )\n",
    "            for difficulty in range(difficulty_lo, difficulty_hi + 1) for d_str in selected_dice\n",
    "        ],\n",
    "        # controls_expanded=True,\n",
    "        initial_burst_color_bg_trnsp=True,\n",
    "        initial_burst_columns=len(selected_dice),\n",
    "        initial_enable_cutoff=False,\n",
    "        initial_resolution=3 * (len(selected_dice) + 1),\n",
    "    )\n",
    "\n",
    "dice_keys = list(dice.keys())\n",
    "dice_widget = widgets.SelectMultiple(\n",
    "    options=dice_keys,\n",
    "    value=dice_keys[0:-1],\n",
    "    description=\"Dice\",\n",
    ")\n",
    "\n",
    "difficulties_widget = widgets.IntRangeSlider(\n",
    "    value=(2, 6),\n",
    "    min=1,\n",
    "    max=10,\n",
    "    step=1,\n",
    "    continuous_update=False,\n",
    "    description=\"Difficulties\",\n",
    ")\n",
    "\n",
    "flip_failures_widget = widgets.Checkbox(\n",
    "    value=False,\n",
    "    description=\"Invert Failures\",\n",
    ")\n",
    "\n",
    "display(widgets.HBox([\n",
    "    dice_widget,\n",
    "    widgets.VBox([\n",
    "        difficulties_widget,\n",
    "        flip_failures_widget,\n",
    "    ]),\n",
    "]))\n",
    "\n",
    "display(\n",
    "    widgets.interactive_output(\n",
    "        _display,\n",
    "        {\n",
    "            \"selected_dice\": dice_widget,\n",
    "            \"difficulties\": difficulties_widget,\n",
    "            \"flip_failures\": flip_failures_widget,\n",
    "        },\n",
    "    )\n",
    ")"
   ]
  },
  {
   "cell_type": "markdown",
   "id": "1509f27d-f757-4b04-bee9-2260269d72eb",
   "metadata": {},
   "source": [
    "Code below is used to validate (test) that above."
   ]
  },
  {
   "cell_type": "code",
   "execution_count": 4,
   "id": "f0c6ccb5-9410-4ea3-85b5-5c9bc27af019",
   "metadata": {
    "jupyter": {
     "source_hidden": true
    }
   },
   "outputs": [],
   "source": [
    "from functools import reduce\n",
    "from itertools import repeat\n",
    "\n",
    "def bookmark_no_hp_rpg_opaque_failures(n: int, d: H) -> H:\n",
    "    failure_outcome = min(d)\n",
    "    assert failure_outcome >= 0, f\"lowest value is {failure_outcome}; negative values are reserved for tracking degrees of failure\"\n",
    "    no_failures = (n @ d.eq(failure_outcome)).eq(0)\n",
    "    d_without_failure = d.draw(failure_outcome).lowest_terms()\n",
    "    max_success = _max_from_nd(n, d_without_failure)\n",
    "    return H(\n",
    "        (outcome, count)\n",
    "        for outcome, count in (no_failures * max_success).items()\n",
    "    )\n",
    "\n",
    "def _max_from_nd(n: int, d: H) -> H:\n",
    "    return reduce(\n",
    "        lambda lh, rh: lh.map(max, rh),\n",
    "        repeat(d, n),\n",
    "        H({0: 1}),\n",
    "    )\n",
    "\n",
    "for difficulty in range(1, 11):\n",
    "    for die in dice.values():\n",
    "        assert _max_from_nd(difficulty, die) == _max_from_nd_dp(difficulty, die)\n",
    "        failures_collapsed = H(\n",
    "            (0 if outcome < 0 else outcome, count)\n",
    "            for outcome, count in bookmark__no_hp_rpg(difficulty, die).items()\n",
    "        )\n",
    "        assert bookmark_no_hp_rpg_opaque_failures(difficulty, die) == failures_collapsed"
   ]
  }
 ],
 "metadata": {
  "kernelspec": {
   "display_name": "Python 3 (ipykernel)",
   "language": "python",
   "name": "python3"
  },
  "language_info": {
   "codemirror_mode": {
    "name": "ipython",
    "version": 3
   },
   "file_extension": ".py",
   "mimetype": "text/x-python",
   "name": "python",
   "nbconvert_exporter": "python",
   "pygments_lexer": "ipython3",
   "version": "3.11.4"
  }
 },
 "nbformat": 4,
 "nbformat_minor": 5
}
