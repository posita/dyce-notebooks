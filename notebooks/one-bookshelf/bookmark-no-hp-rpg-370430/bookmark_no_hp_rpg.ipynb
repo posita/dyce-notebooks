{
 "cells": [
  {
   "cell_type": "markdown",
   "id": "9bba6730-7eeb-42f0-84fa-f02dc15764d7",
   "metadata": {},
   "source": [
    "Launch interactive version: 👉👉👉 [![Try ``dyce``](https://jupyterlite.readthedocs.io/en/latest/_static/badge.svg)](https://posita.github.io/dyce-notebooks/lab?path=one-bookshelf%2Fbookmark-no-hp-rpg-370430%2Fbookmark_no_hp_rpg.ipynb) 👈👈👈 *[[source](https://github.com/posita/dyce-notebooks/tree/main/notebooks/one-bookshelf/bookmark-no-hp-rpg-370430)]*\n",
    "\n",
    "## [``dyce``](https://posita.github.io/dyce/) computation of mechanic odds for [“Bookmark No HP RPG”](https://www.drivethrurpg.com/product/370430/Bookmark-No-HP-RPG)\n",
    "\n",
    "Once viewing this notebook in Jupyter Lab, select ``Run All Cells`` from the ``Run`` menu above."
   ]
  },
  {
   "cell_type": "code",
   "execution_count": 1,
   "id": "e1b4cb5a-b01c-4d32-9446-beaa6a5165f8",
   "metadata": {},
   "outputs": [],
   "source": [
    "# Install additional requirements if necessary\n",
    "import warnings\n",
    "with warnings.catch_warnings():\n",
    "    warnings.simplefilter(\"ignore\")\n",
    "    try:\n",
    "        import anydyce\n",
    "    except (ImportError, ModuleNotFoundError):\n",
    "        requirements = [\"anydyce~=0.4.4\", \"dyce~=0.6.2\"]\n",
    "        try:\n",
    "            import piplite ; await piplite.install(requirements)\n",
    "            # Work around <https://github.com/jupyterlite/jupyterlite/issues/838>\n",
    "            import matplotlib.pyplot ; matplotlib.pyplot.clf()\n",
    "        except ImportError:\n",
    "            import pip ; pip.main([\"install\"] + requirements)\n",
    "    import anydyce"
   ]
  },
  {
   "cell_type": "code",
   "execution_count": 2,
   "id": "72d42520-db6b-4b5d-a670-7e47188d0670",
   "metadata": {},
   "outputs": [],
   "source": [
    "from dyce import H\n",
    "from enum import IntEnum, auto\n",
    "from functools import reduce\n",
    "from itertools import repeat\n",
    "\n",
    "class Result(IntEnum):\n",
    "    FAIL = 0\n",
    "    LO = auto()\n",
    "    MD = auto()\n",
    "    HI = auto()\n",
    "\n",
    "def bookmark_rpg(n: int, d: H) -> H:\n",
    "    lowest_outcome = min(d)\n",
    "    bool_lowest_does_not_appear = (n @ d.eq(lowest_outcome)).eq(0)\n",
    "    d_without_lowest = d.draw(lowest_outcome).lowest_terms()\n",
    "    d_lo_md_hi = H(\n",
    "        (\n",
    "            Result.LO\n",
    "            if outcome == min(d_without_lowest)\n",
    "            else Result.HI\n",
    "            if outcome == max(d_without_lowest)\n",
    "            else Result.MD,\n",
    "            count,\n",
    "        )\n",
    "        for outcome, count in d_without_lowest.items()\n",
    "    )\n",
    "    max_success = reduce(\n",
    "        lambda lh, rh: lh.map(max, rh),\n",
    "        repeat(d_lo_md_hi, n),\n",
    "    )\n",
    "    return H(\n",
    "        (Result(outcome), count)\n",
    "        for outcome, count in (bool_lowest_does_not_appear * max_success).items()\n",
    "    )"
   ]
  },
  {
   "cell_type": "code",
   "execution_count": 3,
   "id": "cb0e0fe7-b16c-458a-a6dd-fa7be6cfb8d0",
   "metadata": {},
   "outputs": [
    {
     "data": {
      "application/vnd.jupyter.widget-view+json": {
       "model_id": "eda2df90190945e7865bc788c2148043",
       "version_major": 2,
       "version_minor": 0
      },
      "text/plain": [
       "VBox(children=(Accordion(children=(Tab(children=(VBox(children=(HBox(children=(VBox(children=(VBox(children=(C…"
      ]
     },
     "metadata": {},
     "output_type": "display_data"
    }
   ],
   "source": [
    "from anydyce import jupyter_visualize\n",
    "\n",
    "dice = {\n",
    "    \"d4\": H(4),\n",
    "    \"d6\": H(6), \n",
    "    \"d8\": H(8),\n",
    "    \"d10\": H(10),\n",
    "    \"d12\": H(12),\n",
    "}\n",
    "\n",
    "jupyter_visualize(\n",
    "    [\n",
    "        (f\"{d_str} max outcome\\nvs. difficulty of {difficulty}\", bookmark_rpg(difficulty, dice[d_str]))\n",
    "        for difficulty in range(1, 11) for d_str in dice\n",
    "    ],\n",
    "    controls_expanded=True,\n",
    "    initial_burst_color_bg_trnsp=True,\n",
    "    initial_burst_columns=len(dice),\n",
    "    initial_enable_cutoff=False,\n",
    "    initial_resolution=18,\n",
    ")"
   ]
  }
 ],
 "metadata": {
  "kernelspec": {
   "display_name": "Python 3 (ipykernel)",
   "language": "python",
   "name": "python3"
  },
  "language_info": {
   "codemirror_mode": {
    "name": "ipython",
    "version": 3
   },
   "file_extension": ".py",
   "mimetype": "text/x-python",
   "name": "python",
   "nbconvert_exporter": "python",
   "pygments_lexer": "ipython3",
   "version": "3.11.4"
  }
 },
 "nbformat": 4,
 "nbformat_minor": 5
}
