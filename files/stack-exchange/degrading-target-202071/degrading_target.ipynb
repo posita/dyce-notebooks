{
 "cells": [
  {
   "cell_type": "markdown",
   "id": "189ea1dd-7425-4a19-a7e7-6201a3421000",
   "metadata": {},
   "source": [
    "Launch interactive version: 👉👉👉 [![Try ``dyce``](https://jupyterlite.readthedocs.io/en/latest/_static/badge.svg)](https://posita.github.io/dyce-notebooks/lab?path=stack-exchange%2Fdegrading-target-202071%2Fdegrading_target.ipynb) 👈👈👈 *[[source](https://github.com/posita/dyce-notebooks/tree/main/notebooks/stack-exchange/degrading-target-202071)]*\n",
    "\n",
    "## [``dyce``](https://posita.github.io/dyce/) solution to [“How many rolls of a D20 would you expect to equal or beat (20 - number of tries)?”](https://rpg.stackexchange.com/q/202071/71245)\n",
    "\n",
    "Once viewing this notebook in Jupyter Lab, select ``Run All Cells`` from the ``Run`` menu above."
   ]
  },
  {
   "cell_type": "code",
   "execution_count": 1,
   "id": "490f98b7-f008-4364-be22-1881237f0c5c",
   "metadata": {},
   "outputs": [],
   "source": [
    "# Install additional requirements if necessary\n",
    "import warnings\n",
    "with warnings.catch_warnings():\n",
    "    warnings.simplefilter(\"ignore\")\n",
    "    try:\n",
    "        import anydyce\n",
    "    except (ImportError, ModuleNotFoundError):\n",
    "        requirements = [\"anydyce~=0.2.0\"]\n",
    "        try:\n",
    "            import piplite ; await piplite.install(requirements)\n",
    "        except ImportError:\n",
    "            import pip ; pip.main([\"install\"] + requirements)\n",
    "    import anydyce\n",
    "\n",
    "try:\n",
    "    import showit\n",
    "except ImportError:\n",
    "    # Work-around for JupyterLite in non-Chromium browsers\n",
    "    import js\n",
    "    import os\n",
    "    from urllib.parse import urljoin\n",
    "    base_url = urljoin(js.location.toString(), \"../files/\")\n",
    "    for path in (\n",
    "                \"stack-exchange/degrading-target-202071/degrading_target.py\",\n",
    "                \"stack-exchange/degrading-target-202071/showit.py\",\n",
    "            ):\n",
    "        url = urljoin(base_url, path)\n",
    "        res = await js.fetch(url)\n",
    "        text = await res.text()\n",
    "        with open(os.path.basename(path), \"w\") as f:\n",
    "            f.write(text)\n",
    "    import showit"
   ]
  },
  {
   "cell_type": "code",
   "execution_count": 2,
   "id": "4dcda9f8-5b4a-4e84-9f22-a1cc9948a193",
   "metadata": {},
   "outputs": [
    {
     "name": "stdout",
     "output_type": "stream",
     "text": [
      "---- non-performant approach ----\n",
      "d20 with target 3 --> 394 µs ± 4.57 µs per loop (mean ± std. dev. of 7 runs, 1,000 loops each)\n",
      "d20 with target 4 --> 1.22 ms ± 9.6 µs per loop (mean ± std. dev. of 7 runs, 1,000 loops each)\n",
      "d20 with target 5 --> 4.63 ms ± 81.1 µs per loop (mean ± std. dev. of 7 runs, 100 loops each)\n",
      "d20 with target 6 --> 23.3 ms ± 239 µs per loop (mean ± std. dev. of 7 runs, 10 loops each)\n",
      "\n",
      "---- performant approach ----\n",
      "d20 with target 3 --> 97.9 µs ± 542 ns per loop (mean ± std. dev. of 7 runs, 10,000 loops each)\n",
      "d20 with target 6 --> 190 µs ± 1.55 µs per loop (mean ± std. dev. of 7 runs, 10,000 loops each)\n",
      "d20 with target 9 --> 286 µs ± 2.69 µs per loop (mean ± std. dev. of 7 runs, 1,000 loops each)\n",
      "d20 with target 12 --> 382 µs ± 4.02 µs per loop (mean ± std. dev. of 7 runs, 1,000 loops each)\n",
      "d20 with target 15 --> 469 µs ± 7.75 µs per loop (mean ± std. dev. of 7 runs, 1,000 loops each)\n",
      "d20 with target 18 --> 580 µs ± 4.27 µs per loop (mean ± std. dev. of 7 runs, 1,000 loops each)\n",
      "\n",
      "avg |    5.29\n",
      "std |    2.59\n",
      "var |    6.68\n",
      "  1 |   5.00% |#################\n",
      "  2 |   9.50% |################################\n",
      "  3 |  12.83% |############################################\n",
      "  4 |  14.54% |##################################################\n",
      "  5 |  14.54% |##################################################\n",
      "  6 |  13.08% |############################################\n",
      "  7 |  10.68% |####################################\n",
      "  8 |   7.94% |###########################\n",
      "  9 |   5.36% |##################\n",
      " 10 |   3.27% |###########\n",
      " 11 |   1.80% |######\n",
      " 12 |   0.88% |###\n",
      " 13 |   0.38% |#\n",
      " 14 |   0.14% |\n",
      " 15 |   0.05% |\n",
      " 16 |   0.01% |\n",
      " 17 |   0.00% |\n",
      " 18 |   0.00% |\n",
      " 19 |   0.00% |\n",
      " 20 |   0.00% |\n"
     ]
    }
   ],
   "source": [
    "from dyce import H\n",
    "from degrading_target import degrading_target_nonperformant, degrading_target_performant\n",
    "\n",
    "d20 = H(20)\n",
    "\n",
    "print(\"---- non-performant approach ----\")\n",
    "for target in range(3, 7):\n",
    "    print(f\"d20 with target {target} --> \", end=\"\")\n",
    "    %timeit degrading_target_nonperformant(d20, target)\n",
    "\n",
    "print(\"\")\n",
    "print(\"---- performant approach ----\")\n",
    "for target in range(3, 21, 3):\n",
    "    print(f\"d20 with target {target} --> \", end=\"\")\n",
    "    %timeit degrading_target_performant(d20, target)\n",
    "\n",
    "print(\"\")\n",
    "h = degrading_target_performant(d20, 20)\n",
    "print(h.format(scaled=True))"
   ]
  },
  {
   "cell_type": "markdown",
   "id": "1b1cc192-700b-47d8-961e-0945a85215d4",
   "metadata": {},
   "source": [
    "Substantive code is in [``degrading_target.py``](degrading_target.py)."
   ]
  },
  {
   "cell_type": "code",
   "execution_count": 3,
   "id": "a0656695-19f3-4a46-b164-9f0c22442ab1",
   "metadata": {},
   "outputs": [
    {
     "data": {
      "application/vnd.jupyter.widget-view+json": {
       "model_id": "5d2623634c6d4ff8bf24743301df117a",
       "version_major": 2,
       "version_minor": 0
      },
      "text/plain": [
       "VBox(children=(HBox(children=(Dropdown(description='Die', index=5, options=('d4', 'd6', 'd8', 'd10', 'd12', 'd…"
      ]
     },
     "metadata": {},
     "output_type": "display_data"
    },
    {
     "data": {
      "application/vnd.jupyter.widget-view+json": {
       "model_id": "3891cd0cb8394962914e2654c548e228",
       "version_major": 2,
       "version_minor": 0
      },
      "text/plain": [
       "Output()"
      ]
     },
     "metadata": {},
     "output_type": "display_data"
    }
   ],
   "source": [
    "from showit import showit\n",
    "showit()"
   ]
  }
 ],
 "metadata": {
  "kernelspec": {
   "display_name": "Python 3 (ipykernel)",
   "language": "python",
   "name": "python3"
  },
  "language_info": {
   "codemirror_mode": {
    "name": "ipython",
    "version": 3
   },
   "file_extension": ".py",
   "mimetype": "text/x-python",
   "name": "python",
   "nbconvert_exporter": "python",
   "pygments_lexer": "ipython3",
   "version": "3.10.6"
  }
 },
 "nbformat": 4,
 "nbformat_minor": 5
}
