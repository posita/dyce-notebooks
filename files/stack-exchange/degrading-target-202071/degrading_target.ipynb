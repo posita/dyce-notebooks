{
 "cells": [
  {
   "cell_type": "markdown",
   "id": "189ea1dd-7425-4a19-a7e7-6201a3421000",
   "metadata": {},
   "source": [
    "Launch interactive version: 👉👉👉 [![Try ``dyce``](https://jupyterlite.readthedocs.io/en/latest/_static/badge.svg)](https://posita.github.io/dyce-notebooks/lab?path=stack-exchange%2Fdegrading-target-202071%2Fdegrading_target.ipynb) 👈👈👈 *[[source](https://github.com/posita/dyce-notebooks/tree/main/notebooks/stack-exchange/degrading-target-202071)]*\n",
    "\n",
    "## [``dyce``](https://posita.github.io/dyce/) solution to [“How many rolls of a D20 would you expect to equal or beat (20 - number of tries)?”](https://rpg.stackexchange.com/q/202071/71245)\n",
    "\n",
    "Once viewing this notebook in Jupyter Lab, select ``Run All Cells`` from the ``Run`` menu above."
   ]
  },
  {
   "cell_type": "code",
   "execution_count": 1,
   "id": "490f98b7-f008-4364-be22-1881237f0c5c",
   "metadata": {},
   "outputs": [],
   "source": [
    "# Install additional requirements if necessary\n",
    "import warnings\n",
    "with warnings.catch_warnings():\n",
    "    warnings.simplefilter(\"ignore\")\n",
    "    try:\n",
    "        import anydyce\n",
    "    except (ImportError, ModuleNotFoundError):\n",
    "        requirements = [\"anydyce~=0.2.0\"]\n",
    "        try:\n",
    "            import piplite ; await piplite.install(requirements)\n",
    "        except ImportError:\n",
    "            import pip ; pip.main([\"install\"] + requirements)\n",
    "    import anydyce\n",
    "\n",
    "try:\n",
    "    import showit\n",
    "except ImportError:\n",
    "    # Work-around for JupyterLite in non-Chromium browsers\n",
    "    import js\n",
    "    import os\n",
    "    from urllib.parse import urljoin\n",
    "    base_url = urljoin(js.location.toString(), \"../files/\")\n",
    "    for path in (\n",
    "                \"stack-exchange/degrading-target-202071/degrading_target.py\",\n",
    "                \"stack-exchange/degrading-target-202071/showit.py\",\n",
    "            ):\n",
    "        url = urljoin(base_url, path)\n",
    "        res = await js.fetch(url)\n",
    "        text = await res.text()\n",
    "        with open(os.path.basename(path), \"w\") as f:\n",
    "            f.write(text)\n",
    "    import showit"
   ]
  },
  {
   "cell_type": "code",
   "execution_count": 2,
   "id": "4dcda9f8-5b4a-4e84-9f22-a1cc9948a193",
   "metadata": {},
   "outputs": [
    {
     "name": "stdout",
     "output_type": "stream",
     "text": [
      "\n",
      "---- non-performant approach ----\n",
      "d20 with target 3 --> 71.6 µs ± 768 ns per loop (mean ± std. dev. of 7 runs, 10,000 loops each)\n",
      "d20 with target 4 --> 137 µs ± 1 µs per loop (mean ± std. dev. of 7 runs, 10,000 loops each)\n",
      "d20 with target 5 --> 342 µs ± 4.59 µs per loop (mean ± std. dev. of 7 runs, 1,000 loops each)\n",
      "d20 with target 6 --> 1.1 ms ± 11 µs per loop (mean ± std. dev. of 7 runs, 1,000 loops each)\n",
      "\n",
      "---- performant approach ----\n",
      "d20 with target 3 --> 27.9 µs ± 277 ns per loop (mean ± std. dev. of 7 runs, 10,000 loops each)\n",
      "d20 with target 6 --> 123 µs ± 1.8 µs per loop (mean ± std. dev. of 7 runs, 10,000 loops each)\n",
      "d20 with target 9 --> 211 µs ± 3.05 µs per loop (mean ± std. dev. of 7 runs, 1,000 loops each)\n",
      "d20 with target 12 --> 301 µs ± 3.14 µs per loop (mean ± std. dev. of 7 runs, 1,000 loops each)\n",
      "d20 with target 15 --> 394 µs ± 4.36 µs per loop (mean ± std. dev. of 7 runs, 1,000 loops each)\n",
      "d20 with target 18 --> 501 µs ± 4.49 µs per loop (mean ± std. dev. of 7 runs, 1,000 loops each)\n"
     ]
    }
   ],
   "source": [
    "from dyce import H\n",
    "from degrading_target import degrading_target_nonperformant, degrading_target_performant\n",
    "\n",
    "d20 = H(20)\n",
    "\n",
    "print(\"\\n---- non-performant approach ----\")\n",
    "for target in range(3, 7):\n",
    "    print(f\"d20 with target {target} --> \", end=\"\")\n",
    "    %timeit degrading_target_nonperformant(d20, target)\n",
    "\n",
    "print(\"\\n---- performant approach ----\")\n",
    "for target in range(3, 21, 3):\n",
    "    print(f\"d20 with target {target} --> \", end=\"\")\n",
    "    %timeit degrading_target_performant(d20, target)"
   ]
  },
  {
   "cell_type": "markdown",
   "id": "1b1cc192-700b-47d8-961e-0945a85215d4",
   "metadata": {},
   "source": [
    "Substantive code is in [``degrading_target.py``](degrading_target.py)."
   ]
  },
  {
   "cell_type": "code",
   "execution_count": 3,
   "id": "a0656695-19f3-4a46-b164-9f0c22442ab1",
   "metadata": {},
   "outputs": [
    {
     "data": {
      "application/vnd.jupyter.widget-view+json": {
       "model_id": "2d840f5d321846358f72152de8a6a57b",
       "version_major": 2,
       "version_minor": 0
      },
      "text/plain": [
       "VBox(children=(HBox(children=(Dropdown(description='Die', index=5, options=('d4', 'd6', 'd8', 'd10', 'd12', 'd…"
      ]
     },
     "metadata": {},
     "output_type": "display_data"
    },
    {
     "data": {
      "application/vnd.jupyter.widget-view+json": {
       "model_id": "cced9a3268a74c668078cf0a76c4eac6",
       "version_major": 2,
       "version_minor": 0
      },
      "text/plain": [
       "Output()"
      ]
     },
     "metadata": {},
     "output_type": "display_data"
    }
   ],
   "source": [
    "from showit import showit\n",
    "showit()"
   ]
  }
 ],
 "metadata": {
  "kernelspec": {
   "display_name": "Python 3 (ipykernel)",
   "language": "python",
   "name": "python3"
  },
  "language_info": {
   "codemirror_mode": {
    "name": "ipython",
    "version": 3
   },
   "file_extension": ".py",
   "mimetype": "text/x-python",
   "name": "python",
   "nbconvert_exporter": "python",
   "pygments_lexer": "ipython3",
   "version": "3.10.6"
  }
 },
 "nbformat": 4,
 "nbformat_minor": 5
}
