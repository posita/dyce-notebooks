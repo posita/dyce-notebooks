{
 "cells": [
  {
   "cell_type": "markdown",
   "id": "189ea1dd-7425-4a19-a7e7-6201a3421000",
   "metadata": {},
   "source": [
    "Launch interactive version: 👉👉👉 [![Try ``dyce``](https://jupyterlite.readthedocs.io/en/latest/_static/badge.svg)](https://posita.github.io/dyce-notebooks/lab?path=stack-exchange%2Fdegrading-target-202071%2Fdegrading_target.ipynb) 👈👈👈 *[[source](https://github.com/posita/dyce-notebooks/tree/main/notebooks/stack-exchange/degrading-target-202071)]*\n",
    "\n",
    "## [``dyce``](https://posita.github.io/dyce/) solution to [“How many rolls of a D20 would you expect to equal or beat (20 - number of tries)?”](https://rpg.stackexchange.com/a/202128/71245)\n",
    "\n",
    "Once viewing this notebook in Jupyter Lab, select ``Run All Cells`` from the ``Run`` menu above."
   ]
  },
  {
   "cell_type": "code",
   "execution_count": 1,
   "id": "490f98b7-f008-4364-be22-1881237f0c5c",
   "metadata": {},
   "outputs": [],
   "source": [
    "# Install additional requirements if necessary\n",
    "import warnings\n",
    "with warnings.catch_warnings():\n",
    "    warnings.simplefilter(\"ignore\")\n",
    "    try:\n",
    "        import anydyce\n",
    "    except (ImportError, ModuleNotFoundError):\n",
    "        requirements = [\"anydyce~=0.4.0\"]\n",
    "        try:\n",
    "            import piplite ; await piplite.install(requirements)\n",
    "            # Work around <https://github.com/jupyterlite/jupyterlite/issues/838>\n",
    "            import matplotlib.pyplot ; matplotlib.pyplot.clf()\n",
    "        except ImportError:\n",
    "            import pip ; pip.main([\"install\"] + requirements)\n",
    "    import anydyce\n",
    "\n",
    "try:\n",
    "    import showit\n",
    "except ImportError:\n",
    "    # Work-around for JupyterLite in non-Chromium browsers\n",
    "    import js\n",
    "    import os\n",
    "    from urllib.parse import urljoin, urlparse, urlunparse\n",
    "    loc_url = urlparse(js.location.toString())\n",
    "    ext_root = loc_url.path.find(\"/extensions/@jupyterlite/\")\n",
    "    if ext_root < 0:\n",
    "        base_url = urljoin(js.location.toString(), \"../files/\")\n",
    "    else:\n",
    "        loc_url = loc_url._replace(path=loc_url.path[:ext_root])\n",
    "        base_url = urljoin(urlunparse(loc_url), \"files/\")\n",
    "    for path in (\n",
    "                \"stack-exchange/degrading-target-202071/degrading_target.py\",\n",
    "                \"stack-exchange/degrading-target-202071/showit.py\",\n",
    "            ):\n",
    "        url = urljoin(base_url, path)\n",
    "        res = await js.fetch(url)\n",
    "        assert 200 <= res.status < 300\n",
    "        text = await res.text()\n",
    "        with open(os.path.basename(path), \"w\") as f:\n",
    "            f.write(text)\n",
    "    import showit"
   ]
  },
  {
   "cell_type": "markdown",
   "id": "1b1cc192-700b-47d8-961e-0945a85215d4",
   "metadata": {},
   "source": [
    "Substantive code is in [``degrading_target.py``](degrading_target.py)."
   ]
  },
  {
   "cell_type": "code",
   "execution_count": 2,
   "id": "a0656695-19f3-4a46-b164-9f0c22442ab1",
   "metadata": {},
   "outputs": [
    {
     "data": {
      "application/vnd.jupyter.widget-view+json": {
       "model_id": "de433db2b7d047e79e16de05d47c58d1",
       "version_major": 2,
       "version_minor": 0
      },
      "text/plain": [
       "VBox(children=(HTML(value='<style>.code-input input[type=text], .code-input textarea { font-family: monospace;…"
      ]
     },
     "metadata": {},
     "output_type": "display_data"
    },
    {
     "data": {
      "application/vnd.jupyter.widget-view+json": {
       "model_id": "1c93bc43abe84c969b10b18cf92fce86",
       "version_major": 2,
       "version_minor": 0
      },
      "text/plain": [
       "Output()"
      ]
     },
     "metadata": {},
     "output_type": "display_data"
    },
    {
     "data": {
      "application/vnd.jupyter.widget-view+json": {
       "model_id": "9dd91f7f447a475cbd90e2bb5e60e0b8",
       "version_major": 2,
       "version_minor": 0
      },
      "text/plain": [
       "VBox(children=(Accordion(children=(Tab(children=(VBox(children=(HBox(children=(VBox(children=(VBox(children=(C…"
      ]
     },
     "metadata": {},
     "output_type": "display_data"
    }
   ],
   "source": [
    "from showit import showit\n",
    "showit()"
   ]
  },
  {
   "cell_type": "markdown",
   "id": "9290057e-fe1c-483a-a24c-2afcd2042a03",
   "metadata": {},
   "source": [
    "Additional material for the curious:"
   ]
  },
  {
   "cell_type": "code",
   "execution_count": 3,
   "id": "94f66f3f-3533-4bcb-b27b-5cbe5ada64af",
   "metadata": {},
   "outputs": [
    {
     "name": "stdout",
     "output_type": "stream",
     "text": [
      "\n",
      "---- non-performant approach ----\n",
      "d20 with target 3 --> 383 µs ± 14.7 µs per loop (mean ± std. dev. of 7 runs, 1,000 loops each)\n",
      "d20 with target 4 --> 1.12 ms ± 12.2 µs per loop (mean ± std. dev. of 7 runs, 1,000 loops each)\n",
      "d20 with target 5 --> 4.59 ms ± 168 µs per loop (mean ± std. dev. of 7 runs, 100 loops each)\n",
      "d20 with target 6 --> 22.6 ms ± 367 µs per loop (mean ± std. dev. of 7 runs, 10 loops each)\n",
      "\n",
      "---- performant approach ----\n",
      "d20 with target 3 --> 92.6 µs ± 2.57 µs per loop (mean ± std. dev. of 7 runs, 10,000 loops each)\n",
      "d20 with target 6 --> 184 µs ± 1.88 µs per loop (mean ± std. dev. of 7 runs, 10,000 loops each)\n",
      "d20 with target 9 --> 273 µs ± 3.14 µs per loop (mean ± std. dev. of 7 runs, 1,000 loops each)\n",
      "d20 with target 12 --> 364 µs ± 3.28 µs per loop (mean ± std. dev. of 7 runs, 1,000 loops each)\n",
      "d20 with target 15 --> 464 µs ± 6.51 µs per loop (mean ± std. dev. of 7 runs, 1,000 loops each)\n",
      "d20 with target 18 --> 564 µs ± 6.03 µs per loop (mean ± std. dev. of 7 runs, 1,000 loops each)\n"
     ]
    }
   ],
   "source": [
    "from dyce import H\n",
    "from degrading_target import degrading_target_nonperformant, degrading_target_performant\n",
    "\n",
    "d20 = H(20)\n",
    "\n",
    "print(\"\\n---- non-performant approach ----\")\n",
    "for target in range(3, 7):\n",
    "    print(f\"d20 with target {target} --> \", end=\"\")\n",
    "    %timeit degrading_target_nonperformant(d20, target)\n",
    "\n",
    "print(\"\\n---- performant approach ----\")\n",
    "for target in range(3, 21, 3):\n",
    "    print(f\"d20 with target {target} --> \", end=\"\")\n",
    "    %timeit degrading_target_performant(d20, target)"
   ]
  }
 ],
 "metadata": {
  "kernelspec": {
   "display_name": "Python 3 (ipykernel)",
   "language": "python",
   "name": "python3"
  },
  "language_info": {
   "codemirror_mode": {
    "name": "ipython",
    "version": 3
   },
   "file_extension": ".py",
   "mimetype": "text/x-python",
   "name": "python",
   "nbconvert_exporter": "python",
   "pygments_lexer": "ipython3",
   "version": "3.10.6"
  }
 },
 "nbformat": 4,
 "nbformat_minor": 5
}
