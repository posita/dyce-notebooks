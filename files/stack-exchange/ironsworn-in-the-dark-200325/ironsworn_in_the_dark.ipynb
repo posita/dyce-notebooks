{
 "cells": [
  {
   "cell_type": "markdown",
   "id": "af5b1b97-0651-417c-9c1e-65de452eed47",
   "metadata": {},
   "source": [
    "Launch interactive version: 👉👉👉 [![Try ``dyce``](https://jupyterlite.readthedocs.io/en/latest/_static/badge.svg)](https://posita.github.io/dyce-notebooks/lab?path=stack-exchange%2Fironsworn-in-the-dark-200325%2Fironsworn_in_the_dark.ipynb) 👈👈👈 *[[source](https://github.com/posita/dyce-notebooks/tree/main/notebooks/stack-exchange/ironsworn-in-the-dark-200325)]*\n",
    "\n",
    "## [``dyce``](https://posita.github.io/dyce/) solution to [“Ironsworn meets BitD dice mechanic (with a twist)”](https://rpg.stackexchange.com/a/200357/71245)\n",
    "\n",
    "Once viewing this notebook in Jupyter Lab, select ``Run All Cells`` from the ``Run`` menu above."
   ]
  },
  {
   "cell_type": "code",
   "execution_count": 1,
   "id": "c371b9b7-3f66-42aa-a467-3f9e95f54840",
   "metadata": {},
   "outputs": [],
   "source": [
    "# Install additional requirements if necessary\n",
    "try:\n",
    "    import anydyce, ipywidgets\n",
    "except ImportError:\n",
    "    requirements = [\"anydyce~=0.1.4\", \"ipywidgets\"]\n",
    "    try:\n",
    "        import piplite\n",
    "        await piplite.install(requirements)\n",
    "    except ImportError:\n",
    "        import pip\n",
    "        pip.main([\"install\"] + requirements)"
   ]
  },
  {
   "cell_type": "code",
   "execution_count": 2,
   "id": "681652c8-181a-4917-b8df-61fe97dff19f",
   "metadata": {},
   "outputs": [
    {
     "name": "stdout",
     "output_type": "stream",
     "text": [
      "avg |    1.66\n",
      "std |    0.92\n",
      "var |    0.85\n",
      "  0 |  10.95% |############\n",
      "  1 |  29.67% |#################################\n",
      "  2 |  43.74% |##################################################\n",
      "  3 |  13.53% |###############\n",
      "  4 |   1.99% |##\n",
      "  5 |   0.12% |\n"
     ]
    }
   ],
   "source": [
    "from dyce import P\n",
    "from dyce.p import RollT\n",
    "\n",
    "def ironsworn_bitd(action_roll: RollT, challenge_roll: RollT) -> int:\n",
    "    assert len(challenge_roll) == 2\n",
    "    max_action = max(action_roll, default=0)\n",
    "    basic_successes = sum(1 for c in challenge_roll if c < max_action)\n",
    "    \n",
    "    num_max_actions = sum(1 for a in action_roll if a == max_action)\n",
    "    max_challenge = max(challenge_roll)\n",
    "    \n",
    "    if max_action > max_challenge:\n",
    "        # We count everything but the first max action\n",
    "        num_offsetting_challenges = 1\n",
    "    elif max_action < max_challenge:\n",
    "        # We can't have any match successes in this scenario, so we offset all max\n",
    "        # actions\n",
    "        num_offsetting_challenges = num_max_actions\n",
    "    else:  # max_challenge == max_action\n",
    "        # We offset the number of max actions by the number of max challenges, but in\n",
    "        # no case more than the number of max actions\n",
    "        num_offsetting_challenges = min(\n",
    "            sum(1 for c in challenge_roll if c == max_action),\n",
    "            num_max_actions,\n",
    "        )\n",
    "\n",
    "    match_successes = num_max_actions - num_offsetting_challenges\n",
    "    return basic_successes + match_successes\n",
    "\n",
    "h = P.foreach(ironsworn_bitd, action_roll=4@P(6), challenge_roll=2@P(6))\n",
    "print(h.format(scaled=True))"
   ]
  },
  {
   "cell_type": "code",
   "execution_count": 3,
   "id": "08c420da-4884-43bd-883f-92649a40b792",
   "metadata": {},
   "outputs": [
    {
     "data": {
      "application/vnd.jupyter.widget-view+json": {
       "model_id": "dc890ae3f7cd43c6b5b005894593f64c",
       "version_major": 2,
       "version_minor": 0
      },
      "text/plain": [
       "VBox(children=(HBox(children=(VBox(children=(IntSlider(value=12, continuous_update=False, description='Scale',…"
      ]
     },
     "metadata": {},
     "output_type": "display_data"
    }
   ],
   "source": [
    "from anydyce import BreakoutType, jupyter_visualize\n",
    "\n",
    "jupyter_visualize(\n",
    "    [\n",
    "        (f\"{a}d6 action vs 2d6 challenge\", P.foreach(ironsworn_bitd, action_roll=a @ P(6), challenge_roll=2 @ P(6)))\n",
    "        for a in range(1, 6)\n",
    "    ],\n",
    "    default_breakout_type=BreakoutType.BURST,\n",
    ")"
   ]
  }
 ],
 "metadata": {
  "kernelspec": {
   "display_name": "Python 3 (ipykernel)",
   "language": "python",
   "name": "python3"
  },
  "language_info": {
   "codemirror_mode": {
    "name": "ipython",
    "version": 3
   },
   "file_extension": ".py",
   "mimetype": "text/x-python",
   "name": "python",
   "nbconvert_exporter": "python",
   "pygments_lexer": "ipython3",
   "version": "3.9.10"
  }
 },
 "nbformat": 4,
 "nbformat_minor": 5
}
