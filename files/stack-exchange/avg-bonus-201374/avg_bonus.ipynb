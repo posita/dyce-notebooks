{
 "cells": [
  {
   "cell_type": "markdown",
   "id": "af5b1b97-0651-417c-9c1e-65de452eed47",
   "metadata": {},
   "source": [
    "Launch interactive version: 👉👉👉 [![Try ``dyce``](https://jupyterlite.readthedocs.io/en/latest/_static/badge.svg)](https://posita.github.io/dyce-notebooks/lab?path=stack-exchange%2Favg-bonus-201374%2Favg_bonus.ipynb) 👈👈👈 *[[source](https://github.com/posita/dyce-notebooks/tree/main/notebooks/stack-exchange/avg-bonus-201374)]*\n",
    "\n",
    "## [``dyce``](https://posita.github.io/dyce/) solution to [“What is the average total ability score bonus for the best of 4 DCC Characters?”](https://rpg.stackexchange.com/a/201379/71245)\n",
    "\n",
    "Once viewing this notebook in Jupyter Lab, select ``Run All Cells`` from the ``Run`` menu above."
   ]
  },
  {
   "cell_type": "code",
   "execution_count": 1,
   "id": "c371b9b7-3f66-42aa-a467-3f9e95f54840",
   "metadata": {
    "jupyter": {
     "source_hidden": true
    }
   },
   "outputs": [],
   "source": [
    "# Install additional requirements if necessary\n",
    "import warnings\n",
    "with warnings.catch_warnings():\n",
    "    warnings.simplefilter(\"ignore\")\n",
    "    try:\n",
    "        import anydyce\n",
    "    except (ImportError, ModuleNotFoundError):\n",
    "        # See <https://jupyterlite.readthedocs.io/en/stable/howto/configure/simple_extensions.html#avoid-the-drift-of-versions-between-the-frontend-extension-and-the-python-package>\n",
    "        requirements = [\"ipycanvas==0.13.2\", \"ipyevents==2.0.1\", \"ipympl==0.9.4\", \"ipywidgets==8.1.3\", \"anydyce==0.4.6\"]\n",
    "        try:\n",
    "            import piplite ; await piplite.install(requirements, keep_going=True)\n",
    "            # Work around <https://github.com/jupyterlite/jupyterlite/issues/838>\n",
    "            import matplotlib.pyplot ; matplotlib.pyplot.clf()\n",
    "        except ImportError:\n",
    "            import pip ; pip.main([\"install\"] + requirements)\n",
    "    import anydyce"
   ]
  },
  {
   "cell_type": "code",
   "execution_count": 2,
   "id": "3f0dcd9f-3a66-4b36-8a6f-98afc82994ba",
   "metadata": {},
   "outputs": [
    {
     "name": "stdout",
     "output_type": "stream",
     "text": [
      "bonus: H({-3: 1, -2: 9, -1: 46, 0: 104, 1: 46, 2: 9, 3: 1})\n",
      "bonus.total: 216\n"
     ]
    }
   ],
   "source": [
    "from dyce import H\n",
    "from dyce.evaluation import HResult, foreach\n",
    "\n",
    "d6 = H(6)\n",
    "stat = 3@d6\n",
    "stat_to_bonus_map = {\n",
    "    3: -3,\n",
    "    4: -2, 5: -2,\n",
    "    6: -1, 7: -1, 8: -1,\n",
    "    9: 0, 10: 0, 11: 0, 12: 0,\n",
    "    13: +1, 14: +1, 15: +1,\n",
    "    16: +2, 17: +2,\n",
    "    18: +3,\n",
    "}\n",
    "\n",
    "def stat_to_bonus(stat: HResult) -> int:\n",
    "    return stat_to_bonus_map[stat.outcome]\n",
    "\n",
    "bonus_for_single_stat = foreach(stat_to_bonus, stat=stat)\n",
    "print(f\"bonus: {bonus_for_single_stat}\")\n",
    "print(f\"bonus.total: {bonus_for_single_stat.total}\")"
   ]
  },
  {
   "cell_type": "code",
   "execution_count": 3,
   "id": "8ea5f023-2c5e-4657-b2dc-90dba1981c28",
   "metadata": {},
   "outputs": [
    {
     "data": {
      "application/vnd.jupyter.widget-view+json": {
       "model_id": "79061acb87774b49a9fdecf8e0959984",
       "version_major": 2,
       "version_minor": 0
      },
      "text/plain": [
       "VBox(children=(Accordion(children=(Tab(children=(VBox(children=(HBox(children=(VBox(children=(VBox(children=(C…"
      ]
     },
     "metadata": {},
     "output_type": "display_data"
    }
   ],
   "source": [
    "from dyce import P\n",
    "from anydyce import jupyter_visualize\n",
    "\n",
    "bonus_for_six_stats = 6@bonus_for_single_stat\n",
    "character_pool = 4@P(bonus_for_six_stats)\n",
    "best_of_four_bonus_for_six_stats = character_pool.h(-1)\n",
    "\n",
    "jupyter_visualize(\n",
    "    [\n",
    "        (f\"Single Stat\\nMean: {bonus_for_single_stat.mean():.2f}; Std Dev: {bonus_for_single_stat.stdev():.2f}\", stat, bonus_for_single_stat),\n",
    "        (f\"All Six Stats Bonus\\nMean: {bonus_for_six_stats.mean():.2f}; Std Dev: {bonus_for_six_stats.stdev():.2f}\", bonus_for_six_stats),\n",
    "        (f\"Best-of-Four Bonus\\nMean: {best_of_four_bonus_for_six_stats.mean():.2f}; Std Dev: {best_of_four_bonus_for_six_stats.stdev():.2f}\", best_of_four_bonus_for_six_stats),\n",
    "    ]\n",
    ")"
   ]
  }
 ],
 "metadata": {
  "kernelspec": {
   "display_name": "Python 3 (ipykernel)",
   "language": "python",
   "name": "python3"
  },
  "language_info": {
   "codemirror_mode": {
    "name": "ipython",
    "version": 3
   },
   "file_extension": ".py",
   "mimetype": "text/x-python",
   "name": "python",
   "nbconvert_exporter": "python",
   "pygments_lexer": "ipython3",
   "version": "3.11.4"
  }
 },
 "nbformat": 4,
 "nbformat_minor": 5
}
