{
 "cells": [
  {
   "cell_type": "markdown",
   "id": "9ac1d369-b80b-4108-bb84-4e60d9e257cb",
   "metadata": {},
   "source": [
    "Launch interactive version: 👉👉👉 [![Try ``dyce``](https://jupyterlite.readthedocs.io/en/latest/_static/badge.svg)](https://posita.github.io/dyce-notebooks/lab?path=stack-exchange%2Fcharges-193353%2Findex.ipynb) 👈👈👈 *[[source](https://github.com/posita/dyce-notebooks/tree/main/notebooks/stack-exchange/charges-193353)]*\n",
    "\n",
    "## [``dyce``](https://posita.github.io/dyce/) translation of [Hypergardens’ solution to “Modelling ‘rolling d6 >= charges left expends a charge’ mechanics with anydice”](https://rpg.stackexchange.com/a/195107/71245)\n",
    "\n",
    "Once viewing this notebook in Jupyter Lab, select ``Run All Cells`` from the ``Run`` menu above."
   ]
  },
  {
   "cell_type": "code",
   "execution_count": 1,
   "id": "d6b3cbb1-325b-4221-b037-9fee77e13b9b",
   "metadata": {},
   "outputs": [],
   "source": [
    "# Install additional requirements if necessary\n",
    "try:\n",
    "    import anydyce\n",
    "    import dyce\n",
    "    import ipywidgets\n",
    "except ImportError:\n",
    "    requirements = [\n",
    "        \"anydyce>=0.1.4,<0.2\",\n",
    "        \"dyce>=0.5.2,<0.6\",\n",
    "        \"ipywidgets\",\n",
    "    ]\n",
    "    try:\n",
    "        import piplite\n",
    "        await piplite.install(requirements)\n",
    "    except ImportError:\n",
    "        import pip\n",
    "        pip.main([\"install\"] + requirements)"
   ]
  },
  {
   "cell_type": "code",
   "execution_count": 2,
   "id": "ef87e88b-3e04-4abc-a8af-482ba6dc24f7",
   "metadata": {},
   "outputs": [],
   "source": [
    "from dyce import H\n",
    "from fractions import Fraction\n",
    "import sys\n",
    "\n",
    "try:\n",
    "    from functools import cache\n",
    "except ImportError:\n",
    "    from functools import lru_cache\n",
    "    cache = lru_cache(maxsize=None)\n",
    "\n",
    "def rolls_before_depleting_one_charge(charges: int, d: H) -> H:\n",
    "    return d.lt(charges).explode(\n",
    "        max_depth=-1,  # <-- don't halt recusion based on depth ...\n",
    "        precision_limit=Fraction(1, 250),  # <-- ... only on contextual precision\n",
    "    )\n",
    "\n",
    "@cache  # <-- probably not helpful until charges is pretty large (see below), but doesn't hurt\n",
    "def expected_uses(charges: int, d: H = H(6)) -> H:\n",
    "    return (\n",
    "        H({0: 1}) if charges <= 0\n",
    "        else 1 + rolls_before_depleting_one_charge(charges, d) + expected_uses(charges - 1)\n",
    "    )"
   ]
  },
  {
   "cell_type": "code",
   "execution_count": null,
   "id": "4fabe98c-7827-44d8-a6d3-fa75e40881d8",
   "metadata": {},
   "outputs": [],
   "source": [
    "from anydyce import BreakoutType, jupyter_visualize\n",
    "\n",
    "d = 6\n",
    "jupyter_visualize(\n",
    "    [\n",
    "        (f\"expected uses on\\nd{d} with {n} charges\", expected_uses(n, H(d)))\n",
    "        for n in range(0, d + 1)\n",
    "    ],\n",
    "    default_breakout_type=BreakoutType.BURST,\n",
    ")"
   ]
  },
  {
   "cell_type": "code",
   "execution_count": 4,
   "id": "464988a3-f653-4fc2-a7c2-843865eebe41",
   "metadata": {},
   "outputs": [
    {
     "name": "stdout",
     "output_type": "stream",
     "text": [
      "327 ms ± 17.3 ms per loop (mean ± std. dev. of 7 runs, 1 loop each)\n"
     ]
    }
   ],
   "source": [
    "%%timeit\n",
    "\n",
    "def expected_uses_not_cached(charges: int, d: H) -> H:\n",
    "    return H({0: 1}) if charges <= 0 else 1 + rolls_before_depleting_one_charge(charges, d) + expected_uses_not_cached(charges - 1, d)\n",
    "\n",
    "[expected_uses_not_cached(n, H(6)) for n in range(50, 0, -1)]"
   ]
  },
  {
   "cell_type": "code",
   "execution_count": 5,
   "id": "da2d21b9-d055-4d9c-b0dd-e5f43c5fa274",
   "metadata": {},
   "outputs": [
    {
     "name": "stdout",
     "output_type": "stream",
     "text": [
      "11.8 ms ± 896 µs per loop (mean ± std. dev. of 7 runs, 100 loops each)\n"
     ]
    }
   ],
   "source": [
    "%%timeit\n",
    "@cache\n",
    "def expected_uses_cached(charges: int, d: H) -> H:\n",
    "    return H({0: 1}) if charges <= 0 else 1 + rolls_before_depleting_one_charge(charges, d) + expected_uses_cached(charges - 1, d)\n",
    "\n",
    "[expected_uses_cached(n, H(6)) for n in range(50, 0, -1)]"
   ]
  }
 ],
 "metadata": {
  "kernelspec": {
   "display_name": "Python 3 (ipykernel)",
   "language": "python",
   "name": "python3"
  },
  "language_info": {
   "codemirror_mode": {
    "name": "ipython",
    "version": 3
   },
   "file_extension": ".py",
   "mimetype": "text/x-python",
   "name": "python",
   "nbconvert_exporter": "python",
   "pygments_lexer": "ipython3",
   "version": "3.9.10"
  }
 },
 "nbformat": 4,
 "nbformat_minor": 5
}
