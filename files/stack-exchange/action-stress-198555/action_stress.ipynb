{
 "cells": [
  {
   "cell_type": "markdown",
   "id": "b78ae030-f61d-44fb-9449-97b3ea83478f",
   "metadata": {
    "tags": []
   },
   "source": [
    "Launch interactive version: 👉👉👉 [![Try ``dyce``](https://jupyterlite.readthedocs.io/en/latest/_static/badge.svg)](https://posita.github.io/dyce-notebooks/lab?path=stack-exchange%2Faction-stress-198555%2Faction_stress.ipynb) 👈👈👈 *[[source](https://github.com/posita/dyce-notebooks/tree/main/notebooks/stack-exchange/action-stress-198555)]*\n",
    "\n",
    "## [``dyce``](https://posita.github.io/dyce/) solution to [“Anydice: a pool where stress dice cancel out action dice of equal or lower value and return the number and value of action dice remaining in the pool?”](https://rpg.stackexchange.com/a/198575/71245)\n",
    "\n",
    "Once viewing this notebook in Jupyter Lab, select ``Run All Cells`` from the ``Run`` menu above."
   ]
  },
  {
   "cell_type": "code",
   "execution_count": 1,
   "id": "d4070b1e-c9e2-476e-8b27-b69855c431cb",
   "metadata": {},
   "outputs": [],
   "source": [
    "# Install additional requirements if necessary\n",
    "import warnings\n",
    "with warnings.catch_warnings():\n",
    "    warnings.simplefilter(\"ignore\")\n",
    "    try:\n",
    "        import anydyce\n",
    "    except (ImportError, ModuleNotFoundError):\n",
    "        requirements = [\"anydyce~=0.2.0\"]\n",
    "        try:\n",
    "            import piplite ; await piplite.install(requirements)\n",
    "        except ImportError:\n",
    "            import pip ; pip.main([\"install\"] + requirements)\n",
    "    import anydyce"
   ]
  },
  {
   "cell_type": "code",
   "execution_count": 2,
   "id": "770a9728-e302-4baf-951c-c833a1baf79f",
   "metadata": {},
   "outputs": [
    {
     "name": "stdout",
     "output_type": "stream",
     "text": [
      "avg |    2.44\n",
      "std |    0.68\n",
      "var |    0.46\n",
      "  2 |  65.35% |##################################################\n",
      "  3 |  25.78% |###################\n",
      "  4 |   7.91% |######\n",
      "  5 |   0.96% |\n"
     ]
    }
   ],
   "source": [
    "from dyce import P\n",
    "from dyce.evaluation import PResult, foreach\n",
    "\n",
    "def actions_vs_stresses(action: PResult, stress: PResult) -> int:\n",
    "    actions_not_canceled_by_stresses = []\n",
    "    # We want to walk through each roll, opportunistically canceling the best action we\n",
    "    # can given our maximum unspent stress. Rolls are ordered least-to-greatest, so we\n",
    "    # start at the end and walk backwards, accumulating or canceling actions as we go.\n",
    "    action_index = len(action.roll) - 1\n",
    "    stress_index = len(stress.roll) - 1\n",
    "    while action_index >= 0:\n",
    "        if stress_index >= 0 and action.roll[action_index] <= stress.roll[stress_index]:\n",
    "            # We have unspent stress, and our current (max unexamined) action is\n",
    "            # cancelable by our current (max unspent) stress, so we decrement both\n",
    "            # counters without counting the action\n",
    "            action_index -= 1\n",
    "            stress_index -= 1\n",
    "        else:\n",
    "            # Either we're out of stresses, or our current (max unexamined) action is\n",
    "            # not cancelable (i.e., greater than) our current (max unspent) stress, so\n",
    "            # we count that action and decrement only the action counter, leaving any\n",
    "            # unspent stress for the next iteration\n",
    "            actions_not_canceled_by_stresses.append(action.roll[action_index])\n",
    "            action_index -= 1\n",
    "    # Uncomment the following line to see the specific rolls, but this gets\n",
    "    # overwhelming pretty fast. (We accumulate uncanceled actions in order of greatest-\n",
    "    # to-least, above. While not strictly necessary, we reverse their order when\n",
    "    # printing for consistency with roll ordering.)\n",
    "    #print(f\"{action_roll} vs {stress_roll} -> {actions_not_canceled_by_stresses[::-1]}\")\n",
    "    return len(actions_not_canceled_by_stresses)\n",
    "\n",
    "h = foreach(actions_vs_stresses, action=5@P(6), stress=3@P(6))\n",
    "print(h.format(scaled=True))"
   ]
  },
  {
   "cell_type": "code",
   "execution_count": 3,
   "id": "a16a7de7-da8e-41f3-84ae-9af1eb0981f8",
   "metadata": {},
   "outputs": [
    {
     "data": {
      "application/vnd.jupyter.widget-view+json": {
       "model_id": "311d42db3fad46a28b6cac02fd008f77",
       "version_major": 2,
       "version_minor": 0
      },
      "text/plain": [
       "VBox(children=(HBox(children=(VBox(children=(IntSlider(value=12, continuous_update=False, description='Scale',…"
      ]
     },
     "metadata": {},
     "output_type": "display_data"
    }
   ],
   "source": [
    "from anydyce import BreakoutType, jupyter_visualize\n",
    "\n",
    "jupyter_visualize(\n",
    "    [\n",
    "        (f\"{a}d6 action vs {s}d6 stress\", foreach(actions_vs_stresses, action=a @ P(6), stress=s @ P(6)))\n",
    "        for a in range(2, 6)\n",
    "        for s in range(2, 6)\n",
    "    ],\n",
    "    default_breakout_type=BreakoutType.BURST,\n",
    ")"
   ]
  }
 ],
 "metadata": {
  "kernelspec": {
   "display_name": "Python 3 (ipykernel)",
   "language": "python",
   "name": "python3"
  },
  "language_info": {
   "codemirror_mode": {
    "name": "ipython",
    "version": 3
   },
   "file_extension": ".py",
   "mimetype": "text/x-python",
   "name": "python",
   "nbconvert_exporter": "python",
   "pygments_lexer": "ipython3",
   "version": "3.10.5"
  }
 },
 "nbformat": 4,
 "nbformat_minor": 5
}
