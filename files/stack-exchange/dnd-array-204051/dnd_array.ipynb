{
 "cells": [
  {
   "cell_type": "markdown",
   "id": "af5b1b97-0651-417c-9c1e-65de452eed47",
   "metadata": {},
   "source": [
    "Launch interactive version: 👉👉👉 [![Try ``dyce``](https://jupyterlite.readthedocs.io/en/latest/_static/badge.svg)](https://posita.github.io/dyce-notebooks/lab?path=stack-exchange%2Fdnd-array-204051%2Favg_bonus.ipynb) 👈👈👈 *[[source](https://github.com/posita/dyce-notebooks/tree/main/notebooks/stack-exchange/dnd-array-204051)]*\n",
    "\n",
    "## [``dyce``](https://posita.github.io/dyce/) solution to [“I need a 'standard array' for a D&D-like homebrew game, but anydice chokes - how to proceed?”](https://rpg.stackexchange.com/a/204069/71245)\n",
    "\n",
    "Once viewing this notebook in Jupyter Lab, select ``Run All Cells`` from the ``Run`` menu above."
   ]
  },
  {
   "cell_type": "code",
   "execution_count": 1,
   "id": "c371b9b7-3f66-42aa-a467-3f9e95f54840",
   "metadata": {},
   "outputs": [],
   "source": [
    "# Install additional requirements if necessary\n",
    "import warnings\n",
    "with warnings.catch_warnings():\n",
    "    warnings.simplefilter(\"ignore\")\n",
    "    try:\n",
    "        import anydyce\n",
    "    except (ImportError, ModuleNotFoundError):\n",
    "        requirements = [\"anydyce~=0.4.0\"]\n",
    "        try:\n",
    "            import piplite ; await piplite.install(requirements)\n",
    "            # Work around <https://github.com/jupyterlite/jupyterlite/issues/838>\n",
    "            import matplotlib.pyplot ; matplotlib.pyplot.clf()\n",
    "        except ImportError:\n",
    "            import pip ; pip.main([\"install\"] + requirements)\n",
    "    import anydyce"
   ]
  },
  {
   "cell_type": "code",
   "execution_count": 2,
   "id": "3f0dcd9f-3a66-4b36-8a6f-98afc82994ba",
   "metadata": {},
   "outputs": [
    {
     "data": {
      "application/vnd.jupyter.widget-view+json": {
       "model_id": "858ca693bbb941b8b63942239d8a4a5c",
       "version_major": 2,
       "version_minor": 0
      },
      "text/plain": [
       "VBox(children=(Accordion(children=(Tab(children=(VBox(children=(HBox(children=(VBox(children=(VBox(children=(C…"
      ]
     },
     "metadata": {},
     "output_type": "display_data"
    }
   ],
   "source": [
    "from dyce import H, P\n",
    "from anydyce import jupyter_visualize\n",
    "\n",
    "d_3_weighted = 3 @ H((2, 3, 3, 4, 5, 6))\n",
    "p_12_of_3_weighted = 12@P(d_3_weighted)\n",
    "\n",
    "results_by_selection_index = {\n",
    "    i: p_12_of_3_weighted.h(i)\n",
    "    for i in range(0, len(p_12_of_3_weighted))\n",
    "}\n",
    "\n",
    "jupyter_visualize(\n",
    "    [(f\"Selection index: {i}\", h) for i, h in results_by_selection_index.items()],\n",
    "    initial_burst_zero_fill_normalize=True,\n",
    ")"
   ]
  }
 ],
 "metadata": {
  "kernelspec": {
   "display_name": "Python 3 (ipykernel)",
   "language": "python",
   "name": "python3"
  },
  "language_info": {
   "codemirror_mode": {
    "name": "ipython",
    "version": 3
   },
   "file_extension": ".py",
   "mimetype": "text/x-python",
   "name": "python",
   "nbconvert_exporter": "python",
   "pygments_lexer": "ipython3",
   "version": "3.10.6"
  }
 },
 "nbformat": 4,
 "nbformat_minor": 5
}
