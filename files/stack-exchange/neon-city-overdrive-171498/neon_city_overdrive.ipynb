{
 "cells": [
  {
   "cell_type": "markdown",
   "id": "dfda3075-b34d-456d-bf69-b7d68f95808a",
   "metadata": {},
   "source": [
    "Launch interactive version: 👉👉👉 [![Try ``dyce``](https://jupyterlite.readthedocs.io/en/latest/_static/badge.svg)](https://posita.github.io/dyce-notebooks/lab?path=stack-exchange%2Fneon-city-overdrive-171498%2Fneon_city_overdrive.ipynb) 👈👈👈 *[[source](https://github.com/posita/dyce-notebooks/tree/main/notebooks/stack-exchange/neon-city-overdrive-171498)]*\n",
    "\n",
    "## [``dyce``](https://posita.github.io/dyce/) translation and comparison of [Carcer’s](https://rpg.stackexchange.com/a/171505/71245) and [Karonen’s](https://rpg.stackexchange.com/a/194712/71245) solutions to “[How to calculate the probabilities for eliminative dice pools (dice cancelling mechanic) in Neon City Overdrive?](https://rpg.stackexchange.com/a/195045/71245)”\n",
    "\n",
    "Once viewing this notebook in Jupyter Lab, select ``Run All Cells`` from the ``Run`` menu above."
   ]
  },
  {
   "cell_type": "code",
   "execution_count": 1,
   "id": "6cc1c4ad-d714-4e77-8895-00a25a7683de",
   "metadata": {},
   "outputs": [],
   "source": [
    "# Install additional requirements if necessary\n",
    "import warnings\n",
    "with warnings.catch_warnings():\n",
    "    warnings.simplefilter(\"ignore\")\n",
    "    try:\n",
    "        import anydyce\n",
    "    except (ImportError, ModuleNotFoundError):\n",
    "        requirements = [\"anydyce~=0.4.0\"]\n",
    "        try:\n",
    "            import piplite ; await piplite.install(requirements)\n",
    "            # Work around <https://github.com/jupyterlite/jupyterlite/issues/838>\n",
    "            import matplotlib.pyplot ; matplotlib.pyplot.clf()\n",
    "        except ImportError:\n",
    "            import pip ; pip.main([\"install\"] + requirements)\n",
    "    import anydyce\n",
    "\n",
    "try:\n",
    "    import neon_city_overdrive\n",
    "except ImportError:\n",
    "    # Work-around for JupyterLite in non-Chromium browsers\n",
    "    import js\n",
    "    import os\n",
    "    from urllib.parse import urljoin, urlparse, urlunparse\n",
    "    loc_url = urlparse(js.location.toString())\n",
    "    ext_root = loc_url.path.find(\"/extensions/@jupyterlite/\")\n",
    "    if ext_root < 0:\n",
    "        base_url = urljoin(js.location.toString(), \"../files/\")\n",
    "    else:\n",
    "        loc_url = loc_url._replace(path=loc_url.path[:ext_root])\n",
    "        base_url = urljoin(urlunparse(loc_url), \"files/\")\n",
    "    for path in (\n",
    "                \"stack-exchange/neon-city-overdrive-171498/neon_city_overdrive.py\",\n",
    "            ):\n",
    "        url = urljoin(base_url, path)\n",
    "        res = await js.fetch(url)\n",
    "        assert 200 <= res.status < 300\n",
    "        text = await res.text()\n",
    "        with open(os.path.basename(path), \"w\") as f:\n",
    "            f.write(text)\n",
    "    import neon_city_overdrive"
   ]
  },
  {
   "cell_type": "markdown",
   "id": "a2be9523-8f3d-4055-baba-96f9e35fc51b",
   "metadata": {},
   "source": [
    "Substantive code is in [``neon_city_overdrive.py``](neon_city_overdrive.py)."
   ]
  },
  {
   "cell_type": "code",
   "execution_count": 2,
   "id": "a300da4e-bf84-4723-82b4-d7d42cf8727c",
   "metadata": {},
   "outputs": [],
   "source": [
    "import dyce  # pre-import dyce to make sure it's excluded from our time measurements below\n",
    "\n",
    "def do_it(nco_func, a_range, d_range):\n",
    "    return [\n",
    "        (f\"{a_pool_size}d6 vs. {d_pool_size}d6\", nco_func(a_pool_size, d_pool_size))\n",
    "        for a_pool_size in a_range\n",
    "        for d_pool_size in d_range\n",
    "    ]"
   ]
  },
  {
   "cell_type": "code",
   "execution_count": 3,
   "id": "bd972903-bdc8-494e-a1a7-e9ca834b301a",
   "metadata": {},
   "outputs": [
    {
     "name": "stdout",
     "output_type": "stream",
     "text": [
      "304 ms ± 3.03 ms per loop (mean ± std. dev. of 7 runs, 1 loop each)\n"
     ]
    }
   ],
   "source": [
    "%%timeit  # Carcer - [1-4]d6 vs. [0-4]d6\n",
    "%run neon_city_overdrive.py\n",
    "do_it(nco_carcer, range(1, 5), range(5))"
   ]
  },
  {
   "cell_type": "code",
   "execution_count": 4,
   "id": "87f912ad-989b-48d3-a9ed-5ce57f109971",
   "metadata": {},
   "outputs": [
    {
     "name": "stdout",
     "output_type": "stream",
     "text": [
      "20.9 ms ± 469 µs per loop (mean ± std. dev. of 7 runs, 10 loops each)\n"
     ]
    }
   ],
   "source": [
    "%%timeit  # Karonen - [1-4]d6 vs. [0-4]d6\n",
    "%run neon_city_overdrive.py  # (re)defines nco function for getting accurate first-run (pre-memoization) measurements\n",
    "do_it(nco_karonen, range(1, 5), range(5))"
   ]
  },
  {
   "cell_type": "code",
   "execution_count": 5,
   "id": "47dc50f7-e29f-4a67-89c2-bbc61a09708d",
   "metadata": {},
   "outputs": [
    {
     "name": "stdout",
     "output_type": "stream",
     "text": [
      "421 ms ± 7.23 ms per loop (mean ± std. dev. of 7 runs, 1 loop each)\n"
     ]
    }
   ],
   "source": [
    "%%timeit  # Karonen - [1-11]d6 vs. [0-11]d6\n",
    "%run neon_city_overdrive.py\n",
    "do_it(nco_karonen, range(1, 12), range(12))  # these dice go to eleven!"
   ]
  },
  {
   "cell_type": "code",
   "execution_count": 6,
   "id": "a7442a6f-ff08-4634-aceb-3178ee459bfe",
   "metadata": {},
   "outputs": [],
   "source": [
    "# Check that each produces equivalent results\n",
    "%run neon_city_overdrive.py\n",
    "\n",
    "for a_pool_size in range(1, 4):\n",
    "    for d_pool_size in range(4):\n",
    "        assert (\n",
    "            nco_carcer(a_pool_size, d_pool_size)\n",
    "            == nco_karonen(a_pool_size, d_pool_size)\n",
    "        ), (\n",
    "            f\"nco_carcer({a_pool_size}, {d_pool_size})\"\n",
    "            f\" != nco_karonen({a_pool_size}, {d_pool_size})\"\n",
    "        )"
   ]
  },
  {
   "cell_type": "code",
   "execution_count": 7,
   "id": "457fdc6f-617c-4d94-a8c9-7f8b1c4e8320",
   "metadata": {},
   "outputs": [
    {
     "data": {
      "application/vnd.jupyter.widget-view+json": {
       "model_id": "7216506ccbc34548b425a6734456ddfe",
       "version_major": 2,
       "version_minor": 0
      },
      "text/plain": [
       "VBox(children=(Accordion(children=(Tab(children=(VBox(children=(HBox(children=(VBox(children=(VBox(children=(C…"
      ]
     },
     "metadata": {},
     "output_type": "display_data"
    }
   ],
   "source": [
    "from anydyce import jupyter_visualize\n",
    "from neon_city_overdrive import nco_karonen\n",
    "\n",
    "a_range = tuple(range(1, 6))\n",
    "d_range = tuple(range(6))\n",
    "\n",
    "# Visualize [1-5]d6 vs. [0-5]d6 with burst graphs\n",
    "jupyter_visualize(do_it(nco_karonen, a_range, d_range))"
   ]
  },
  {
   "cell_type": "markdown",
   "id": "8428797c-bbf5-4f1b-bfd0-1c1107128ec5",
   "metadata": {},
   "source": [
    "## [``dyce``](https://posita.github.io/dyce/) solution to [“Anydice: Neon City Overdrive type eliminative dice pool BUT danger dice cancel equal to AND less than”](https://rpg.stackexchange.com/a/198632/71245) and comparison\n",
    "\n",
    "I recently [added the ``nco_so_dangerous`` implementation to ``neon_city_overdrive.py``](https://github.com/posita/dyce-notebooks/blob/main/notebooks/stack-exchange/neon-city-overdrive-171498/neon_city_overdrive.py#L132-L177). Below is a comparison of the two mechanics. Gray outer rings show the basic mechanic. Red inner rings show the dangerous cancelation modification."
   ]
  },
  {
   "cell_type": "code",
   "execution_count": 8,
   "id": "0b127962-e262-42d0-8953-31401885a078",
   "metadata": {},
   "outputs": [
    {
     "data": {
      "application/vnd.jupyter.widget-view+json": {
       "model_id": "38847e55544f44f18fb019a1ca51cc2a",
       "version_major": 2,
       "version_minor": 0
      },
      "text/plain": [
       "VBox(children=(Accordion(children=(Tab(children=(VBox(children=(HBox(children=(VBox(children=(VBox(children=(C…"
      ]
     },
     "metadata": {},
     "output_type": "display_data"
    }
   ],
   "source": [
    "from neon_city_overdrive import nco_so_dangerous\n",
    "\n",
    "jupyter_visualize(\n",
    "    (\n",
    "        (f\"{a}d6 vs. {d}d6\", nco_so_dangerous(a, d), nco_karonen(a, d))\n",
    "        for a in a_range for d in d_range\n",
    "    ),\n",
    "    initial_burst_cmap_inner=\"Reds\",\n",
    "    initial_burst_cmap_outer=\"gist_gray_r\",\n",
    "    initial_burst_cmap_link=False,\n",
    ")"
   ]
  }
 ],
 "metadata": {
  "kernelspec": {
   "display_name": "Python 3 (ipykernel)",
   "language": "python",
   "name": "python3"
  },
  "language_info": {
   "codemirror_mode": {
    "name": "ipython",
    "version": 3
   },
   "file_extension": ".py",
   "mimetype": "text/x-python",
   "name": "python",
   "nbconvert_exporter": "python",
   "pygments_lexer": "ipython3",
   "version": "3.10.6"
  }
 },
 "nbformat": 4,
 "nbformat_minor": 5
}
