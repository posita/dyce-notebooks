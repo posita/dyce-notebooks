{
 "cells": [
  {
   "cell_type": "markdown",
   "id": "b78ae030-f61d-44fb-9449-97b3ea83478f",
   "metadata": {},
   "source": [
    "To view: 👉👉👉 [![Launch Binder](https://mybinder.org/badge_logo.svg)](https://mybinder.org/v2/gist/posita/348fc70c305a5ecaeafdfff44c07687d/HEAD?labpath=_index.ipynb) 👈👈👈\n",
    "\n",
    "## [``dyce``](https://posita.github.io/dyce/) solution to [“Anydice: for XdY(Z+), what are the odds to get the same numbers on all successful faces for 2 success, 3 success, 4 success”](https://rpg.stackexchange.com/q/198566)\n",
    "\n",
    "Once viewing this notebook in Jupyter Lab, select ``Run All Cells`` from the ``Run`` menu above."
   ]
  },
  {
   "cell_type": "code",
   "execution_count": 1,
   "id": "d4070b1e-c9e2-476e-8b27-b69855c431cb",
   "metadata": {},
   "outputs": [],
   "source": [
    "# Install additional requirements if necessary\n",
    "try:\n",
    "    import anydyce\n",
    "    import dyce\n",
    "    import ipywidgets\n",
    "except ImportError:\n",
    "    requirements = [\n",
    "        \"anydyce>=0.1.4,<0.2\",\n",
    "        \"dyce>=0.5.2,<0.6\",\n",
    "        \"ipywidgets\",\n",
    "    ]\n",
    "    try:\n",
    "        import piplite\n",
    "        await piplite.install(requirements)\n",
    "    except ImportError:\n",
    "        import pip\n",
    "        pip.main([\"install\"] + requirements)"
   ]
  },
  {
   "cell_type": "code",
   "execution_count": 2,
   "id": "647c8657-7bb9-4c3a-959b-c577c17864fc",
   "metadata": {},
   "outputs": [
    {
     "name": "stdout",
     "output_type": "stream",
     "text": [
      "avg |    0.40\n",
      "std |    0.86\n",
      "var |    0.73\n",
      "  0 |  78.35% |#################################################\n",
      "  1 |   9.38% |#####\n",
      "  2 |   7.81% |####\n",
      "  3 |   3.47% |##\n",
      "  4 |   0.87% |\n",
      "  5 |   0.12% |\n",
      "  6 |   0.01% |\n"
     ]
    }
   ],
   "source": [
    "from collections import Counter\n",
    "from dyce import H, P\n",
    "from dyce.p import RollT\n",
    "\n",
    "def uniform_successes(pool: P, success_threshold: int) -> H:\n",
    "\n",
    "    def _calc(roll: RollT) -> int:\n",
    "        success_outcome_counts = Counter(\n",
    "            outcome for outcome in roll if outcome >= success_threshold\n",
    "        )\n",
    "        if len(success_outcome_counts) == 1:\n",
    "            # The number of distinct outcomes that make up our successes is one (i.e.,\n",
    "            # they are uniform), so grab the count, which is the total number of\n",
    "            # successes\n",
    "            outcome, count = success_outcome_counts.most_common(1)[0]\n",
    "            return count  # the number of uniform successes\n",
    "        else:\n",
    "            # Our successes are mixed (or we had none), so we don't count them\n",
    "            return 0\n",
    "\n",
    "    return P.foreach(_calc, roll=pool)\n",
    "\n",
    "X = 6\n",
    "Y = 6\n",
    "Z = 4\n",
    "\n",
    "print(uniform_successes(pool=X @ P(Y), success_threshold=Z).format(scaled=True))"
   ]
  },
  {
   "cell_type": "code",
   "execution_count": null,
   "id": "ff8602be-c43f-42dd-bca3-ba709480cefb",
   "metadata": {},
   "outputs": [],
   "source": [
    "from anydyce import BreakoutType, jupyter_visualize\n",
    "\n",
    "jupyter_visualize(\n",
    "    [\n",
    "        (f\"{x}d{y}({y + z_delta}+)\", uniform_successes(pool=x @ P(y), success_threshold=y + z_delta))\n",
    "        for y in (6, 8, 10)\n",
    "        for x in range(4, 7)\n",
    "        for z_delta in range(-2, 1)\n",
    "    ],\n",
    "    default_breakout_type=BreakoutType.BURST,\n",
    ")"
   ]
  }
 ],
 "metadata": {
  "kernelspec": {
   "display_name": "Python 3 (ipykernel)",
   "language": "python",
   "name": "python3"
  },
  "language_info": {
   "codemirror_mode": {
    "name": "ipython",
    "version": 3
   },
   "file_extension": ".py",
   "mimetype": "text/x-python",
   "name": "python",
   "nbconvert_exporter": "python",
   "pygments_lexer": "ipython3",
   "version": "3.9.10"
  }
 },
 "nbformat": 4,
 "nbformat_minor": 5
}
