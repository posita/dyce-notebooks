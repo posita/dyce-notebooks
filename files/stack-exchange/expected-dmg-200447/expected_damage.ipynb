{
 "cells": [
  {
   "cell_type": "markdown",
   "id": "b1870fe0-107d-4b93-89b6-34f2a4c5ca04",
   "metadata": {},
   "source": [
    "Launch interactive version: 👉👉👉 [![Try ``dyce``](https://jupyterlite.readthedocs.io/en/latest/_static/badge.svg)](https://posita.github.io/dyce-notebooks/lab?path=stack-exchange%2Fexpected-dmg-200447%2Fexpected_damage.ipynb) 👈👈👈 *[[source](https://github.com/posita/dyce-notebooks/tree/main/notebooks/stack-exchange/expected-dmg-200447)]*\n",
    "\n",
    "## [``dyce``](https://posita.github.io/dyce/) exploration of [“How to calculate the added expected damage from critical hits?”](https://rpg.stackexchange.com/a/200553/71245)\n",
    "\n",
    "Once viewing this notebook in Jupyter Lab, select ``Run All Cells`` from the ``Run`` menu above."
   ]
  },
  {
   "cell_type": "code",
   "execution_count": 1,
   "id": "0b29dbd1-7dc5-4949-8850-842fff321fe8",
   "metadata": {},
   "outputs": [],
   "source": [
    "# Install additional requirements if necessary\n",
    "import warnings\n",
    "with warnings.catch_warnings():\n",
    "    warnings.simplefilter(\"ignore\")\n",
    "    try:\n",
    "        import anydyce\n",
    "    except (ImportError, ModuleNotFoundError):\n",
    "        requirements = [\"anydyce~=0.2.0\"]\n",
    "        try:\n",
    "            import piplite ; await piplite.install(requirements)\n",
    "        except ImportError:\n",
    "            import pip ; pip.main([\"install\"] + requirements)\n",
    "    import anydyce\n",
    "\n",
    "try:\n",
    "    import showit\n",
    "except ImportError:\n",
    "    # Work-around for JupyterLite in non-Chromium browsers\n",
    "    import js\n",
    "    import os\n",
    "    from urllib.parse import urljoin\n",
    "    base_url = urljoin(js.location.toString(), \"../files/\")\n",
    "    for path in (\n",
    "                \"stack-exchange/expected-dmg-200447/expected_damage.py\",\n",
    "                \"stack-exchange/expected-dmg-200447/showit.py\",\n",
    "            ):\n",
    "        url = urljoin(base_url, path)\n",
    "        res = await js.fetch(url)\n",
    "        text = await res.text()\n",
    "        with open(os.path.basename(path), \"w\") as f:\n",
    "            f.write(text)\n",
    "    import showit"
   ]
  },
  {
   "cell_type": "markdown",
   "id": "2eaa01b6-1279-4985-b985-0859ff491941",
   "metadata": {},
   "source": [
    "Substantive code is in [``expected_damage.py``](expected_damage.py)."
   ]
  },
  {
   "cell_type": "code",
   "execution_count": 2,
   "id": "4748d382-d229-4115-b1d1-8fd0b3dad3a8",
   "metadata": {},
   "outputs": [
    {
     "data": {
      "application/vnd.jupyter.widget-view+json": {
       "model_id": "cd3cbb0e98c74f55b33807cf3ac46e28",
       "version_major": 2,
       "version_minor": 0
      },
      "text/plain": [
       "VBox(children=(HTML(value='<h1>Mechanic</h1>'), IntSlider(value=10, continuous_update=False, description='Targ…"
      ]
     },
     "metadata": {},
     "output_type": "display_data"
    },
    {
     "data": {
      "application/vnd.jupyter.widget-view+json": {
       "model_id": "45e36aec196e404d8bc417d8c50cf474",
       "version_major": 2,
       "version_minor": 0
      },
      "text/plain": [
       "Output()"
      ]
     },
     "metadata": {},
     "output_type": "display_data"
    }
   ],
   "source": [
    "from dyce import H\n",
    "from showit import showit\n",
    "\n",
    "DAMAGE_DICE = {\n",
    "    \"d4\": H(4),\n",
    "    \"d6\": H(6),\n",
    "    \"d8\": H(8),\n",
    "    \"d10\": H(10),\n",
    "    \"d12\": H(12),\n",
    "    \"d20\": H(20),\n",
    "    # Add others here as needed, e.g.:\n",
    "    # \"7d8\": 7@H(8),\n",
    "    # \"d12 + d8\": H(12) + H(8),\n",
    "}\n",
    "\n",
    "showit(DAMAGE_DICE)"
   ]
  }
 ],
 "metadata": {
  "kernelspec": {
   "display_name": "Python 3 (ipykernel)",
   "language": "python",
   "name": "python3"
  },
  "language_info": {
   "codemirror_mode": {
    "name": "ipython",
    "version": 3
   },
   "file_extension": ".py",
   "mimetype": "text/x-python",
   "name": "python",
   "nbconvert_exporter": "python",
   "pygments_lexer": "ipython3",
   "version": "3.10.5"
  }
 },
 "nbformat": 4,
 "nbformat_minor": 5
}
