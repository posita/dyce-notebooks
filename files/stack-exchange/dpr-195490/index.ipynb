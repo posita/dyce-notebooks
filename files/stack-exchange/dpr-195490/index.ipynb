{
 "cells": [
  {
   "cell_type": "markdown",
   "id": "189ea1dd-7425-4a19-a7e7-6201a3421000",
   "metadata": {},
   "source": [
    "To view: 👉👉👉 [![Launch Binder](https://mybinder.org/badge_logo.svg)](https://mybinder.org/v2/gist/posita/c479522963f34c149e22871667b5cc03/HEAD?labpath=_dpr.ipynb) 👈👈👈\n",
    "\n",
    "## [``dyce``](https://posita.github.io/dyce/) solution to [“Can I get some help on calculating damage per round in my homebrew, that mixes d20s and d6s?”](https://rpg.stackexchange.com/q/195490)\n",
    "\n",
    "Once viewing this notebook in Jupyter Lab, select ``Run All Cells`` from the ``Run`` menu above."
   ]
  },
  {
   "cell_type": "code",
   "execution_count": 1,
   "id": "490f98b7-f008-4364-be22-1881237f0c5c",
   "metadata": {},
   "outputs": [],
   "source": [
    "# Install additional requirements if necessary\n",
    "try:\n",
    "    import anydyce\n",
    "    import dyce\n",
    "    import ipywidgets\n",
    "except ImportError:\n",
    "    requirements = [\n",
    "        \"anydyce>=0.1.4,<0.2\",\n",
    "        \"dyce>=0.5.2,<0.6\",\n",
    "        \"ipywidgets\",\n",
    "    ]\n",
    "    try:\n",
    "        import piplite\n",
    "        await piplite.install(requirements)\n",
    "    except ImportError:\n",
    "        import pip\n",
    "        pip.main([\"install\"] + requirements)"
   ]
  },
  {
   "cell_type": "code",
   "execution_count": null,
   "id": "963aa6f9-1179-4b9a-b4f0-c7b9badc61aa",
   "metadata": {},
   "outputs": [],
   "source": [
    "from calc import show\n",
    "show()"
   ]
  }
 ],
 "metadata": {
  "kernelspec": {
   "display_name": "Python 3 (ipykernel)",
   "language": "python",
   "name": "python3"
  },
  "language_info": {
   "codemirror_mode": {
    "name": "ipython",
    "version": 3
   },
   "file_extension": ".py",
   "mimetype": "text/x-python",
   "name": "python",
   "nbconvert_exporter": "python",
   "pygments_lexer": "ipython3",
   "version": "3.9.10"
  }
 },
 "nbformat": 4,
 "nbformat_minor": 5
}
