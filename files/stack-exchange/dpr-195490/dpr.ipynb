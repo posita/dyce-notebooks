{
 "cells": [
  {
   "cell_type": "markdown",
   "id": "189ea1dd-7425-4a19-a7e7-6201a3421000",
   "metadata": {},
   "source": [
    "Launch interactive version: 👉👉👉 [![Try ``dyce``](https://jupyterlite.readthedocs.io/en/latest/_static/badge.svg)](https://posita.github.io/dyce-notebooks/lab?path=stack-exchange%2Fdpr-195490%2Fdpr.ipynb) 👈👈👈 *[[source](https://github.com/posita/dyce-notebooks/tree/main/notebooks/stack-exchange/dpr-195490)]*\n",
    "\n",
    "## [``dyce``](https://posita.github.io/dyce/) solution to [“Can I get some help on calculating damage per round in my homebrew, that mixes d20s and d6s?”](https://rpg.stackexchange.com/a/195503/71245)\n",
    "\n",
    "Once viewing this notebook in Jupyter Lab, select ``Run All Cells`` from the ``Run`` menu above."
   ]
  },
  {
   "cell_type": "code",
   "execution_count": 1,
   "id": "490f98b7-f008-4364-be22-1881237f0c5c",
   "metadata": {},
   "outputs": [],
   "source": [
    "# Install additional requirements if necessary\n",
    "import warnings\n",
    "with warnings.catch_warnings():\n",
    "    warnings.simplefilter(\"ignore\")\n",
    "    try:\n",
    "        import anydyce\n",
    "    except (ImportError, ModuleNotFoundError):\n",
    "        requirements = [\"anydyce~=0.1.4\"]\n",
    "        try:\n",
    "            import piplite ; await piplite.install(requirements)\n",
    "        except ImportError:\n",
    "            import pip ; pip.main([\"install\"] + requirements)\n",
    "    import anydyce"
   ]
  },
  {
   "cell_type": "markdown",
   "id": "1b1cc192-700b-47d8-961e-0945a85215d4",
   "metadata": {},
   "source": [
    "Substantive code is in [``dpr.py``](dpr.py)."
   ]
  },
  {
   "cell_type": "code",
   "execution_count": 2,
   "id": "a0656695-19f3-4a46-b164-9f0c22442ab1",
   "metadata": {},
   "outputs": [
    {
     "data": {
      "application/vnd.jupyter.widget-view+json": {
       "model_id": "e32f57ffc9f944169131170fa3a62fbb",
       "version_major": 2,
       "version_minor": 0
      },
      "text/plain": [
       "VBox(children=(RadioButtons(options=(('PC attacking', <ContestType.PC_ATTACKS: 1>), ('PC defending', <ContestT…"
      ]
     },
     "metadata": {},
     "output_type": "display_data"
    },
    {
     "data": {
      "application/vnd.jupyter.widget-view+json": {
       "model_id": "fc6e0fd162ce4ad6b030f23d7287bf2b",
       "version_major": 2,
       "version_minor": 0
      },
      "text/plain": [
       "Output()"
      ]
     },
     "metadata": {},
     "output_type": "display_data"
    }
   ],
   "source": [
    "from showit import showit\n",
    "showit()"
   ]
  }
 ],
 "metadata": {
  "kernelspec": {
   "display_name": "Python 3 (ipykernel)",
   "language": "python",
   "name": "python3"
  },
  "language_info": {
   "codemirror_mode": {
    "name": "ipython",
    "version": 3
   },
   "file_extension": ".py",
   "mimetype": "text/x-python",
   "name": "python",
   "nbconvert_exporter": "python",
   "pygments_lexer": "ipython3",
   "version": "3.10.5"
  }
 },
 "nbformat": 4,
 "nbformat_minor": 5
}
