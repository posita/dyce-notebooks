{
 "cells": [
  {
   "cell_type": "markdown",
   "id": "189ea1dd-7425-4a19-a7e7-6201a3421000",
   "metadata": {},
   "source": [
    "Launch interactive version: 👉👉👉 [![Try ``dyce``](https://jupyterlite.readthedocs.io/en/latest/_static/badge.svg)](https://posita.github.io/dyce-notebooks/lab?path=stack-exchange%2Fdpr-195490%2Fdpr.ipynb) 👈👈👈 *[[source](https://github.com/posita/dyce-notebooks/tree/main/notebooks/stack-exchange/dpr-195490)]*\n",
    "\n",
    "## [``dyce``](https://posita.github.io/dyce/) solution to [“Can I get some help on calculating damage per round in my homebrew, that mixes d20s and d6s?”](https://rpg.stackexchange.com/a/195503/71245)\n",
    "\n",
    "Once viewing this notebook in Jupyter Lab, select ``Run All Cells`` from the ``Run`` menu above."
   ]
  },
  {
   "cell_type": "code",
   "execution_count": 1,
   "id": "490f98b7-f008-4364-be22-1881237f0c5c",
   "metadata": {
    "jupyter": {
     "source_hidden": true
    }
   },
   "outputs": [],
   "source": [
    "# Install additional requirements if necessary\n",
    "import warnings\n",
    "with warnings.catch_warnings():\n",
    "    warnings.simplefilter(\"ignore\")\n",
    "    try:\n",
    "        import anydyce\n",
    "    except (ImportError, ModuleNotFoundError):\n",
    "        # See <https://jupyterlite.readthedocs.io/en/stable/howto/configure/simple_extensions.html#avoid-the-drift-of-versions-between-the-frontend-extension-and-the-python-package>\n",
    "        requirements = [\"ipycanvas==0.13.2\", \"ipyevents==2.0.1\", \"ipympl==0.9.4\", \"ipywidgets==8.1.3\", \"anydyce==0.4.6\"]\n",
    "        try:\n",
    "            import piplite ; await piplite.install(requirements, keep_going=True)\n",
    "            # Work around <https://github.com/jupyterlite/jupyterlite/issues/838>\n",
    "            import matplotlib.pyplot ; matplotlib.pyplot.clf()\n",
    "        except ImportError:\n",
    "            import pip ; pip.main([\"install\"] + requirements)\n",
    "    import anydyce\n",
    "\n",
    "try:\n",
    "    import showit\n",
    "except ImportError:\n",
    "    # Work-around for JupyterLite in non-Chromium browsers\n",
    "    import js\n",
    "    import os\n",
    "    from urllib.parse import urljoin, urlparse, urlunparse\n",
    "    loc_url = urlparse(js.location.toString())\n",
    "    ext_root = loc_url.path.find(\"/extensions/@jupyterlite/\")\n",
    "    if ext_root < 0:\n",
    "        base_url = urljoin(js.location.toString(), \"../files/\")\n",
    "    else:\n",
    "        loc_url = loc_url._replace(path=loc_url.path[:ext_root])\n",
    "        base_url = urljoin(urlunparse(loc_url), \"files/\")\n",
    "    for path in (\n",
    "                \"stack-exchange/dpr-195490/dpr.py\",\n",
    "                \"stack-exchange/dpr-195490/showit.py\",\n",
    "            ):\n",
    "        url = urljoin(base_url, path)\n",
    "        res = await js.fetch(url)\n",
    "        assert 200 <= res.status < 300\n",
    "        text = await res.text()\n",
    "        with open(os.path.basename(path), \"w\") as f:\n",
    "            f.write(text)\n",
    "    import showit"
   ]
  },
  {
   "cell_type": "markdown",
   "id": "1b1cc192-700b-47d8-961e-0945a85215d4",
   "metadata": {},
   "source": [
    "Substantive code is in [``dpr.py``](dpr.py)."
   ]
  },
  {
   "cell_type": "code",
   "execution_count": 2,
   "id": "a0656695-19f3-4a46-b164-9f0c22442ab1",
   "metadata": {},
   "outputs": [
    {
     "data": {
      "application/vnd.jupyter.widget-view+json": {
       "model_id": "9341d7c49d2246c8b2592b56b0a2e9cf",
       "version_major": 2,
       "version_minor": 0
      },
      "text/plain": [
       "VBox(children=(RadioButtons(options=(('PC attacking', <ContestType.PC_ATTACKS: 1>), ('PC defending', <ContestT…"
      ]
     },
     "metadata": {},
     "output_type": "display_data"
    },
    {
     "data": {
      "application/vnd.jupyter.widget-view+json": {
       "model_id": "7362a7365d204ef993b01ef3dd76d7a2",
       "version_major": 2,
       "version_minor": 0
      },
      "text/plain": [
       "Output()"
      ]
     },
     "metadata": {},
     "output_type": "display_data"
    },
    {
     "data": {
      "application/vnd.jupyter.widget-view+json": {
       "model_id": "9c379be20a4b4e65a402101e58569817",
       "version_major": 2,
       "version_minor": 0
      },
      "text/plain": [
       "VBox(children=(Accordion(children=(Tab(children=(VBox(children=(HBox(children=(VBox(children=(VBox(children=(C…"
      ]
     },
     "metadata": {},
     "output_type": "display_data"
    }
   ],
   "source": [
    "from showit import showit\n",
    "showit()"
   ]
  }
 ],
 "metadata": {
  "kernelspec": {
   "display_name": "Python 3 (ipykernel)",
   "language": "python",
   "name": "python3"
  },
  "language_info": {
   "codemirror_mode": {
    "name": "ipython",
    "version": 3
   },
   "file_extension": ".py",
   "mimetype": "text/x-python",
   "name": "python",
   "nbconvert_exporter": "python",
   "pygments_lexer": "ipython3",
   "version": "3.11.4"
  }
 },
 "nbformat": 4,
 "nbformat_minor": 5
}
