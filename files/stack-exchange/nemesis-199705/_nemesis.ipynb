{
 "cells": [
  {
   "cell_type": "markdown",
   "id": "8c0959c1-a8f3-42e1-8762-3abed2f1c37e",
   "metadata": {},
   "source": [
    "Launch interactive version: 👉👉👉 [![Try ``dyce``](https://jupyterlite.readthedocs.io/en/latest/_static/badge.svg)](https://posita.github.io/dyce-notebooks/lab?path=stack-exchange%2Fnemesis-199705%2F_nemesis.ipynb) 👈👈👈 *[[source](https://github.com/posita/dyce-notebooks/tree/main/notebooks/stack-exchange/nemesis-199705)]*\n",
    "\n",
    "## [``dyce``](https://posita.github.io/dyce/) solution to [“How do I model an iterated series of combat rounds in Anydice?”](https://rpg.stackexchange.com/q/199705/71245)\n",
    "\n",
    "Once viewing this notebook in Jupyter Lab, select ``Run All Cells`` from the ``Run`` menu above."
   ]
  },
  {
   "cell_type": "code",
   "execution_count": 1,
   "id": "0b78a468-35ae-4de3-a931-8a96b79e1e92",
   "metadata": {},
   "outputs": [],
   "source": [
    "# Install additional requirements if necessary\n",
    "try:\n",
    "    import anydyce, ipywidgets\n",
    "except ImportError:\n",
    "    requirements = [\"anydyce~=0.1.4\", \"ipywidgets\"]\n",
    "    try:\n",
    "        import piplite\n",
    "        await piplite.install(requirements)\n",
    "    except ImportError:\n",
    "        import pip\n",
    "        pip.main([\"install\"] + requirements)"
   ]
  },
  {
   "cell_type": "markdown",
   "id": "5a2d8d02-4eae-4883-b355-18dcdbc3dd9a",
   "metadata": {},
   "source": [
    "Substantive code is in [``nemesis.py``](nemesis.py)."
   ]
  },
  {
   "cell_type": "code",
   "execution_count": 2,
   "id": "3d79e75e-c92a-451b-a137-44185aca0368",
   "metadata": {},
   "outputs": [
    {
     "data": {
      "application/vnd.jupyter.widget-view+json": {
       "model_id": "4a2f6ac350884d10a10718f3e61f5f95",
       "version_major": 2,
       "version_minor": 0
      },
      "text/plain": [
       "HBox(children=(VBox(children=(HTML(value='<b>Player</b>'), IntSlider(value=4, continuous_update=False, descrip…"
      ]
     },
     "metadata": {},
     "output_type": "display_data"
    },
    {
     "data": {
      "application/vnd.jupyter.widget-view+json": {
       "model_id": "cc65c5c98cd44579985edca186a27671",
       "version_major": 2,
       "version_minor": 0
      },
      "text/plain": [
       "Output()"
      ]
     },
     "metadata": {},
     "output_type": "display_data"
    }
   ],
   "source": [
    "from showit import showit\n",
    "showit()"
   ]
  }
 ],
 "metadata": {
  "kernelspec": {
   "display_name": "Python 3 (ipykernel)",
   "language": "python",
   "name": "python3"
  },
  "language_info": {
   "codemirror_mode": {
    "name": "ipython",
    "version": 3
   },
   "file_extension": ".py",
   "mimetype": "text/x-python",
   "name": "python",
   "nbconvert_exporter": "python",
   "pygments_lexer": "ipython3",
   "version": "3.9.10"
  }
 },
 "nbformat": 4,
 "nbformat_minor": 5
}
