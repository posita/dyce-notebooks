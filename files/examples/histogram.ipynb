{
 "cells": [
  {
   "cell_type": "markdown",
   "id": "23aeb6d2",
   "metadata": {},
   "source": [
    "## Basic visualization in [``dyce``](https://posita.github.io/dyce/)\n",
    "\n",
    "Select ``Run All Cells`` from the ``Run`` menu above."
   ]
  },
  {
   "cell_type": "code",
   "execution_count": 1,
   "id": "08e159de-f126-418c-a813-625f9d990dd9",
   "metadata": {},
   "outputs": [],
   "source": [
    "# Install additional requirements if necessary\n",
    "try:\n",
    "    import dyce\n",
    "except ImportError:\n",
    "    import pip\n",
    "    pip.main([\"install\", \"--requirement\", \"requirements.txt\"])"
   ]
  },
  {
   "cell_type": "code",
   "execution_count": null,
   "id": "8fa1442b-2d3b-4548-a349-30092cf7119f",
   "metadata": {},
   "outputs": [],
   "source": [
    "from dyce import H, P\n",
    "from anydyce.viz import BreakoutType, jupyter_visualize\n",
    "\n",
    "jupyter_visualize(\n",
    "    [3 @ H(6)],\n",
    "    default_breakout_type=BreakoutType.BURST,\n",
    "    default_main_plot_type=\"bar\",\n",
    ")"
   ]
  }
 ],
 "metadata": {
  "kernelspec": {
   "display_name": "Python 3 (ipykernel)",
   "language": "python",
   "name": "python3"
  },
  "language_info": {
   "codemirror_mode": {
    "name": "ipython",
    "version": 3
   },
   "file_extension": ".py",
   "mimetype": "text/x-python",
   "name": "python",
   "nbconvert_exporter": "python",
   "pygments_lexer": "ipython3",
   "version": "3.9.10"
  }
 },
 "nbformat": 4,
 "nbformat_minor": 5
}
