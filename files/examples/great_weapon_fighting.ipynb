{
 "cells": [
  {
   "cell_type": "markdown",
   "id": "e958429f",
   "metadata": {},
   "source": [
    "## [``dyce``](https://posita.github.io/dyce/) translation of the accepted answer to “[Roll and Keep in Anydice?](https://rpg.stackexchange.com/a/166637)”\n",
    "\n",
    "Select ``Run All Cells`` from the ``Run`` menu above."
   ]
  },
  {
   "cell_type": "code",
   "execution_count": 1,
   "id": "bdcd691e-a3a6-4c1d-afeb-1ffe045f9b7f",
   "metadata": {},
   "outputs": [],
   "source": [
    "# Install additional requirements if necessary\n",
    "try:\n",
    "    import dyce\n",
    "except ImportError:\n",
    "    import pip\n",
    "    pip.main([\"install\", \"--requirement\", \"requirements.txt\"])"
   ]
  },
  {
   "cell_type": "code",
   "execution_count": 2,
   "id": "8c8eb8a4-a31a-49ae-aaff-24bbca5dfa0b",
   "metadata": {},
   "outputs": [],
   "source": [
    "from dyce import H\n",
    "from dyce.expandable import HResult, expand\n",
    "\n",
    "single_attack = 2 @ H(6) + 5\n",
    "\n",
    "def gwf(dmg: HResult):\n",
    "    return dmg.h if dmg.outcome in (1, 2) else dmg.outcome\n",
    "\n",
    "great_weapon_fighting = 2 @ expand(gwf, dmg=H(6)) + 5"
   ]
  },
  {
   "cell_type": "code",
   "execution_count": null,
   "id": "2b195ca9",
   "metadata": {},
   "outputs": [],
   "source": [
    "from anydyce.viz import BreakoutType, jupyter_visualize\n",
    "\n",
    "jupyter_visualize(\n",
    "    [\n",
    "        (\"Normal attack\", single_attack),\n",
    "        (\"“Great Weapon Fighting”\", great_weapon_fighting),\n",
    "    ],\n",
    "    default_breakout_type=BreakoutType.BURST,\n",
    ")"
   ]
  }
 ],
 "metadata": {
  "kernelspec": {
   "display_name": "Python 3 (ipykernel)",
   "language": "python",
   "name": "python3"
  },
  "language_info": {
   "codemirror_mode": {
    "name": "ipython",
    "version": 3
   },
   "file_extension": ".py",
   "mimetype": "text/x-python",
   "name": "python",
   "nbconvert_exporter": "python",
   "pygments_lexer": "ipython3",
   "version": "3.9.10"
  }
 },
 "nbformat": 4,
 "nbformat_minor": 5
}
