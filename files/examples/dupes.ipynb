{
 "cells": [
  {
   "cell_type": "markdown",
   "id": "bed8e9d6",
   "metadata": {},
   "source": [
    "## [``dyce``](https://posita.github.io/dyce/) translation of the accepted answer to “[How do I count the number of duplicates in anydice?](https://rpg.stackexchange.com/a/111421)”\n",
    "\n",
    "Select ``Run All Cells`` from the ``Run`` menu above."
   ]
  },
  {
   "cell_type": "code",
   "execution_count": 1,
   "id": "7ec43df0-13c3-49cf-961d-b58ad9de15ff",
   "metadata": {},
   "outputs": [],
   "source": [
    "# Install additional requirements if necessary\n",
    "try:\n",
    "    import dyce\n",
    "except ImportError:\n",
    "    import pip\n",
    "    pip.main([\"install\", \"--requirement\", \"requirements.txt\"])"
   ]
  },
  {
   "cell_type": "code",
   "execution_count": 2,
   "id": "c09770bc-59b3-4454-bb7e-b54915a07fa8",
   "metadata": {},
   "outputs": [],
   "source": [
    "from dyce import P\n",
    "from dyce.expandable import PResult, expand\n",
    "\n",
    "def dupes(p_result: PResult):\n",
    "    dupes = 0\n",
    "    for i in range(1, len(p_result.roll)):\n",
    "        if p_result.roll[i] == p_result.roll[i - 1]:\n",
    "            dupes += 1\n",
    "    return dupes\n",
    "\n",
    "res_15d6 = expand(dupes, p_result=15 @ P(6))\n",
    "res_8d10 = expand(dupes, p_result=8 @ P(10))"
   ]
  },
  {
   "cell_type": "code",
   "execution_count": null,
   "id": "82d8b172",
   "metadata": {},
   "outputs": [],
   "source": [
    "from anydyce.viz import BreakoutType, jupyter_visualize\n",
    "\n",
    "jupyter_visualize(\n",
    "    [(\"15d6\", res_15d6), (\"8d10\", res_8d10)],\n",
    "    default_breakout_type=BreakoutType.BURST,\n",
    "    default_main_plot_type=\"scatter\",\n",
    ")"
   ]
  }
 ],
 "metadata": {
  "kernelspec": {
   "display_name": "Python 3 (ipykernel)",
   "language": "python",
   "name": "python3"
  },
  "language_info": {
   "codemirror_mode": {
    "name": "ipython",
    "version": 3
   },
   "file_extension": ".py",
   "mimetype": "text/x-python",
   "name": "python",
   "nbconvert_exporter": "python",
   "pygments_lexer": "ipython3",
   "version": "3.9.10"
  }
 },
 "nbformat": 4,
 "nbformat_minor": 5
}
