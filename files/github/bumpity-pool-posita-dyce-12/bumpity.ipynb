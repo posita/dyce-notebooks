{
 "cells": [
  {
   "cell_type": "markdown",
   "id": "9ac1d369-b80b-4108-bb84-4e60d9e257cb",
   "metadata": {},
   "source": [
    "Launch interactive version: 👉👉👉 [![Try ``dyce``](https://jupyterlite.readthedocs.io/en/latest/_static/badge.svg)](https://posita.github.io/dyce-notebooks/lab?path=github%2Fbumpity-posita-dyce-12%2Fbumpity.ipynb) 👈👈👈 *[[source](https://github.com/posita/dyce-notebooks/tree/main/notebooks/github/bumpity-posita-dyce-12)]*\n",
    "\n",
    "## [``dyce``](https://posita.github.io/dyce/) solution to [“ Nth Die of 5D20 Plus Bump & Meta Die mechanic help”](https://github.com/posita/dyce/discussions/12)\n",
    "\n",
    "Once viewing this notebook in Jupyter Lab, select ``Run All Cells`` from the ``Run`` menu above."
   ]
  },
  {
   "cell_type": "code",
   "execution_count": 1,
   "id": "9fd4003c-b0b7-4def-9a91-746a49340f06",
   "metadata": {},
   "outputs": [],
   "source": [
    "# Install additional requirements if necessary\n",
    "import warnings\n",
    "with warnings.catch_warnings():\n",
    "    warnings.simplefilter(\"ignore\")\n",
    "    try:\n",
    "        import anydyce\n",
    "    except (ImportError, ModuleNotFoundError):\n",
    "        requirements = [\"anydyce~=0.4.0\", \"icepool~=0.29\"]\n",
    "        try:\n",
    "            import piplite ; await piplite.install(requirements)\n",
    "            # Work around <https://github.com/jupyterlite/jupyterlite/issues/838>\n",
    "            import matplotlib.pyplot ; matplotlib.pyplot.clf()\n",
    "        except ImportError:\n",
    "            import pip ; pip.main([\"install\"] + requirements)\n",
    "    import anydyce\n",
    "\n",
    "try:\n",
    "    import showit\n",
    "except ImportError:\n",
    "    # Work-around for JupyterLite in non-Chromium browsers\n",
    "    import js\n",
    "    import os\n",
    "    from urllib.parse import urljoin, urlparse, urlunparse\n",
    "    loc_url = urlparse(js.location.toString())\n",
    "    ext_root = loc_url.path.find(\"/extensions/@jupyterlite/\")\n",
    "    if ext_root < 0:\n",
    "        base_url = urljoin(js.location.toString(), \"../files/\")\n",
    "    else:\n",
    "        loc_url = loc_url._replace(path=loc_url.path[:ext_root])\n",
    "        base_url = urljoin(urlunparse(loc_url), \"files/\")\n",
    "    for path in (\n",
    "                \"github/bumpity-pool-posita-dyce-12/dyce_impl.py\",\n",
    "                \"github/bumpity-pool-posita-dyce-12/icepool_impl.py\",\n",
    "                \"github/bumpity-pool-posita-dyce-12/params.py\",\n",
    "                \"github/bumpity-pool-posita-dyce-12/showit.py\",\n",
    "            ):\n",
    "        url = urljoin(base_url, path)\n",
    "        res = await js.fetch(url)\n",
    "        assert 200 <= res.status < 300\n",
    "        text = await res.text()\n",
    "        with open(os.path.basename(path), \"w\") as f:\n",
    "            f.write(text)\n",
    "    import showit"
   ]
  },
  {
   "cell_type": "markdown",
   "id": "a0741203-3045-4f52-9073-e9bf0818a52e",
   "metadata": {},
   "source": [
    "Code can be found in:\n",
    "\n",
    "* [``dyce_impl.py``](dyce_impl.py) - primary implementation\n",
    "* [``icepool_impl.py``](icepool_impl.py) [icepool](https://github.com/HighDiceRoller/icepool) variant\n",
    "* [``params.py``](params.py) - parsing and parameter validation\n",
    "* [``showit.py``](showit.py) - interactive UI\n",
    "\n",
    "The UI accepts inputs (one per line) of the following format:\n",
    "\n",
    "```\n",
    "{M}s {N}b @{C} [ >{A} | <{D} ] [ +@{I} ... ] [ # {comment} ]\n",
    "```\n",
    "\n",
    "Whitespace is ignored. `{…}` indicates a variable. `[…]` indicates optional notation. `… | …` indicates a selection. `… ...` indicates repetition.\n",
    "\n",
    "* `{M}` - integer > 0; the number of standard dice in the pool\n",
    "* `{N}` - integer >= 0; the number of bump dice in the pool\n",
    "* `{C}` - integer >= 1, <= total pool size; the one-based index of the set die\n",
    "* `{A}` - integer >= 1; an optional scale of the advantage (mutually exclusive from `<{D}`)\n",
    "* `{D}` - integer >= 1; an optional scale of the disadvantage (mutually exclusive from `>{A}`)\n",
    "* `{I}` - integer >= 1; one or more optional one-based index(es) of any bonus(es)\n",
    "* `{comment}` - string; an optional user comment\n",
    "\n",
    "Examples:\n",
    "\n",
    "* `3s2b@1` - use a pool of three standard dice and two bump dice, with the first (lowest) die as the set die\n",
    "* `1s4b@5+@5` - use a pool of 1 standard die and four bump dice, with the fifth (highest) die as the set die, adding the fifth (highest) die as a bonus\n",
    "* `1s4b@5<2` - use a pool of 1 standard die and four bump dice, with the fifth (highest) die as the set die, with two disadvantage dice\n",
    "* `4s1b@2>1+@3+@3  # Whoo boy!` - use a pool of four standard dice and one bump die, with the second die as the set die, with one advantage die, adding the third die as a bonus (twice), with a comment of `Whoo boy!`\n",
    "\n",
    "Unparseable lines are silently ignored."
   ]
  },
  {
   "cell_type": "code",
   "execution_count": 2,
   "id": "b4d370f2-dd20-44e2-b484-c33656c9beaf",
   "metadata": {},
   "outputs": [
    {
     "data": {
      "application/vnd.jupyter.widget-view+json": {
       "model_id": "fd5ea714e3264920a2e4d6cfe26792c6",
       "version_major": 2,
       "version_minor": 0
      },
      "text/plain": [
       "HBox(children=(Dropdown(description='Implementation', options={'dyce (explosions fudged within limit)': <funct…"
      ]
     },
     "metadata": {},
     "output_type": "display_data"
    },
    {
     "data": {
      "application/vnd.jupyter.widget-view+json": {
       "model_id": "42f421ced48c47e8a8bc0e3458e6fc44",
       "version_major": 2,
       "version_minor": 0
      },
      "text/plain": [
       "Output()"
      ]
     },
     "metadata": {},
     "output_type": "display_data"
    },
    {
     "data": {
      "application/vnd.jupyter.widget-view+json": {
       "model_id": "011410d2cf16481e90ad9b82329fc87b",
       "version_major": 2,
       "version_minor": 0
      },
      "text/plain": [
       "VBox(children=(Accordion(children=(Tab(children=(VBox(children=(HBox(children=(VBox(children=(VBox(children=(C…"
      ]
     },
     "metadata": {},
     "output_type": "display_data"
    }
   ],
   "source": [
    "from dyce import H\n",
    "from showit import showit\n",
    "\n",
    "die_map = {\n",
    "    \"d4\": H(4),\n",
    "    \"d6\": H(6),\n",
    "    \"d8\": H(8),\n",
    "    \"d10\": H(10),\n",
    "    \"d12\": H(12),\n",
    "    \"d20\": H(20),\n",
    "    \"d0\": H({0: 1}),\n",
    "    \"d10*2\": H(10) * 2,\n",
    "}\n",
    "\n",
    "notations = r\"\"\"\n",
    "5s0b@3  # for stat 10\n",
    "4s1b@3  # for stat 11\n",
    "3s2b@3  # for stat 12\n",
    "\n",
    "[d10*2]5s0b@3  # for stat 10 (d10*2)\n",
    "[d10*2]4s1b@3  # for stat 11 (d10*2)\n",
    "[d10*2]3s2b@3  # for stat 12 (d10*2)\n",
    "\n",
    "2s3b@3  # for stat 13\n",
    "1s4b@3  # for stat 14\n",
    "[d0]1s0b@1  # spacer (ignore)\n",
    "\n",
    "[d10*2]2s3b@3  # for stat 13 (d10*2)\n",
    "[d10*2]1s4b@3  # for stat 14 (d10*2)\n",
    "[d0]1s0b@1  # spacer (ignore)\n",
    "\n",
    "[d6]2s3b@5>2+@3\n",
    "\"\"\"\n",
    "\n",
    "showit(notations, die_map, selected_die=die_map[\"d20\"])"
   ]
  }
 ],
 "metadata": {
  "kernelspec": {
   "display_name": "Python 3 (ipykernel)",
   "language": "python",
   "name": "python3"
  },
  "language_info": {
   "codemirror_mode": {
    "name": "ipython",
    "version": 3
   },
   "file_extension": ".py",
   "mimetype": "text/x-python",
   "name": "python",
   "nbconvert_exporter": "python",
   "pygments_lexer": "ipython3",
   "version": "3.11.4"
  }
 },
 "nbformat": 4,
 "nbformat_minor": 5
}
