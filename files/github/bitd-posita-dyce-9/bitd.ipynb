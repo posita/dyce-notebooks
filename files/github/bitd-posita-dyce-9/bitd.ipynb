{
 "cells": [
  {
   "cell_type": "markdown",
   "id": "af5b1b97-0651-417c-9c1e-65de452eed47",
   "metadata": {},
   "source": [
    "Launch interactive version: 👉👉👉 [![Try ``dyce``](https://jupyterlite.readthedocs.io/en/latest/_static/badge.svg)](https://posita.github.io/dyce-notebooks/lab?path=github%2Fbitd-posita-dyce-9%2Fbitd.ipynb) 👈👈👈 *[[source](https://github.com/posita/dyce-notebooks/tree/main/notebooks/github/bitd-posita-dyce-9)]*\n",
    "\n",
    "## [``dyce``](https://posita.github.io/dyce/) solution to [“BitD Example”](https://github.com/posita/dyce/discussions/9)\n",
    "\n",
    "Once viewing this notebook in Jupyter Lab, select ``Run All Cells`` from the ``Run`` menu above."
   ]
  },
  {
   "cell_type": "code",
   "execution_count": 1,
   "id": "c371b9b7-3f66-42aa-a467-3f9e95f54840",
   "metadata": {},
   "outputs": [],
   "source": [
    "# Install additional requirements if necessary\n",
    "import warnings\n",
    "with warnings.catch_warnings():\n",
    "    warnings.simplefilter(\"ignore\")\n",
    "    try:\n",
    "        import anydyce\n",
    "    except (ImportError, ModuleNotFoundError):\n",
    "        requirements = [\"anydyce~=0.4.0\"]\n",
    "        try:\n",
    "            import piplite ; await piplite.install(requirements)\n",
    "            # Work around <https://github.com/jupyterlite/jupyterlite/issues/838>\n",
    "            import matplotlib.pyplot ; matplotlib.pyplot.clf()\n",
    "        except ImportError:\n",
    "            import pip ; pip.main([\"install\"] + requirements)\n",
    "    import anydyce"
   ]
  },
  {
   "cell_type": "code",
   "execution_count": 2,
   "id": "681652c8-181a-4917-b8df-61fe97dff19f",
   "metadata": {},
   "outputs": [
    {
     "name": "stdout",
     "output_type": "stream",
     "text": [
      "avg |    2.97\n",
      "std |    0.20\n",
      "var |    0.04\n",
      "  0 |   0.00% |\n",
      "  1 |   0.42% |\n",
      "  2 |   2.53% |#\n",
      "  3 |  97.05% |##################################################\n"
     ]
    }
   ],
   "source": [
    "from dyce import H, P\n",
    "from dyce.evaluation import PResult, PWithSelection, foreach\n",
    "from enum import IntEnum, auto\n",
    "\n",
    "class BitdResult(IntEnum):\n",
    "    BAD_TIMES = 0\n",
    "    MESSY_SUCCESS = auto()\n",
    "    CLEAN_SUCCESS = auto()\n",
    "    CRITICAL_SUCCESS = auto()\n",
    "\n",
    "d_bitd = H({\n",
    "    BitdResult.BAD_TIMES: 3,\n",
    "    BitdResult.MESSY_SUCCESS: 2,\n",
    "    BitdResult.CLEAN_SUCCESS: 1,\n",
    "})\n",
    "\n",
    "def bitd(n: int) -> H:\n",
    "    assert n >= 0\n",
    "\n",
    "    def _mechanic(res: PResult):\n",
    "        if res.roll[-2] == BitdResult.CLEAN_SUCCESS:\n",
    "            return BitdResult.CRITICAL_SUCCESS\n",
    "        else:\n",
    "            return BitdResult(res.roll[-1])\n",
    "\n",
    "    if n == 0:\n",
    "        return (2 @ P(d_bitd)).h(0)  # take lower of two dice (no critical success possible)\n",
    "    elif n == 1:\n",
    "        return d_bitd  # just rolling a single die (also no critical success possible)\n",
    "    else:\n",
    "        return foreach(_mechanic, PWithSelection(n @ P(d_bitd), (slice(-2, None),)))  # now we're cooking with gas!\n",
    "\n",
    "print(bitd(30).format(scaled=True))  # works for huge pools"
   ]
  },
  {
   "cell_type": "code",
   "execution_count": 3,
   "id": "09199085-170b-4c4d-8933-95e95b3db1c5",
   "metadata": {},
   "outputs": [
    {
     "data": {
      "application/vnd.jupyter.widget-view+json": {
       "model_id": "07d571e446ba437d94eb2f727e84105a",
       "version_major": 2,
       "version_minor": 0
      },
      "text/plain": [
       "VBox(children=(Accordion(children=(Tab(children=(VBox(children=(HBox(children=(VBox(children=(VBox(children=(C…"
      ]
     },
     "metadata": {},
     "output_type": "display_data"
    }
   ],
   "source": [
    "from anydyce import jupyter_visualize\n",
    "\n",
    "results: list[str, H] = []\n",
    "\n",
    "for n in range(9):\n",
    "    h = bitd(n)\n",
    "    h = H((BitdResult(outcome), count) for outcome, count in h.items())  # reconstruct with enum outcomes\n",
    "    results.append((f\"{n}d\", h))\n",
    "\n",
    "jupyter_visualize(results, initial_burst_zero_fill_normalize=True)"
   ]
  }
 ],
 "metadata": {
  "kernelspec": {
   "display_name": "Python 3 (ipykernel)",
   "language": "python",
   "name": "python3"
  },
  "language_info": {
   "codemirror_mode": {
    "name": "ipython",
    "version": 3
   },
   "file_extension": ".py",
   "mimetype": "text/x-python",
   "name": "python",
   "nbconvert_exporter": "python",
   "pygments_lexer": "ipython3",
   "version": "3.11.4"
  }
 },
 "nbformat": 4,
 "nbformat_minor": 5
}
